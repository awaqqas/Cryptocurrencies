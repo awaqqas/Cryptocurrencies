{
 "cells": [
  {
   "cell_type": "markdown",
   "source": [
    "# Clustering Crypto"
   ],
   "metadata": {}
  },
  {
   "cell_type": "code",
   "execution_count": 21,
   "source": [
    "# Initial imports\n",
    "import pandas as pd\n",
    "import hvplot.pandas\n",
    "from path import Path\n",
    "import plotly.express as px\n",
    "from sklearn.preprocessing import StandardScaler, MinMaxScaler\n",
    "from sklearn.decomposition import PCA\n",
    "from sklearn.cluster import KMeans\n",
    "from matplotlib import pyplot as plt\n"
   ],
   "outputs": [],
   "metadata": {}
  },
  {
   "cell_type": "markdown",
   "source": [
    "### Deliverable 1: Preprocessing the Data for PCA"
   ],
   "metadata": {}
  },
  {
   "cell_type": "code",
   "execution_count": 5,
   "source": [
    "# Load the crypto_data.csv dataset.\n",
    "file_path = Path('crypto_data.csv')\n",
    "crypto_df = pd.read_csv(file_path)\n",
    "crypto_df.rename(columns={'Unnamed: 0':'Ticker'},inplace=True)\n",
    "crypto_df.set_index('Ticker',inplace=True)\n",
    "crypto_df.head()"
   ],
   "outputs": [
    {
     "output_type": "execute_result",
     "data": {
      "text/html": [
       "<div>\n",
       "<style scoped>\n",
       "    .dataframe tbody tr th:only-of-type {\n",
       "        vertical-align: middle;\n",
       "    }\n",
       "\n",
       "    .dataframe tbody tr th {\n",
       "        vertical-align: top;\n",
       "    }\n",
       "\n",
       "    .dataframe thead th {\n",
       "        text-align: right;\n",
       "    }\n",
       "</style>\n",
       "<table border=\"1\" class=\"dataframe\">\n",
       "  <thead>\n",
       "    <tr style=\"text-align: right;\">\n",
       "      <th></th>\n",
       "      <th>CoinName</th>\n",
       "      <th>Algorithm</th>\n",
       "      <th>IsTrading</th>\n",
       "      <th>ProofType</th>\n",
       "      <th>TotalCoinsMined</th>\n",
       "      <th>TotalCoinSupply</th>\n",
       "    </tr>\n",
       "    <tr>\n",
       "      <th>Ticker</th>\n",
       "      <th></th>\n",
       "      <th></th>\n",
       "      <th></th>\n",
       "      <th></th>\n",
       "      <th></th>\n",
       "      <th></th>\n",
       "    </tr>\n",
       "  </thead>\n",
       "  <tbody>\n",
       "    <tr>\n",
       "      <th>42</th>\n",
       "      <td>42 Coin</td>\n",
       "      <td>Scrypt</td>\n",
       "      <td>True</td>\n",
       "      <td>PoW/PoS</td>\n",
       "      <td>4.199995e+01</td>\n",
       "      <td>42</td>\n",
       "    </tr>\n",
       "    <tr>\n",
       "      <th>365</th>\n",
       "      <td>365Coin</td>\n",
       "      <td>X11</td>\n",
       "      <td>True</td>\n",
       "      <td>PoW/PoS</td>\n",
       "      <td>NaN</td>\n",
       "      <td>2300000000</td>\n",
       "    </tr>\n",
       "    <tr>\n",
       "      <th>404</th>\n",
       "      <td>404Coin</td>\n",
       "      <td>Scrypt</td>\n",
       "      <td>True</td>\n",
       "      <td>PoW/PoS</td>\n",
       "      <td>1.055185e+09</td>\n",
       "      <td>532000000</td>\n",
       "    </tr>\n",
       "    <tr>\n",
       "      <th>611</th>\n",
       "      <td>SixEleven</td>\n",
       "      <td>SHA-256</td>\n",
       "      <td>True</td>\n",
       "      <td>PoW</td>\n",
       "      <td>NaN</td>\n",
       "      <td>611000</td>\n",
       "    </tr>\n",
       "    <tr>\n",
       "      <th>808</th>\n",
       "      <td>808</td>\n",
       "      <td>SHA-256</td>\n",
       "      <td>True</td>\n",
       "      <td>PoW/PoS</td>\n",
       "      <td>0.000000e+00</td>\n",
       "      <td>0</td>\n",
       "    </tr>\n",
       "  </tbody>\n",
       "</table>\n",
       "</div>"
      ],
      "text/plain": [
       "         CoinName Algorithm  IsTrading ProofType  TotalCoinsMined  \\\n",
       "Ticker                                                              \n",
       "42        42 Coin    Scrypt       True   PoW/PoS     4.199995e+01   \n",
       "365       365Coin       X11       True   PoW/PoS              NaN   \n",
       "404       404Coin    Scrypt       True   PoW/PoS     1.055185e+09   \n",
       "611     SixEleven   SHA-256       True       PoW              NaN   \n",
       "808           808   SHA-256       True   PoW/PoS     0.000000e+00   \n",
       "\n",
       "       TotalCoinSupply  \n",
       "Ticker                  \n",
       "42                  42  \n",
       "365         2300000000  \n",
       "404          532000000  \n",
       "611             611000  \n",
       "808                  0  "
      ]
     },
     "metadata": {},
     "execution_count": 5
    }
   ],
   "metadata": {}
  },
  {
   "cell_type": "code",
   "execution_count": 6,
   "source": [
    "# Keep all the cryptocurrencies that are being traded.\n",
    "crypto_df=crypto_df[crypto_df['IsTrading']==True]\n",
    "crypto_df.head()"
   ],
   "outputs": [
    {
     "output_type": "execute_result",
     "data": {
      "text/html": [
       "<div>\n",
       "<style scoped>\n",
       "    .dataframe tbody tr th:only-of-type {\n",
       "        vertical-align: middle;\n",
       "    }\n",
       "\n",
       "    .dataframe tbody tr th {\n",
       "        vertical-align: top;\n",
       "    }\n",
       "\n",
       "    .dataframe thead th {\n",
       "        text-align: right;\n",
       "    }\n",
       "</style>\n",
       "<table border=\"1\" class=\"dataframe\">\n",
       "  <thead>\n",
       "    <tr style=\"text-align: right;\">\n",
       "      <th></th>\n",
       "      <th>CoinName</th>\n",
       "      <th>Algorithm</th>\n",
       "      <th>IsTrading</th>\n",
       "      <th>ProofType</th>\n",
       "      <th>TotalCoinsMined</th>\n",
       "      <th>TotalCoinSupply</th>\n",
       "    </tr>\n",
       "    <tr>\n",
       "      <th>Ticker</th>\n",
       "      <th></th>\n",
       "      <th></th>\n",
       "      <th></th>\n",
       "      <th></th>\n",
       "      <th></th>\n",
       "      <th></th>\n",
       "    </tr>\n",
       "  </thead>\n",
       "  <tbody>\n",
       "    <tr>\n",
       "      <th>42</th>\n",
       "      <td>42 Coin</td>\n",
       "      <td>Scrypt</td>\n",
       "      <td>True</td>\n",
       "      <td>PoW/PoS</td>\n",
       "      <td>4.199995e+01</td>\n",
       "      <td>42</td>\n",
       "    </tr>\n",
       "    <tr>\n",
       "      <th>365</th>\n",
       "      <td>365Coin</td>\n",
       "      <td>X11</td>\n",
       "      <td>True</td>\n",
       "      <td>PoW/PoS</td>\n",
       "      <td>NaN</td>\n",
       "      <td>2300000000</td>\n",
       "    </tr>\n",
       "    <tr>\n",
       "      <th>404</th>\n",
       "      <td>404Coin</td>\n",
       "      <td>Scrypt</td>\n",
       "      <td>True</td>\n",
       "      <td>PoW/PoS</td>\n",
       "      <td>1.055185e+09</td>\n",
       "      <td>532000000</td>\n",
       "    </tr>\n",
       "    <tr>\n",
       "      <th>611</th>\n",
       "      <td>SixEleven</td>\n",
       "      <td>SHA-256</td>\n",
       "      <td>True</td>\n",
       "      <td>PoW</td>\n",
       "      <td>NaN</td>\n",
       "      <td>611000</td>\n",
       "    </tr>\n",
       "    <tr>\n",
       "      <th>808</th>\n",
       "      <td>808</td>\n",
       "      <td>SHA-256</td>\n",
       "      <td>True</td>\n",
       "      <td>PoW/PoS</td>\n",
       "      <td>0.000000e+00</td>\n",
       "      <td>0</td>\n",
       "    </tr>\n",
       "  </tbody>\n",
       "</table>\n",
       "</div>"
      ],
      "text/plain": [
       "         CoinName Algorithm  IsTrading ProofType  TotalCoinsMined  \\\n",
       "Ticker                                                              \n",
       "42        42 Coin    Scrypt       True   PoW/PoS     4.199995e+01   \n",
       "365       365Coin       X11       True   PoW/PoS              NaN   \n",
       "404       404Coin    Scrypt       True   PoW/PoS     1.055185e+09   \n",
       "611     SixEleven   SHA-256       True       PoW              NaN   \n",
       "808           808   SHA-256       True   PoW/PoS     0.000000e+00   \n",
       "\n",
       "       TotalCoinSupply  \n",
       "Ticker                  \n",
       "42                  42  \n",
       "365         2300000000  \n",
       "404          532000000  \n",
       "611             611000  \n",
       "808                  0  "
      ]
     },
     "metadata": {},
     "execution_count": 6
    }
   ],
   "metadata": {}
  },
  {
   "cell_type": "code",
   "execution_count": 7,
   "source": [
    "# Keep all the cryptocurrencies that have a working algorithm.\n",
    "crypto_df=crypto_df[crypto_df['TotalCoinsMined']>0]\n",
    "crypto_df.head()"
   ],
   "outputs": [
    {
     "output_type": "execute_result",
     "data": {
      "text/html": [
       "<div>\n",
       "<style scoped>\n",
       "    .dataframe tbody tr th:only-of-type {\n",
       "        vertical-align: middle;\n",
       "    }\n",
       "\n",
       "    .dataframe tbody tr th {\n",
       "        vertical-align: top;\n",
       "    }\n",
       "\n",
       "    .dataframe thead th {\n",
       "        text-align: right;\n",
       "    }\n",
       "</style>\n",
       "<table border=\"1\" class=\"dataframe\">\n",
       "  <thead>\n",
       "    <tr style=\"text-align: right;\">\n",
       "      <th></th>\n",
       "      <th>CoinName</th>\n",
       "      <th>Algorithm</th>\n",
       "      <th>IsTrading</th>\n",
       "      <th>ProofType</th>\n",
       "      <th>TotalCoinsMined</th>\n",
       "      <th>TotalCoinSupply</th>\n",
       "    </tr>\n",
       "    <tr>\n",
       "      <th>Ticker</th>\n",
       "      <th></th>\n",
       "      <th></th>\n",
       "      <th></th>\n",
       "      <th></th>\n",
       "      <th></th>\n",
       "      <th></th>\n",
       "    </tr>\n",
       "  </thead>\n",
       "  <tbody>\n",
       "    <tr>\n",
       "      <th>42</th>\n",
       "      <td>42 Coin</td>\n",
       "      <td>Scrypt</td>\n",
       "      <td>True</td>\n",
       "      <td>PoW/PoS</td>\n",
       "      <td>4.199995e+01</td>\n",
       "      <td>42</td>\n",
       "    </tr>\n",
       "    <tr>\n",
       "      <th>404</th>\n",
       "      <td>404Coin</td>\n",
       "      <td>Scrypt</td>\n",
       "      <td>True</td>\n",
       "      <td>PoW/PoS</td>\n",
       "      <td>1.055185e+09</td>\n",
       "      <td>532000000</td>\n",
       "    </tr>\n",
       "    <tr>\n",
       "      <th>1337</th>\n",
       "      <td>EliteCoin</td>\n",
       "      <td>X13</td>\n",
       "      <td>True</td>\n",
       "      <td>PoW/PoS</td>\n",
       "      <td>2.927942e+10</td>\n",
       "      <td>314159265359</td>\n",
       "    </tr>\n",
       "    <tr>\n",
       "      <th>BTC</th>\n",
       "      <td>Bitcoin</td>\n",
       "      <td>SHA-256</td>\n",
       "      <td>True</td>\n",
       "      <td>PoW</td>\n",
       "      <td>1.792718e+07</td>\n",
       "      <td>21000000</td>\n",
       "    </tr>\n",
       "    <tr>\n",
       "      <th>ETH</th>\n",
       "      <td>Ethereum</td>\n",
       "      <td>Ethash</td>\n",
       "      <td>True</td>\n",
       "      <td>PoW</td>\n",
       "      <td>1.076842e+08</td>\n",
       "      <td>0</td>\n",
       "    </tr>\n",
       "  </tbody>\n",
       "</table>\n",
       "</div>"
      ],
      "text/plain": [
       "         CoinName Algorithm  IsTrading ProofType  TotalCoinsMined  \\\n",
       "Ticker                                                              \n",
       "42        42 Coin    Scrypt       True   PoW/PoS     4.199995e+01   \n",
       "404       404Coin    Scrypt       True   PoW/PoS     1.055185e+09   \n",
       "1337    EliteCoin       X13       True   PoW/PoS     2.927942e+10   \n",
       "BTC       Bitcoin   SHA-256       True       PoW     1.792718e+07   \n",
       "ETH      Ethereum    Ethash       True       PoW     1.076842e+08   \n",
       "\n",
       "       TotalCoinSupply  \n",
       "Ticker                  \n",
       "42                  42  \n",
       "404          532000000  \n",
       "1337      314159265359  \n",
       "BTC           21000000  \n",
       "ETH                  0  "
      ]
     },
     "metadata": {},
     "execution_count": 7
    }
   ],
   "metadata": {}
  },
  {
   "cell_type": "code",
   "execution_count": 8,
   "source": [
    "# Remove the \"IsTrading\" column. \n",
    "crypto_df.drop(columns=['IsTrading'],inplace=True)\n",
    "crypto_df.head()"
   ],
   "outputs": [
    {
     "output_type": "execute_result",
     "data": {
      "text/html": [
       "<div>\n",
       "<style scoped>\n",
       "    .dataframe tbody tr th:only-of-type {\n",
       "        vertical-align: middle;\n",
       "    }\n",
       "\n",
       "    .dataframe tbody tr th {\n",
       "        vertical-align: top;\n",
       "    }\n",
       "\n",
       "    .dataframe thead th {\n",
       "        text-align: right;\n",
       "    }\n",
       "</style>\n",
       "<table border=\"1\" class=\"dataframe\">\n",
       "  <thead>\n",
       "    <tr style=\"text-align: right;\">\n",
       "      <th></th>\n",
       "      <th>CoinName</th>\n",
       "      <th>Algorithm</th>\n",
       "      <th>ProofType</th>\n",
       "      <th>TotalCoinsMined</th>\n",
       "      <th>TotalCoinSupply</th>\n",
       "    </tr>\n",
       "    <tr>\n",
       "      <th>Ticker</th>\n",
       "      <th></th>\n",
       "      <th></th>\n",
       "      <th></th>\n",
       "      <th></th>\n",
       "      <th></th>\n",
       "    </tr>\n",
       "  </thead>\n",
       "  <tbody>\n",
       "    <tr>\n",
       "      <th>42</th>\n",
       "      <td>42 Coin</td>\n",
       "      <td>Scrypt</td>\n",
       "      <td>PoW/PoS</td>\n",
       "      <td>4.199995e+01</td>\n",
       "      <td>42</td>\n",
       "    </tr>\n",
       "    <tr>\n",
       "      <th>404</th>\n",
       "      <td>404Coin</td>\n",
       "      <td>Scrypt</td>\n",
       "      <td>PoW/PoS</td>\n",
       "      <td>1.055185e+09</td>\n",
       "      <td>532000000</td>\n",
       "    </tr>\n",
       "    <tr>\n",
       "      <th>1337</th>\n",
       "      <td>EliteCoin</td>\n",
       "      <td>X13</td>\n",
       "      <td>PoW/PoS</td>\n",
       "      <td>2.927942e+10</td>\n",
       "      <td>314159265359</td>\n",
       "    </tr>\n",
       "    <tr>\n",
       "      <th>BTC</th>\n",
       "      <td>Bitcoin</td>\n",
       "      <td>SHA-256</td>\n",
       "      <td>PoW</td>\n",
       "      <td>1.792718e+07</td>\n",
       "      <td>21000000</td>\n",
       "    </tr>\n",
       "    <tr>\n",
       "      <th>ETH</th>\n",
       "      <td>Ethereum</td>\n",
       "      <td>Ethash</td>\n",
       "      <td>PoW</td>\n",
       "      <td>1.076842e+08</td>\n",
       "      <td>0</td>\n",
       "    </tr>\n",
       "  </tbody>\n",
       "</table>\n",
       "</div>"
      ],
      "text/plain": [
       "         CoinName Algorithm ProofType  TotalCoinsMined TotalCoinSupply\n",
       "Ticker                                                                \n",
       "42        42 Coin    Scrypt   PoW/PoS     4.199995e+01              42\n",
       "404       404Coin    Scrypt   PoW/PoS     1.055185e+09       532000000\n",
       "1337    EliteCoin       X13   PoW/PoS     2.927942e+10    314159265359\n",
       "BTC       Bitcoin   SHA-256       PoW     1.792718e+07        21000000\n",
       "ETH      Ethereum    Ethash       PoW     1.076842e+08               0"
      ]
     },
     "metadata": {},
     "execution_count": 8
    }
   ],
   "metadata": {}
  },
  {
   "cell_type": "code",
   "execution_count": 13,
   "source": [
    "# Remove rows that have at least 1 null value.\n",
    "crypto_df.dropna(inplace=True)\n",
    "crypto_df.head()\n"
   ],
   "outputs": [
    {
     "output_type": "execute_result",
     "data": {
      "text/html": [
       "<div>\n",
       "<style scoped>\n",
       "    .dataframe tbody tr th:only-of-type {\n",
       "        vertical-align: middle;\n",
       "    }\n",
       "\n",
       "    .dataframe tbody tr th {\n",
       "        vertical-align: top;\n",
       "    }\n",
       "\n",
       "    .dataframe thead th {\n",
       "        text-align: right;\n",
       "    }\n",
       "</style>\n",
       "<table border=\"1\" class=\"dataframe\">\n",
       "  <thead>\n",
       "    <tr style=\"text-align: right;\">\n",
       "      <th></th>\n",
       "      <th>Algorithm</th>\n",
       "      <th>ProofType</th>\n",
       "      <th>TotalCoinsMined</th>\n",
       "      <th>TotalCoinSupply</th>\n",
       "    </tr>\n",
       "    <tr>\n",
       "      <th>Ticker</th>\n",
       "      <th></th>\n",
       "      <th></th>\n",
       "      <th></th>\n",
       "      <th></th>\n",
       "    </tr>\n",
       "  </thead>\n",
       "  <tbody>\n",
       "    <tr>\n",
       "      <th>42</th>\n",
       "      <td>Scrypt</td>\n",
       "      <td>PoW/PoS</td>\n",
       "      <td>4.199995e+01</td>\n",
       "      <td>42</td>\n",
       "    </tr>\n",
       "    <tr>\n",
       "      <th>404</th>\n",
       "      <td>Scrypt</td>\n",
       "      <td>PoW/PoS</td>\n",
       "      <td>1.055185e+09</td>\n",
       "      <td>532000000</td>\n",
       "    </tr>\n",
       "    <tr>\n",
       "      <th>1337</th>\n",
       "      <td>X13</td>\n",
       "      <td>PoW/PoS</td>\n",
       "      <td>2.927942e+10</td>\n",
       "      <td>314159265359</td>\n",
       "    </tr>\n",
       "    <tr>\n",
       "      <th>BTC</th>\n",
       "      <td>SHA-256</td>\n",
       "      <td>PoW</td>\n",
       "      <td>1.792718e+07</td>\n",
       "      <td>21000000</td>\n",
       "    </tr>\n",
       "    <tr>\n",
       "      <th>ETH</th>\n",
       "      <td>Ethash</td>\n",
       "      <td>PoW</td>\n",
       "      <td>1.076842e+08</td>\n",
       "      <td>0</td>\n",
       "    </tr>\n",
       "  </tbody>\n",
       "</table>\n",
       "</div>"
      ],
      "text/plain": [
       "       Algorithm ProofType  TotalCoinsMined TotalCoinSupply\n",
       "Ticker                                                     \n",
       "42        Scrypt   PoW/PoS     4.199995e+01              42\n",
       "404       Scrypt   PoW/PoS     1.055185e+09       532000000\n",
       "1337         X13   PoW/PoS     2.927942e+10    314159265359\n",
       "BTC      SHA-256       PoW     1.792718e+07        21000000\n",
       "ETH       Ethash       PoW     1.076842e+08               0"
      ]
     },
     "metadata": {},
     "execution_count": 13
    }
   ],
   "metadata": {}
  },
  {
   "cell_type": "code",
   "execution_count": 10,
   "source": [
    "# Keep the rows where coins are mined.\n",
    "crypto_df=crypto_df[crypto_df['TotalCoinsMined']!=0]\n",
    "crypto_df.head(10)"
   ],
   "outputs": [
    {
     "output_type": "execute_result",
     "data": {
      "text/html": [
       "<div>\n",
       "<style scoped>\n",
       "    .dataframe tbody tr th:only-of-type {\n",
       "        vertical-align: middle;\n",
       "    }\n",
       "\n",
       "    .dataframe tbody tr th {\n",
       "        vertical-align: top;\n",
       "    }\n",
       "\n",
       "    .dataframe thead th {\n",
       "        text-align: right;\n",
       "    }\n",
       "</style>\n",
       "<table border=\"1\" class=\"dataframe\">\n",
       "  <thead>\n",
       "    <tr style=\"text-align: right;\">\n",
       "      <th></th>\n",
       "      <th>CoinName</th>\n",
       "      <th>Algorithm</th>\n",
       "      <th>ProofType</th>\n",
       "      <th>TotalCoinsMined</th>\n",
       "      <th>TotalCoinSupply</th>\n",
       "    </tr>\n",
       "    <tr>\n",
       "      <th>Ticker</th>\n",
       "      <th></th>\n",
       "      <th></th>\n",
       "      <th></th>\n",
       "      <th></th>\n",
       "      <th></th>\n",
       "    </tr>\n",
       "  </thead>\n",
       "  <tbody>\n",
       "    <tr>\n",
       "      <th>42</th>\n",
       "      <td>42 Coin</td>\n",
       "      <td>Scrypt</td>\n",
       "      <td>PoW/PoS</td>\n",
       "      <td>4.199995e+01</td>\n",
       "      <td>42</td>\n",
       "    </tr>\n",
       "    <tr>\n",
       "      <th>404</th>\n",
       "      <td>404Coin</td>\n",
       "      <td>Scrypt</td>\n",
       "      <td>PoW/PoS</td>\n",
       "      <td>1.055185e+09</td>\n",
       "      <td>532000000</td>\n",
       "    </tr>\n",
       "    <tr>\n",
       "      <th>1337</th>\n",
       "      <td>EliteCoin</td>\n",
       "      <td>X13</td>\n",
       "      <td>PoW/PoS</td>\n",
       "      <td>2.927942e+10</td>\n",
       "      <td>314159265359</td>\n",
       "    </tr>\n",
       "    <tr>\n",
       "      <th>BTC</th>\n",
       "      <td>Bitcoin</td>\n",
       "      <td>SHA-256</td>\n",
       "      <td>PoW</td>\n",
       "      <td>1.792718e+07</td>\n",
       "      <td>21000000</td>\n",
       "    </tr>\n",
       "    <tr>\n",
       "      <th>ETH</th>\n",
       "      <td>Ethereum</td>\n",
       "      <td>Ethash</td>\n",
       "      <td>PoW</td>\n",
       "      <td>1.076842e+08</td>\n",
       "      <td>0</td>\n",
       "    </tr>\n",
       "    <tr>\n",
       "      <th>LTC</th>\n",
       "      <td>Litecoin</td>\n",
       "      <td>Scrypt</td>\n",
       "      <td>PoW</td>\n",
       "      <td>6.303924e+07</td>\n",
       "      <td>84000000</td>\n",
       "    </tr>\n",
       "    <tr>\n",
       "      <th>DASH</th>\n",
       "      <td>Dash</td>\n",
       "      <td>X11</td>\n",
       "      <td>PoW/PoS</td>\n",
       "      <td>9.031294e+06</td>\n",
       "      <td>22000000</td>\n",
       "    </tr>\n",
       "    <tr>\n",
       "      <th>XMR</th>\n",
       "      <td>Monero</td>\n",
       "      <td>CryptoNight-V7</td>\n",
       "      <td>PoW</td>\n",
       "      <td>1.720114e+07</td>\n",
       "      <td>0</td>\n",
       "    </tr>\n",
       "    <tr>\n",
       "      <th>ETC</th>\n",
       "      <td>Ethereum Classic</td>\n",
       "      <td>Ethash</td>\n",
       "      <td>PoW</td>\n",
       "      <td>1.133597e+08</td>\n",
       "      <td>210000000</td>\n",
       "    </tr>\n",
       "    <tr>\n",
       "      <th>ZEC</th>\n",
       "      <td>ZCash</td>\n",
       "      <td>Equihash</td>\n",
       "      <td>PoW</td>\n",
       "      <td>7.383056e+06</td>\n",
       "      <td>21000000</td>\n",
       "    </tr>\n",
       "  </tbody>\n",
       "</table>\n",
       "</div>"
      ],
      "text/plain": [
       "                CoinName       Algorithm ProofType  TotalCoinsMined  \\\n",
       "Ticker                                                                \n",
       "42               42 Coin          Scrypt   PoW/PoS     4.199995e+01   \n",
       "404              404Coin          Scrypt   PoW/PoS     1.055185e+09   \n",
       "1337           EliteCoin             X13   PoW/PoS     2.927942e+10   \n",
       "BTC              Bitcoin         SHA-256       PoW     1.792718e+07   \n",
       "ETH             Ethereum          Ethash       PoW     1.076842e+08   \n",
       "LTC             Litecoin          Scrypt       PoW     6.303924e+07   \n",
       "DASH                Dash             X11   PoW/PoS     9.031294e+06   \n",
       "XMR               Monero  CryptoNight-V7       PoW     1.720114e+07   \n",
       "ETC     Ethereum Classic          Ethash       PoW     1.133597e+08   \n",
       "ZEC                ZCash        Equihash       PoW     7.383056e+06   \n",
       "\n",
       "       TotalCoinSupply  \n",
       "Ticker                  \n",
       "42                  42  \n",
       "404          532000000  \n",
       "1337      314159265359  \n",
       "BTC           21000000  \n",
       "ETH                  0  \n",
       "LTC           84000000  \n",
       "DASH          22000000  \n",
       "XMR                  0  \n",
       "ETC          210000000  \n",
       "ZEC           21000000  "
      ]
     },
     "metadata": {},
     "execution_count": 10
    }
   ],
   "metadata": {}
  },
  {
   "cell_type": "code",
   "execution_count": 11,
   "source": [
    "# Create a new DataFrame that holds only the cryptocurrencies names.\n",
    "CoinName_df= crypto_df[['CoinName']]\n",
    "CoinName_df.head()"
   ],
   "outputs": [
    {
     "output_type": "execute_result",
     "data": {
      "text/html": [
       "<div>\n",
       "<style scoped>\n",
       "    .dataframe tbody tr th:only-of-type {\n",
       "        vertical-align: middle;\n",
       "    }\n",
       "\n",
       "    .dataframe tbody tr th {\n",
       "        vertical-align: top;\n",
       "    }\n",
       "\n",
       "    .dataframe thead th {\n",
       "        text-align: right;\n",
       "    }\n",
       "</style>\n",
       "<table border=\"1\" class=\"dataframe\">\n",
       "  <thead>\n",
       "    <tr style=\"text-align: right;\">\n",
       "      <th></th>\n",
       "      <th>CoinName</th>\n",
       "    </tr>\n",
       "    <tr>\n",
       "      <th>Ticker</th>\n",
       "      <th></th>\n",
       "    </tr>\n",
       "  </thead>\n",
       "  <tbody>\n",
       "    <tr>\n",
       "      <th>42</th>\n",
       "      <td>42 Coin</td>\n",
       "    </tr>\n",
       "    <tr>\n",
       "      <th>404</th>\n",
       "      <td>404Coin</td>\n",
       "    </tr>\n",
       "    <tr>\n",
       "      <th>1337</th>\n",
       "      <td>EliteCoin</td>\n",
       "    </tr>\n",
       "    <tr>\n",
       "      <th>BTC</th>\n",
       "      <td>Bitcoin</td>\n",
       "    </tr>\n",
       "    <tr>\n",
       "      <th>ETH</th>\n",
       "      <td>Ethereum</td>\n",
       "    </tr>\n",
       "  </tbody>\n",
       "</table>\n",
       "</div>"
      ],
      "text/plain": [
       "         CoinName\n",
       "Ticker           \n",
       "42        42 Coin\n",
       "404       404Coin\n",
       "1337    EliteCoin\n",
       "BTC       Bitcoin\n",
       "ETH      Ethereum"
      ]
     },
     "metadata": {},
     "execution_count": 11
    }
   ],
   "metadata": {}
  },
  {
   "cell_type": "code",
   "execution_count": 12,
   "source": [
    "# Drop the 'CoinName' column since it's not going to be used on the clustering algorithm.\n",
    "crypto_df.drop(columns=['CoinName'],inplace=True)\n",
    "crypto_df.head()\n"
   ],
   "outputs": [
    {
     "output_type": "execute_result",
     "data": {
      "text/html": [
       "<div>\n",
       "<style scoped>\n",
       "    .dataframe tbody tr th:only-of-type {\n",
       "        vertical-align: middle;\n",
       "    }\n",
       "\n",
       "    .dataframe tbody tr th {\n",
       "        vertical-align: top;\n",
       "    }\n",
       "\n",
       "    .dataframe thead th {\n",
       "        text-align: right;\n",
       "    }\n",
       "</style>\n",
       "<table border=\"1\" class=\"dataframe\">\n",
       "  <thead>\n",
       "    <tr style=\"text-align: right;\">\n",
       "      <th></th>\n",
       "      <th>Algorithm</th>\n",
       "      <th>ProofType</th>\n",
       "      <th>TotalCoinsMined</th>\n",
       "      <th>TotalCoinSupply</th>\n",
       "    </tr>\n",
       "    <tr>\n",
       "      <th>Ticker</th>\n",
       "      <th></th>\n",
       "      <th></th>\n",
       "      <th></th>\n",
       "      <th></th>\n",
       "    </tr>\n",
       "  </thead>\n",
       "  <tbody>\n",
       "    <tr>\n",
       "      <th>42</th>\n",
       "      <td>Scrypt</td>\n",
       "      <td>PoW/PoS</td>\n",
       "      <td>4.199995e+01</td>\n",
       "      <td>42</td>\n",
       "    </tr>\n",
       "    <tr>\n",
       "      <th>404</th>\n",
       "      <td>Scrypt</td>\n",
       "      <td>PoW/PoS</td>\n",
       "      <td>1.055185e+09</td>\n",
       "      <td>532000000</td>\n",
       "    </tr>\n",
       "    <tr>\n",
       "      <th>1337</th>\n",
       "      <td>X13</td>\n",
       "      <td>PoW/PoS</td>\n",
       "      <td>2.927942e+10</td>\n",
       "      <td>314159265359</td>\n",
       "    </tr>\n",
       "    <tr>\n",
       "      <th>BTC</th>\n",
       "      <td>SHA-256</td>\n",
       "      <td>PoW</td>\n",
       "      <td>1.792718e+07</td>\n",
       "      <td>21000000</td>\n",
       "    </tr>\n",
       "    <tr>\n",
       "      <th>ETH</th>\n",
       "      <td>Ethash</td>\n",
       "      <td>PoW</td>\n",
       "      <td>1.076842e+08</td>\n",
       "      <td>0</td>\n",
       "    </tr>\n",
       "  </tbody>\n",
       "</table>\n",
       "</div>"
      ],
      "text/plain": [
       "       Algorithm ProofType  TotalCoinsMined TotalCoinSupply\n",
       "Ticker                                                     \n",
       "42        Scrypt   PoW/PoS     4.199995e+01              42\n",
       "404       Scrypt   PoW/PoS     1.055185e+09       532000000\n",
       "1337         X13   PoW/PoS     2.927942e+10    314159265359\n",
       "BTC      SHA-256       PoW     1.792718e+07        21000000\n",
       "ETH       Ethash       PoW     1.076842e+08               0"
      ]
     },
     "metadata": {},
     "execution_count": 12
    }
   ],
   "metadata": {}
  },
  {
   "cell_type": "code",
   "execution_count": 14,
   "source": [
    "# Use get_dummies() to create variables for text features.\n",
    "X=pd.get_dummies(crypto_df,columns=['Algorithm','ProofType'])\n",
    "X.head(10)"
   ],
   "outputs": [
    {
     "output_type": "execute_result",
     "data": {
      "text/html": [
       "<div>\n",
       "<style scoped>\n",
       "    .dataframe tbody tr th:only-of-type {\n",
       "        vertical-align: middle;\n",
       "    }\n",
       "\n",
       "    .dataframe tbody tr th {\n",
       "        vertical-align: top;\n",
       "    }\n",
       "\n",
       "    .dataframe thead th {\n",
       "        text-align: right;\n",
       "    }\n",
       "</style>\n",
       "<table border=\"1\" class=\"dataframe\">\n",
       "  <thead>\n",
       "    <tr style=\"text-align: right;\">\n",
       "      <th></th>\n",
       "      <th>TotalCoinsMined</th>\n",
       "      <th>TotalCoinSupply</th>\n",
       "      <th>Algorithm_1GB AES Pattern Search</th>\n",
       "      <th>Algorithm_536</th>\n",
       "      <th>Algorithm_Argon2d</th>\n",
       "      <th>Algorithm_BLAKE256</th>\n",
       "      <th>Algorithm_Blake</th>\n",
       "      <th>Algorithm_Blake2S</th>\n",
       "      <th>Algorithm_Blake2b</th>\n",
       "      <th>Algorithm_C11</th>\n",
       "      <th>...</th>\n",
       "      <th>ProofType_PoW/PoS</th>\n",
       "      <th>ProofType_PoW/PoS</th>\n",
       "      <th>ProofType_PoW/PoW</th>\n",
       "      <th>ProofType_PoW/nPoS</th>\n",
       "      <th>ProofType_Pos</th>\n",
       "      <th>ProofType_Proof of Authority</th>\n",
       "      <th>ProofType_Proof of Trust</th>\n",
       "      <th>ProofType_TPoS</th>\n",
       "      <th>ProofType_Zero-Knowledge Proof</th>\n",
       "      <th>ProofType_dPoW/PoW</th>\n",
       "    </tr>\n",
       "    <tr>\n",
       "      <th>Ticker</th>\n",
       "      <th></th>\n",
       "      <th></th>\n",
       "      <th></th>\n",
       "      <th></th>\n",
       "      <th></th>\n",
       "      <th></th>\n",
       "      <th></th>\n",
       "      <th></th>\n",
       "      <th></th>\n",
       "      <th></th>\n",
       "      <th></th>\n",
       "      <th></th>\n",
       "      <th></th>\n",
       "      <th></th>\n",
       "      <th></th>\n",
       "      <th></th>\n",
       "      <th></th>\n",
       "      <th></th>\n",
       "      <th></th>\n",
       "      <th></th>\n",
       "      <th></th>\n",
       "    </tr>\n",
       "  </thead>\n",
       "  <tbody>\n",
       "    <tr>\n",
       "      <th>42</th>\n",
       "      <td>4.199995e+01</td>\n",
       "      <td>42</td>\n",
       "      <td>0</td>\n",
       "      <td>0</td>\n",
       "      <td>0</td>\n",
       "      <td>0</td>\n",
       "      <td>0</td>\n",
       "      <td>0</td>\n",
       "      <td>0</td>\n",
       "      <td>0</td>\n",
       "      <td>...</td>\n",
       "      <td>1</td>\n",
       "      <td>0</td>\n",
       "      <td>0</td>\n",
       "      <td>0</td>\n",
       "      <td>0</td>\n",
       "      <td>0</td>\n",
       "      <td>0</td>\n",
       "      <td>0</td>\n",
       "      <td>0</td>\n",
       "      <td>0</td>\n",
       "    </tr>\n",
       "    <tr>\n",
       "      <th>404</th>\n",
       "      <td>1.055185e+09</td>\n",
       "      <td>532000000</td>\n",
       "      <td>0</td>\n",
       "      <td>0</td>\n",
       "      <td>0</td>\n",
       "      <td>0</td>\n",
       "      <td>0</td>\n",
       "      <td>0</td>\n",
       "      <td>0</td>\n",
       "      <td>0</td>\n",
       "      <td>...</td>\n",
       "      <td>1</td>\n",
       "      <td>0</td>\n",
       "      <td>0</td>\n",
       "      <td>0</td>\n",
       "      <td>0</td>\n",
       "      <td>0</td>\n",
       "      <td>0</td>\n",
       "      <td>0</td>\n",
       "      <td>0</td>\n",
       "      <td>0</td>\n",
       "    </tr>\n",
       "    <tr>\n",
       "      <th>1337</th>\n",
       "      <td>2.927942e+10</td>\n",
       "      <td>314159265359</td>\n",
       "      <td>0</td>\n",
       "      <td>0</td>\n",
       "      <td>0</td>\n",
       "      <td>0</td>\n",
       "      <td>0</td>\n",
       "      <td>0</td>\n",
       "      <td>0</td>\n",
       "      <td>0</td>\n",
       "      <td>...</td>\n",
       "      <td>1</td>\n",
       "      <td>0</td>\n",
       "      <td>0</td>\n",
       "      <td>0</td>\n",
       "      <td>0</td>\n",
       "      <td>0</td>\n",
       "      <td>0</td>\n",
       "      <td>0</td>\n",
       "      <td>0</td>\n",
       "      <td>0</td>\n",
       "    </tr>\n",
       "    <tr>\n",
       "      <th>BTC</th>\n",
       "      <td>1.792718e+07</td>\n",
       "      <td>21000000</td>\n",
       "      <td>0</td>\n",
       "      <td>0</td>\n",
       "      <td>0</td>\n",
       "      <td>0</td>\n",
       "      <td>0</td>\n",
       "      <td>0</td>\n",
       "      <td>0</td>\n",
       "      <td>0</td>\n",
       "      <td>...</td>\n",
       "      <td>0</td>\n",
       "      <td>0</td>\n",
       "      <td>0</td>\n",
       "      <td>0</td>\n",
       "      <td>0</td>\n",
       "      <td>0</td>\n",
       "      <td>0</td>\n",
       "      <td>0</td>\n",
       "      <td>0</td>\n",
       "      <td>0</td>\n",
       "    </tr>\n",
       "    <tr>\n",
       "      <th>ETH</th>\n",
       "      <td>1.076842e+08</td>\n",
       "      <td>0</td>\n",
       "      <td>0</td>\n",
       "      <td>0</td>\n",
       "      <td>0</td>\n",
       "      <td>0</td>\n",
       "      <td>0</td>\n",
       "      <td>0</td>\n",
       "      <td>0</td>\n",
       "      <td>0</td>\n",
       "      <td>...</td>\n",
       "      <td>0</td>\n",
       "      <td>0</td>\n",
       "      <td>0</td>\n",
       "      <td>0</td>\n",
       "      <td>0</td>\n",
       "      <td>0</td>\n",
       "      <td>0</td>\n",
       "      <td>0</td>\n",
       "      <td>0</td>\n",
       "      <td>0</td>\n",
       "    </tr>\n",
       "    <tr>\n",
       "      <th>LTC</th>\n",
       "      <td>6.303924e+07</td>\n",
       "      <td>84000000</td>\n",
       "      <td>0</td>\n",
       "      <td>0</td>\n",
       "      <td>0</td>\n",
       "      <td>0</td>\n",
       "      <td>0</td>\n",
       "      <td>0</td>\n",
       "      <td>0</td>\n",
       "      <td>0</td>\n",
       "      <td>...</td>\n",
       "      <td>0</td>\n",
       "      <td>0</td>\n",
       "      <td>0</td>\n",
       "      <td>0</td>\n",
       "      <td>0</td>\n",
       "      <td>0</td>\n",
       "      <td>0</td>\n",
       "      <td>0</td>\n",
       "      <td>0</td>\n",
       "      <td>0</td>\n",
       "    </tr>\n",
       "    <tr>\n",
       "      <th>DASH</th>\n",
       "      <td>9.031294e+06</td>\n",
       "      <td>22000000</td>\n",
       "      <td>0</td>\n",
       "      <td>0</td>\n",
       "      <td>0</td>\n",
       "      <td>0</td>\n",
       "      <td>0</td>\n",
       "      <td>0</td>\n",
       "      <td>0</td>\n",
       "      <td>0</td>\n",
       "      <td>...</td>\n",
       "      <td>1</td>\n",
       "      <td>0</td>\n",
       "      <td>0</td>\n",
       "      <td>0</td>\n",
       "      <td>0</td>\n",
       "      <td>0</td>\n",
       "      <td>0</td>\n",
       "      <td>0</td>\n",
       "      <td>0</td>\n",
       "      <td>0</td>\n",
       "    </tr>\n",
       "    <tr>\n",
       "      <th>XMR</th>\n",
       "      <td>1.720114e+07</td>\n",
       "      <td>0</td>\n",
       "      <td>0</td>\n",
       "      <td>0</td>\n",
       "      <td>0</td>\n",
       "      <td>0</td>\n",
       "      <td>0</td>\n",
       "      <td>0</td>\n",
       "      <td>0</td>\n",
       "      <td>0</td>\n",
       "      <td>...</td>\n",
       "      <td>0</td>\n",
       "      <td>0</td>\n",
       "      <td>0</td>\n",
       "      <td>0</td>\n",
       "      <td>0</td>\n",
       "      <td>0</td>\n",
       "      <td>0</td>\n",
       "      <td>0</td>\n",
       "      <td>0</td>\n",
       "      <td>0</td>\n",
       "    </tr>\n",
       "    <tr>\n",
       "      <th>ETC</th>\n",
       "      <td>1.133597e+08</td>\n",
       "      <td>210000000</td>\n",
       "      <td>0</td>\n",
       "      <td>0</td>\n",
       "      <td>0</td>\n",
       "      <td>0</td>\n",
       "      <td>0</td>\n",
       "      <td>0</td>\n",
       "      <td>0</td>\n",
       "      <td>0</td>\n",
       "      <td>...</td>\n",
       "      <td>0</td>\n",
       "      <td>0</td>\n",
       "      <td>0</td>\n",
       "      <td>0</td>\n",
       "      <td>0</td>\n",
       "      <td>0</td>\n",
       "      <td>0</td>\n",
       "      <td>0</td>\n",
       "      <td>0</td>\n",
       "      <td>0</td>\n",
       "    </tr>\n",
       "    <tr>\n",
       "      <th>ZEC</th>\n",
       "      <td>7.383056e+06</td>\n",
       "      <td>21000000</td>\n",
       "      <td>0</td>\n",
       "      <td>0</td>\n",
       "      <td>0</td>\n",
       "      <td>0</td>\n",
       "      <td>0</td>\n",
       "      <td>0</td>\n",
       "      <td>0</td>\n",
       "      <td>0</td>\n",
       "      <td>...</td>\n",
       "      <td>0</td>\n",
       "      <td>0</td>\n",
       "      <td>0</td>\n",
       "      <td>0</td>\n",
       "      <td>0</td>\n",
       "      <td>0</td>\n",
       "      <td>0</td>\n",
       "      <td>0</td>\n",
       "      <td>0</td>\n",
       "      <td>0</td>\n",
       "    </tr>\n",
       "  </tbody>\n",
       "</table>\n",
       "<p>10 rows × 98 columns</p>\n",
       "</div>"
      ],
      "text/plain": [
       "        TotalCoinsMined TotalCoinSupply  Algorithm_1GB AES Pattern Search  \\\n",
       "Ticker                                                                      \n",
       "42         4.199995e+01              42                                 0   \n",
       "404        1.055185e+09       532000000                                 0   \n",
       "1337       2.927942e+10    314159265359                                 0   \n",
       "BTC        1.792718e+07        21000000                                 0   \n",
       "ETH        1.076842e+08               0                                 0   \n",
       "LTC        6.303924e+07        84000000                                 0   \n",
       "DASH       9.031294e+06        22000000                                 0   \n",
       "XMR        1.720114e+07               0                                 0   \n",
       "ETC        1.133597e+08       210000000                                 0   \n",
       "ZEC        7.383056e+06        21000000                                 0   \n",
       "\n",
       "        Algorithm_536  Algorithm_Argon2d  Algorithm_BLAKE256  Algorithm_Blake  \\\n",
       "Ticker                                                                          \n",
       "42                  0                  0                   0                0   \n",
       "404                 0                  0                   0                0   \n",
       "1337                0                  0                   0                0   \n",
       "BTC                 0                  0                   0                0   \n",
       "ETH                 0                  0                   0                0   \n",
       "LTC                 0                  0                   0                0   \n",
       "DASH                0                  0                   0                0   \n",
       "XMR                 0                  0                   0                0   \n",
       "ETC                 0                  0                   0                0   \n",
       "ZEC                 0                  0                   0                0   \n",
       "\n",
       "        Algorithm_Blake2S  Algorithm_Blake2b  Algorithm_C11  ...  \\\n",
       "Ticker                                                       ...   \n",
       "42                      0                  0              0  ...   \n",
       "404                     0                  0              0  ...   \n",
       "1337                    0                  0              0  ...   \n",
       "BTC                     0                  0              0  ...   \n",
       "ETH                     0                  0              0  ...   \n",
       "LTC                     0                  0              0  ...   \n",
       "DASH                    0                  0              0  ...   \n",
       "XMR                     0                  0              0  ...   \n",
       "ETC                     0                  0              0  ...   \n",
       "ZEC                     0                  0              0  ...   \n",
       "\n",
       "        ProofType_PoW/PoS  ProofType_PoW/PoS   ProofType_PoW/PoW  \\\n",
       "Ticker                                                             \n",
       "42                      1                   0                  0   \n",
       "404                     1                   0                  0   \n",
       "1337                    1                   0                  0   \n",
       "BTC                     0                   0                  0   \n",
       "ETH                     0                   0                  0   \n",
       "LTC                     0                   0                  0   \n",
       "DASH                    1                   0                  0   \n",
       "XMR                     0                   0                  0   \n",
       "ETC                     0                   0                  0   \n",
       "ZEC                     0                   0                  0   \n",
       "\n",
       "        ProofType_PoW/nPoS  ProofType_Pos  ProofType_Proof of Authority  \\\n",
       "Ticker                                                                    \n",
       "42                       0              0                             0   \n",
       "404                      0              0                             0   \n",
       "1337                     0              0                             0   \n",
       "BTC                      0              0                             0   \n",
       "ETH                      0              0                             0   \n",
       "LTC                      0              0                             0   \n",
       "DASH                     0              0                             0   \n",
       "XMR                      0              0                             0   \n",
       "ETC                      0              0                             0   \n",
       "ZEC                      0              0                             0   \n",
       "\n",
       "        ProofType_Proof of Trust  ProofType_TPoS  \\\n",
       "Ticker                                             \n",
       "42                             0               0   \n",
       "404                            0               0   \n",
       "1337                           0               0   \n",
       "BTC                            0               0   \n",
       "ETH                            0               0   \n",
       "LTC                            0               0   \n",
       "DASH                           0               0   \n",
       "XMR                            0               0   \n",
       "ETC                            0               0   \n",
       "ZEC                            0               0   \n",
       "\n",
       "        ProofType_Zero-Knowledge Proof  ProofType_dPoW/PoW  \n",
       "Ticker                                                      \n",
       "42                                   0                   0  \n",
       "404                                  0                   0  \n",
       "1337                                 0                   0  \n",
       "BTC                                  0                   0  \n",
       "ETH                                  0                   0  \n",
       "LTC                                  0                   0  \n",
       "DASH                                 0                   0  \n",
       "XMR                                  0                   0  \n",
       "ETC                                  0                   0  \n",
       "ZEC                                  0                   0  \n",
       "\n",
       "[10 rows x 98 columns]"
      ]
     },
     "metadata": {},
     "execution_count": 14
    }
   ],
   "metadata": {}
  },
  {
   "cell_type": "code",
   "execution_count": 15,
   "source": [
    "# Standardize the data with StandardScaler().\n",
    "X_scaled = StandardScaler().fit_transform(X)\n",
    "X_scaled"
   ],
   "outputs": [
    {
     "output_type": "execute_result",
     "data": {
      "text/plain": [
       "array([[-0.11710817, -0.1528703 , -0.0433963 , ..., -0.0433963 ,\n",
       "        -0.0433963 , -0.0433963 ],\n",
       "       [-0.09396955, -0.145009  , -0.0433963 , ..., -0.0433963 ,\n",
       "        -0.0433963 , -0.0433963 ],\n",
       "       [ 0.52494561,  4.48942416, -0.0433963 , ..., -0.0433963 ,\n",
       "        -0.0433963 , -0.0433963 ],\n",
       "       ...,\n",
       "       [-0.09561336, -0.13217937, -0.0433963 , ..., -0.0433963 ,\n",
       "        -0.0433963 , -0.0433963 ],\n",
       "       [-0.11694817, -0.15255998, -0.0433963 , ..., -0.0433963 ,\n",
       "        -0.0433963 , -0.0433963 ],\n",
       "       [-0.11710536, -0.15285552, -0.0433963 , ..., -0.0433963 ,\n",
       "        -0.0433963 , -0.0433963 ]])"
      ]
     },
     "metadata": {},
     "execution_count": 15
    }
   ],
   "metadata": {}
  },
  {
   "cell_type": "markdown",
   "source": [
    "### Deliverable 2: Reducing Data Dimensions Using PCA"
   ],
   "metadata": {}
  },
  {
   "cell_type": "code",
   "execution_count": 16,
   "source": [
    "# Using PCA to reduce dimension to three principal components.\n",
    "pca = PCA(n_components=3)\n",
    "# Get three principal components for the data.\n",
    "X_pca = pca.fit_transform(X_scaled)\n",
    "X_pca"
   ],
   "outputs": [
    {
     "output_type": "execute_result",
     "data": {
      "text/plain": [
       "array([[-0.33326662,  1.02190194, -0.57723013],\n",
       "       [-0.31660077,  1.02193495, -0.57762663],\n",
       "       [ 2.30580522,  1.60604162, -0.69472566],\n",
       "       ...,\n",
       "       [ 0.31655206, -2.28513284,  0.40195034],\n",
       "       [-0.14371077, -2.07376289,  0.37075691],\n",
       "       [-0.28422576,  0.77923217, -0.25470217]])"
      ]
     },
     "metadata": {},
     "execution_count": 16
    }
   ],
   "metadata": {}
  },
  {
   "cell_type": "code",
   "execution_count": 18,
   "source": [
    "# Create a DataFrame with the three principal components.\n",
    "df_pca = pd.DataFrame(\n",
    "    data=X_pca, columns=['pc1', 'pc2', 'pc3'], index=CoinName_df.index\n",
    ")\n",
    "df_pca.head()"
   ],
   "outputs": [
    {
     "output_type": "execute_result",
     "data": {
      "text/html": [
       "<div>\n",
       "<style scoped>\n",
       "    .dataframe tbody tr th:only-of-type {\n",
       "        vertical-align: middle;\n",
       "    }\n",
       "\n",
       "    .dataframe tbody tr th {\n",
       "        vertical-align: top;\n",
       "    }\n",
       "\n",
       "    .dataframe thead th {\n",
       "        text-align: right;\n",
       "    }\n",
       "</style>\n",
       "<table border=\"1\" class=\"dataframe\">\n",
       "  <thead>\n",
       "    <tr style=\"text-align: right;\">\n",
       "      <th></th>\n",
       "      <th>pc1</th>\n",
       "      <th>pc2</th>\n",
       "      <th>pc3</th>\n",
       "    </tr>\n",
       "    <tr>\n",
       "      <th>Ticker</th>\n",
       "      <th></th>\n",
       "      <th></th>\n",
       "      <th></th>\n",
       "    </tr>\n",
       "  </thead>\n",
       "  <tbody>\n",
       "    <tr>\n",
       "      <th>42</th>\n",
       "      <td>-0.333267</td>\n",
       "      <td>1.021902</td>\n",
       "      <td>-0.577230</td>\n",
       "    </tr>\n",
       "    <tr>\n",
       "      <th>404</th>\n",
       "      <td>-0.316601</td>\n",
       "      <td>1.021935</td>\n",
       "      <td>-0.577627</td>\n",
       "    </tr>\n",
       "    <tr>\n",
       "      <th>1337</th>\n",
       "      <td>2.305805</td>\n",
       "      <td>1.606042</td>\n",
       "      <td>-0.694726</td>\n",
       "    </tr>\n",
       "    <tr>\n",
       "      <th>BTC</th>\n",
       "      <td>-0.145757</td>\n",
       "      <td>-1.321541</td>\n",
       "      <td>0.186529</td>\n",
       "    </tr>\n",
       "    <tr>\n",
       "      <th>ETH</th>\n",
       "      <td>-0.146751</td>\n",
       "      <td>-2.047730</td>\n",
       "      <td>0.386068</td>\n",
       "    </tr>\n",
       "  </tbody>\n",
       "</table>\n",
       "</div>"
      ],
      "text/plain": [
       "             pc1       pc2       pc3\n",
       "Ticker                              \n",
       "42     -0.333267  1.021902 -0.577230\n",
       "404    -0.316601  1.021935 -0.577627\n",
       "1337    2.305805  1.606042 -0.694726\n",
       "BTC    -0.145757 -1.321541  0.186529\n",
       "ETH    -0.146751 -2.047730  0.386068"
      ]
     },
     "metadata": {},
     "execution_count": 18
    }
   ],
   "metadata": {}
  },
  {
   "cell_type": "markdown",
   "source": [
    "### Deliverable 3: Clustering Crytocurrencies Using K-Means\n",
    "\n",
    "#### Finding the Best Value for `k` Using the Elbow Curve"
   ],
   "metadata": {}
  },
  {
   "cell_type": "code",
   "execution_count": 22,
   "source": [
    "# Create an elbow curve to find the best value for K.\n",
    "sse={}\n",
    "K = range(1, 10)\n",
    "for k in K:\n",
    "    kmeanmodel = KMeans(n_clusters=k).fit(X_pca)\n",
    "    sse[k]= kmeanmodel.inertia_\n",
    "    \n",
    "# Plot\n",
    "plt.plot(list(sse.keys()), list(sse.values()))\n",
    "plt.xlabel('k')\n",
    "plt.ylabel('SSE')\n",
    "plt.title('Elbow Method')\n",
    "plt.show()\n"
   ],
   "outputs": [
    {
     "output_type": "display_data",
     "data": {
      "image/png": "[encoded data removed]",
      "text/plain": [
       "<Figure size 432x288 with 1 Axes>"
      ]
     },
     "metadata": {
      "needs_background": "light"
     }
    }
   ],
   "metadata": {}
  },
  {
   "cell_type": "markdown",
   "source": [
    "Running K-Means with `k=4`"
   ],
   "metadata": {}
  },
  {
   "cell_type": "code",
   "execution_count": 23,
   "source": [
    "# Initialize the K-Means model.\n",
    "model = KMeans(n_clusters=4, random_state=42).fit(X_pca)\n",
    "\n",
    "# Predict clusters\n",
    "y_pred = model.predict(X_pca)\n",
    "y_pred"
   ],
   "outputs": [
    {
     "output_type": "execute_result",
     "data": {
      "text/plain": [
       "array([1, 1, 1, 0, 0, 0, 1, 0, 0, 0, 1, 0, 1, 1, 0, 1, 0, 0, 1, 1, 0, 0,\n",
       "       0, 0, 0, 1, 0, 0, 0, 1, 0, 1, 0, 0, 1, 1, 0, 0, 0, 0, 0, 0, 1, 1,\n",
       "       0, 0, 0, 0, 0, 1, 1, 0, 1, 0, 0, 0, 0, 1, 0, 0, 1, 0, 1, 1, 1, 0,\n",
       "       0, 0, 1, 1, 1, 1, 1, 0, 0, 0, 1, 1, 0, 1, 0, 1, 1, 0, 0, 0, 0, 1,\n",
       "       1, 0, 1, 0, 0, 1, 1, 0, 1, 1, 0, 0, 1, 1, 0, 1, 1, 0, 1, 0, 1, 0,\n",
       "       1, 0, 1, 1, 0, 0, 1, 0, 0, 0, 1, 0, 0, 0, 0, 0, 1, 1, 0, 0, 0, 1,\n",
       "       0, 1, 0, 0, 1, 0, 1, 0, 1, 1, 0, 0, 1, 0, 0, 1, 1, 0, 1, 0, 1, 1,\n",
       "       1, 0, 0, 0, 0, 1, 1, 1, 1, 1, 0, 0, 1, 1, 1, 1, 1, 0, 1, 1, 1, 1,\n",
       "       1, 0, 1, 0, 1, 1, 0, 1, 0, 1, 1, 0, 1, 0, 1, 0, 1, 0, 1, 1, 1, 1,\n",
       "       0, 1, 1, 1, 1, 1, 0, 0, 1, 1, 0, 0, 1, 1, 1, 1, 1, 0, 1, 1, 1, 1,\n",
       "       1, 1, 1, 1, 0, 1, 1, 1, 1, 1, 1, 0, 0, 0, 1, 1, 1, 1, 0, 1, 0, 1,\n",
       "       1, 0, 1, 0, 0, 1, 0, 0, 1, 0, 1, 1, 1, 0, 1, 1, 0, 1, 1, 1, 1, 1,\n",
       "       1, 1, 0, 1, 0, 1, 1, 1, 1, 0, 1, 0, 1, 0, 0, 0, 0, 1, 0, 1, 1, 0,\n",
       "       1, 0, 0, 0, 1, 0, 1, 0, 0, 0, 1, 0, 1, 0, 1, 1, 3, 0, 1, 0, 0, 0,\n",
       "       0, 0, 1, 1, 0, 1, 1, 1, 0, 1, 0, 1, 0, 1, 0, 1, 1, 1, 1, 0, 1, 1,\n",
       "       0, 1, 1, 1, 0, 0, 0, 0, 1, 1, 1, 1, 0, 1, 0, 0, 0, 1, 1, 0, 0, 1,\n",
       "       1, 0, 1, 0, 0, 0, 1, 0, 0, 1, 1, 1, 0, 0, 0, 1, 0, 1, 0, 0, 1, 0,\n",
       "       0, 0, 0, 1, 3, 3, 0, 0, 0, 1, 3, 1, 1, 1, 1, 0, 0, 0, 0, 1, 1, 1,\n",
       "       0, 1, 0, 1, 1, 1, 1, 0, 1, 1, 0, 1, 1, 0, 0, 1, 0, 1, 0, 0, 0, 0,\n",
       "       1, 1, 0, 1, 0, 1, 1, 1, 1, 1, 1, 0, 0, 0, 1, 1, 1, 1, 1, 1, 0, 1,\n",
       "       0, 0, 0, 0, 1, 1, 1, 1, 0, 1, 1, 0, 1, 1, 0, 3, 0, 1, 0, 0, 1, 1,\n",
       "       0, 1, 0, 0, 0, 0, 0, 1, 0, 1, 0, 1, 1, 0, 1, 1, 1, 1, 1, 0, 0, 0,\n",
       "       1, 1, 1, 0, 1, 0, 1, 0, 1, 1, 1, 1, 0, 1, 1, 1, 0, 1, 0, 1, 0, 1,\n",
       "       1, 1, 0, 0, 1, 1, 1, 1, 1, 1, 0, 1, 0, 1, 0, 1, 1, 3, 1, 2, 1, 1,\n",
       "       1, 0, 0, 1], dtype=int32)"
      ]
     },
     "metadata": {},
     "execution_count": 23
    }
   ],
   "metadata": {}
  },
  {
   "cell_type": "code",
   "execution_count": 24,
   "source": [
    "# Create a new DataFrame including predicted clusters and cryptocurrencies features.\n",
    "# Concatentate the crypto_df and pcs_df DataFrames on the same columns.\n",
    "df_y = pd.DataFrame(y_pred, columns=['Cluster'],index=CoinName_df.index)\n",
    "clustered_df = crypto_df.join(df_y, how='inner')\n",
    "clustered_df = clustered_df.join(df_pca, how='inner')\n",
    "\n",
    "#  Add a new column, \"CoinName\" to the clustered_df DataFrame that holds the names of the cryptocurrencies. \n",
    "clustered_df = clustered_df.join(CoinName_df, how='inner')\n",
    "\n",
    "#  Add a new column, \"Class\" to the clustered_df DataFrame that holds the predictions.\n",
    "clustered_df.rename(columns={'Cluster':'Class'},inplace=True)\n",
    "\n",
    "# Print the shape of the clustered_df\n",
    "print(clustered_df.shape)\n",
    "clustered_df.head(10)"
   ],
   "outputs": [
    {
     "output_type": "stream",
     "name": "stdout",
     "text": [
      "(532, 9)\n"
     ]
    },
    {
     "output_type": "execute_result",
     "data": {
      "text/html": [
       "<div>\n",
       "<style scoped>\n",
       "    .dataframe tbody tr th:only-of-type {\n",
       "        vertical-align: middle;\n",
       "    }\n",
       "\n",
       "    .dataframe tbody tr th {\n",
       "        vertical-align: top;\n",
       "    }\n",
       "\n",
       "    .dataframe thead th {\n",
       "        text-align: right;\n",
       "    }\n",
       "</style>\n",
       "<table border=\"1\" class=\"dataframe\">\n",
       "  <thead>\n",
       "    <tr style=\"text-align: right;\">\n",
       "      <th></th>\n",
       "      <th>Algorithm</th>\n",
       "      <th>ProofType</th>\n",
       "      <th>TotalCoinsMined</th>\n",
       "      <th>TotalCoinSupply</th>\n",
       "      <th>Class</th>\n",
       "      <th>pc1</th>\n",
       "      <th>pc2</th>\n",
       "      <th>pc3</th>\n",
       "      <th>CoinName</th>\n",
       "    </tr>\n",
       "    <tr>\n",
       "      <th>Ticker</th>\n",
       "      <th></th>\n",
       "      <th></th>\n",
       "      <th></th>\n",
       "      <th></th>\n",
       "      <th></th>\n",
       "      <th></th>\n",
       "      <th></th>\n",
       "      <th></th>\n",
       "      <th></th>\n",
       "    </tr>\n",
       "  </thead>\n",
       "  <tbody>\n",
       "    <tr>\n",
       "      <th>42</th>\n",
       "      <td>Scrypt</td>\n",
       "      <td>PoW/PoS</td>\n",
       "      <td>4.199995e+01</td>\n",
       "      <td>42</td>\n",
       "      <td>1</td>\n",
       "      <td>-0.333267</td>\n",
       "      <td>1.021902</td>\n",
       "      <td>-0.577230</td>\n",
       "      <td>42 Coin</td>\n",
       "    </tr>\n",
       "    <tr>\n",
       "      <th>404</th>\n",
       "      <td>Scrypt</td>\n",
       "      <td>PoW/PoS</td>\n",
       "      <td>1.055185e+09</td>\n",
       "      <td>532000000</td>\n",
       "      <td>1</td>\n",
       "      <td>-0.316601</td>\n",
       "      <td>1.021935</td>\n",
       "      <td>-0.577627</td>\n",
       "      <td>404Coin</td>\n",
       "    </tr>\n",
       "    <tr>\n",
       "      <th>1337</th>\n",
       "      <td>X13</td>\n",
       "      <td>PoW/PoS</td>\n",
       "      <td>2.927942e+10</td>\n",
       "      <td>314159265359</td>\n",
       "      <td>1</td>\n",
       "      <td>2.305805</td>\n",
       "      <td>1.606042</td>\n",
       "      <td>-0.694726</td>\n",
       "      <td>EliteCoin</td>\n",
       "    </tr>\n",
       "    <tr>\n",
       "      <th>BTC</th>\n",
       "      <td>SHA-256</td>\n",
       "      <td>PoW</td>\n",
       "      <td>1.792718e+07</td>\n",
       "      <td>21000000</td>\n",
       "      <td>0</td>\n",
       "      <td>-0.145757</td>\n",
       "      <td>-1.321541</td>\n",
       "      <td>0.186529</td>\n",
       "      <td>Bitcoin</td>\n",
       "    </tr>\n",
       "    <tr>\n",
       "      <th>ETH</th>\n",
       "      <td>Ethash</td>\n",
       "      <td>PoW</td>\n",
       "      <td>1.076842e+08</td>\n",
       "      <td>0</td>\n",
       "      <td>0</td>\n",
       "      <td>-0.146751</td>\n",
       "      <td>-2.047730</td>\n",
       "      <td>0.386068</td>\n",
       "      <td>Ethereum</td>\n",
       "    </tr>\n",
       "    <tr>\n",
       "      <th>LTC</th>\n",
       "      <td>Scrypt</td>\n",
       "      <td>PoW</td>\n",
       "      <td>6.303924e+07</td>\n",
       "      <td>84000000</td>\n",
       "      <td>0</td>\n",
       "      <td>-0.163127</td>\n",
       "      <td>-1.131880</td>\n",
       "      <td>0.007173</td>\n",
       "      <td>Litecoin</td>\n",
       "    </tr>\n",
       "    <tr>\n",
       "      <th>DASH</th>\n",
       "      <td>X11</td>\n",
       "      <td>PoW/PoS</td>\n",
       "      <td>9.031294e+06</td>\n",
       "      <td>22000000</td>\n",
       "      <td>1</td>\n",
       "      <td>-0.402792</td>\n",
       "      <td>1.261040</td>\n",
       "      <td>-0.527785</td>\n",
       "      <td>Dash</td>\n",
       "    </tr>\n",
       "    <tr>\n",
       "      <th>XMR</th>\n",
       "      <td>CryptoNight-V7</td>\n",
       "      <td>PoW</td>\n",
       "      <td>1.720114e+07</td>\n",
       "      <td>0</td>\n",
       "      <td>0</td>\n",
       "      <td>-0.152939</td>\n",
       "      <td>-2.198972</td>\n",
       "      <td>0.393988</td>\n",
       "      <td>Monero</td>\n",
       "    </tr>\n",
       "    <tr>\n",
       "      <th>ETC</th>\n",
       "      <td>Ethash</td>\n",
       "      <td>PoW</td>\n",
       "      <td>1.133597e+08</td>\n",
       "      <td>210000000</td>\n",
       "      <td>0</td>\n",
       "      <td>-0.145194</td>\n",
       "      <td>-2.047842</td>\n",
       "      <td>0.386048</td>\n",
       "      <td>Ethereum Classic</td>\n",
       "    </tr>\n",
       "    <tr>\n",
       "      <th>ZEC</th>\n",
       "      <td>Equihash</td>\n",
       "      <td>PoW</td>\n",
       "      <td>7.383056e+06</td>\n",
       "      <td>21000000</td>\n",
       "      <td>0</td>\n",
       "      <td>-0.143710</td>\n",
       "      <td>-2.073763</td>\n",
       "      <td>0.370757</td>\n",
       "      <td>ZCash</td>\n",
       "    </tr>\n",
       "  </tbody>\n",
       "</table>\n",
       "</div>"
      ],
      "text/plain": [
       "             Algorithm ProofType  TotalCoinsMined TotalCoinSupply  Class  \\\n",
       "Ticker                                                                     \n",
       "42              Scrypt   PoW/PoS     4.199995e+01              42      1   \n",
       "404             Scrypt   PoW/PoS     1.055185e+09       532000000      1   \n",
       "1337               X13   PoW/PoS     2.927942e+10    314159265359      1   \n",
       "BTC            SHA-256       PoW     1.792718e+07        21000000      0   \n",
       "ETH             Ethash       PoW     1.076842e+08               0      0   \n",
       "LTC             Scrypt       PoW     6.303924e+07        84000000      0   \n",
       "DASH               X11   PoW/PoS     9.031294e+06        22000000      1   \n",
       "XMR     CryptoNight-V7       PoW     1.720114e+07               0      0   \n",
       "ETC             Ethash       PoW     1.133597e+08       210000000      0   \n",
       "ZEC           Equihash       PoW     7.383056e+06        21000000      0   \n",
       "\n",
       "             pc1       pc2       pc3          CoinName  \n",
       "Ticker                                                  \n",
       "42     -0.333267  1.021902 -0.577230           42 Coin  \n",
       "404    -0.316601  1.021935 -0.577627           404Coin  \n",
       "1337    2.305805  1.606042 -0.694726         EliteCoin  \n",
       "BTC    -0.145757 -1.321541  0.186529           Bitcoin  \n",
       "ETH    -0.146751 -2.047730  0.386068          Ethereum  \n",
       "LTC    -0.163127 -1.131880  0.007173          Litecoin  \n",
       "DASH   -0.402792  1.261040 -0.527785              Dash  \n",
       "XMR    -0.152939 -2.198972  0.393988            Monero  \n",
       "ETC    -0.145194 -2.047842  0.386048  Ethereum Classic  \n",
       "ZEC    -0.143710 -2.073763  0.370757             ZCash  "
      ]
     },
     "metadata": {},
     "execution_count": 24
    }
   ],
   "metadata": {}
  },
  {
   "cell_type": "markdown",
   "source": [
    "### Deliverable 4: Visualizing Cryptocurrencies Results\n",
    "\n",
    "#### 3D-Scatter with Clusters"
   ],
   "metadata": {}
  },
  {
   "cell_type": "code",
   "execution_count": 25,
   "source": [
    "# Creating a 3D-Scatter with the PCA data and the clusters\n",
    "fig = px.scatter_3d(\n",
    "    clustered_df,\n",
    "    x=\"pc1\",\n",
    "    y=\"pc2\",\n",
    "    z=\"pc3\",\n",
    "    color=\"Class\",\n",
    "    symbol=\"Class\",\n",
    "    hover_data=['Algorithm','CoinName'],\n",
    "    width=800,\n",
    ")\n",
    "fig.update_layout(legend=dict(x=0, y=1))\n",
    "fig.show()\n"
   ],
   "outputs": [
    {
     "output_type": "display_data",
     "data": {
      "application/vnd.plotly.v1+json": {
       "data": [
        {
         "customdata": [
          [
           "Scrypt",
           "42 Coin"
          ],
          [
           "Scrypt",
           "404Coin"
          ],
          [
           "X13",
           "EliteCoin"
          ],
          [
           "X11",
           "Dash"
          ],
          [
           "SHA-512",
           "Bitshares"
          ],
          [
           "SHA-256",
           "BitcoinDark"
          ],
          [
           "SHA-256",
           "PayCoin"
          ],
          [
           "X15",
           "KoboCoin"
          ],
          [
           "Scrypt",
           "Aurora Coin"
          ],
          [
           "Scrypt",
           "BlueCoin"
          ],
          [
           "Scrypt",
           "EnergyCoin"
          ],
          [
           "Scrypt",
           "BitBar"
          ],
          [
           "Scrypt",
           "CryptoBullion"
          ],
          [
           "Scrypt",
           "CasinoCoin"
          ],
          [
           "Groestl",
           "Diamond"
          ],
          [
           "PoS",
           "Exclusive Coin"
          ],
          [
           "Scrypt",
           "FlutterCoin"
          ],
          [
           "Scrypt",
           "HoboNickels"
          ],
          [
           "X11",
           "HyperStake"
          ],
          [
           "X11",
           "IOCoin"
          ],
          [
           "SHA3",
           "MaxCoin"
          ],
          [
           "Scrypt",
           "MintCoin"
          ],
          [
           "SHA-256",
           "MazaCoin"
          ],
          [
           "Scrypt",
           "Nautilus Coin"
          ],
          [
           "X13",
           "NavCoin"
          ],
          [
           "X13",
           "OpalCoin"
          ],
          [
           "NeoScrypt",
           "Orbitcoin"
          ],
          [
           "Scrypt",
           "PotCoin"
          ],
          [
           "Scrypt",
           "PhoenixCoin"
          ],
          [
           "Scrypt",
           "Reddcoin"
          ],
          [
           "X11",
           "SuperCoin"
          ],
          [
           "X11",
           "SyncCoin"
          ],
          [
           "Multiple",
           "TeslaCoin"
          ],
          [
           "PHI1612",
           "TittieCoin"
          ],
          [
           "X11",
           "TorCoin"
          ],
          [
           "Scrypt",
           "UnitaryStatus Dollar"
          ],
          [
           "Scrypt",
           "UltraCoin"
          ],
          [
           "Scrypt",
           "VeriCoin"
          ],
          [
           "X11",
           "X11 Coin"
          ],
          [
           "Multiple",
           "Crypti"
          ],
          [
           "X13",
           "StealthCoin"
          ],
          [
           "Scrypt",
           "ZCC Coin"
          ],
          [
           "Shabal256",
           "BurstCoin"
          ],
          [
           "Counterparty",
           "StorjCoin"
          ],
          [
           "SHA-256",
           "Neutron"
          ],
          [
           "Groestl",
           "FairCoin"
          ],
          [
           "Scrypt",
           "RubyCoin"
          ],
          [
           "X13",
           "Kore"
          ],
          [
           "Scrypt",
           "Dnotes"
          ],
          [
           "Scrypt",
           "8BIT Coin"
          ],
          [
           "X13",
           "Sativa Coin"
          ],
          [
           "X11",
           "Ucoin"
          ],
          [
           "Scrypt",
           "Vtorrent"
          ],
          [
           "X11",
           "IslaCoin"
          ],
          [
           "SHA3",
           "Nexus"
          ],
          [
           "QUAIT",
           "Droidz"
          ],
          [
           "X11",
           "Squall Coin"
          ],
          [
           "Scrypt",
           "Diggits"
          ],
          [
           "X13",
           "Paycon"
          ],
          [
           "SHA-256",
           "Emercoin"
          ],
          [
           "X15",
           "EverGreenCoin"
          ],
          [
           "BLAKE256",
           "Decred"
          ],
          [
           "SHA-256",
           "EDRCoin"
          ],
          [
           "X11",
           "Hitcoin"
          ],
          [
           "SHA-256",
           "DubaiCoin"
          ],
          [
           "NIST5",
           "PWR Coin"
          ],
          [
           "Scrypt",
           "BillaryCoin"
          ],
          [
           "Scrypt",
           "GPU Coin"
          ],
          [
           "X11",
           "EuropeCoin"
          ],
          [
           "Scrypt",
           "ZeitCoin"
          ],
          [
           "SHA-256",
           "SwingCoin"
          ],
          [
           "Scrypt",
           "SafeExchangeCoin"
          ],
          [
           "PoS",
           "Nebuchadnezzar"
          ],
          [
           "X11",
           "Ratecoin"
          ],
          [
           "SHA-256",
           "Revenu"
          ],
          [
           "SHA-256",
           "Clockcoin"
          ],
          [
           "NIST5",
           "VIP Tokens"
          ],
          [
           "X11",
           "BitSend"
          ],
          [
           "POS 3.0",
           "Let it Ride"
          ],
          [
           "Scrypt",
           "PutinCoin"
          ],
          [
           "Scrypt",
           "iBankCoin"
          ],
          [
           "Scrypt",
           "Frankywillcoin"
          ],
          [
           "X13",
           "MudraCoin"
          ],
          [
           "X11",
           "Lutetium Coin"
          ],
          [
           "X11",
           "GoldBlocks"
          ],
          [
           "Scrypt",
           "CarterCoin"
          ],
          [
           "SHA-256",
           "BitTokens"
          ],
          [
           "X11",
           "MustangCoin"
          ],
          [
           "Scrypt",
           "ZoneCoin"
          ],
          [
           "Scrypt",
           "RootCoin"
          ],
          [
           "Scrypt",
           "BitCurrency"
          ],
          [
           "Scrypt",
           "Swiscoin"
          ],
          [
           "SHA-256D",
           "BuzzCoin"
          ],
          [
           "PoS",
           "Opair"
          ],
          [
           "Scrypt",
           "PesoBit"
          ],
          [
           "X11",
           "Halloween Coin"
          ],
          [
           "PoS",
           "CoffeeCoin"
          ],
          [
           "X13",
           "RoyalCoin"
          ],
          [
           "X14",
           "GanjaCoin V2"
          ],
          [
           "PoS",
           "TeamUP"
          ],
          [
           "SHA-256D",
           "LanaCoin"
          ],
          [
           "DPoS",
           "ARK"
          ],
          [
           "X11",
           "InsaneCoin"
          ],
          [
           "X13",
           "EmberCoin"
          ],
          [
           "X11",
           "XenixCoin"
          ],
          [
           "PoS",
           "FreeCoin"
          ],
          [
           "Scrypt",
           "PLNCoin"
          ],
          [
           "Scrypt",
           "AquariusCoin"
          ],
          [
           "PoS",
           "Creatio"
          ],
          [
           "X11",
           "Eternity"
          ],
          [
           "SHA-256",
           "Eurocoin"
          ],
          [
           "Scrypt",
           "BitcoinFast"
          ],
          [
           "X11",
           "Stakenet"
          ],
          [
           "Scrypt",
           "BitConnect Coin"
          ],
          [
           "Scrypt",
           "MoneyCoin"
          ],
          [
           "X11",
           "Enigma"
          ],
          [
           "Scrypt",
           "Russiacoin"
          ],
          [
           "Scrypt",
           "PandaCoin"
          ],
          [
           "Scrypt",
           "GameUnits"
          ],
          [
           "Scrypt",
           "GAKHcoin"
          ],
          [
           "Quark",
           "Allsafe"
          ],
          [
           "QuBit",
           "LiteCreed"
          ],
          [
           "Scrypt",
           "Klingon Empire Darsek"
          ],
          [
           "SHA-256",
           "Internet of People"
          ],
          [
           "X11",
           "KushCoin"
          ],
          [
           "Scrypt",
           "Printerium"
          ],
          [
           "Scrypt",
           "Impeach"
          ],
          [
           "Scrypt",
           "Zilbercoin"
          ],
          [
           "Scrypt",
           "FirstCoin"
          ],
          [
           "X13",
           "FindCoin"
          ],
          [
           "Scrypt",
           "OpenChat"
          ],
          [
           "Scrypt",
           "RenosCoin"
          ],
          [
           "X11",
           "VirtacoinPlus"
          ],
          [
           "Blake2S",
           "TajCoin"
          ],
          [
           "X11",
           "Impact"
          ],
          [
           "PoS",
           "Atmos"
          ],
          [
           "X11",
           "HappyCoin"
          ],
          [
           "PoS",
           "MacronCoin"
          ],
          [
           "X11",
           "Condensate"
          ],
          [
           "Scrypt",
           "Independent Money System"
          ],
          [
           "Scrypt",
           "ArgusCoin"
          ],
          [
           "Scrypt",
           "LomoCoin"
          ],
          [
           "SHA-256",
           "ProCurrency"
          ],
          [
           "X11",
           "GoldReserve"
          ],
          [
           "Scrypt",
           "GrowthCoin"
          ],
          [
           "PoS",
           "Phreak"
          ],
          [
           "Scrypt",
           "Degas Coin"
          ],
          [
           "X15",
           "HTML5 Coin"
          ],
          [
           "SHA-256",
           "Ultimate Secure Cash"
          ],
          [
           "POS 3.0",
           "QTUM"
          ],
          [
           "536",
           "Espers"
          ],
          [
           "NIST5",
           "Denarius"
          ],
          [
           "NIST5",
           "Virta Unique Coin"
          ],
          [
           "Skein",
           "Bitcoin Planet"
          ],
          [
           "X13",
           "BritCoin"
          ],
          [
           "Scrypt",
           "Linda"
          ],
          [
           "X13",
           "DeepOnion"
          ],
          [
           "SkunkHash v2 Raptor",
           "Signatum"
          ],
          [
           "Skein",
           "Cream"
          ],
          [
           "X11",
           "Monoeci"
          ],
          [
           "Scrypt",
           "Draftcoin"
          ],
          [
           "PoS",
           "Stakecoin"
          ],
          [
           "Scrypt",
           "CoinonatX"
          ],
          [
           "Scrypt",
           "Ethereum Dark"
          ],
          [
           "SHA-512",
           "Obsidian"
          ],
          [
           "Ouroboros",
           "Cardano"
          ],
          [
           "X11",
           "Regalcoin"
          ],
          [
           "NeoScrypt",
           "TrezarCoin"
          ],
          [
           "Scrypt",
           "TerraNovaCoin"
          ],
          [
           "Lyra2REv2",
           "Rupee"
          ],
          [
           "Scrypt",
           "WomenCoin"
          ],
          [
           "SHA-256",
           "Theresa May Coin"
          ],
          [
           "NIST5",
           "NamoCoin"
          ],
          [
           "PHI1612",
           "LUXCoin"
          ],
          [
           "Scrypt",
           "Xios"
          ],
          [
           "Quark",
           "Bitcloud 2.0"
          ],
          [
           "POS 2.0",
           "KekCoin"
          ],
          [
           "Scrypt",
           "BlackholeCoin"
          ],
          [
           "SHA-256",
           "Infinity Economics"
          ],
          [
           "X11",
           "Magnet"
          ],
          [
           "DPoS",
           "Lamden Tau"
          ],
          [
           "NIST5",
           "Electra"
          ],
          [
           "X13",
           "Bitcoin Diamond"
          ],
          [
           "Scrypt",
           "Cash & Back Coin"
          ],
          [
           "NIST5",
           "Bulwark"
          ],
          [
           "Quark",
           "Kalkulus"
          ],
          [
           "Scrypt",
           "GermanCoin"
          ],
          [
           "Scrypt",
           "LiteCoin Ultra"
          ],
          [
           "X11",
           "PhantomX"
          ],
          [
           "Quark",
           "Digiwage"
          ],
          [
           "Scrypt",
           "Trollcoin"
          ],
          [
           "Scrypt",
           "Litecoin Plus"
          ],
          [
           "X11",
           "Monkey Project"
          ],
          [
           "POS 3.0",
           "TokenPay"
          ],
          [
           "Scrypt",
           "My Big Coin"
          ],
          [
           "Scrypt",
           "Unified Society USDEX"
          ],
          [
           "X13",
           "Tokyo Coin"
          ],
          [
           "C11",
           "Stipend"
          ],
          [
           "X11",
           "Pushi"
          ],
          [
           "XEVAN",
           "Ellerium"
          ],
          [
           "Scrypt",
           "Velox"
          ],
          [
           "VBFT",
           "Ontology"
          ],
          [
           "NIST5",
           "Bitspace"
          ],
          [
           "Scrypt",
           "Briacoin"
          ],
          [
           "Scrypt",
           "Ignition"
          ],
          [
           "Scrypt",
           "MedicCoin"
          ],
          [
           "Green Protocol",
           "Bitcoin Green"
          ],
          [
           "PoS",
           "Deviant Coin"
          ],
          [
           "Scrypt",
           "Abjcoin"
          ],
          [
           "Semux BFT consensus",
           "Semux"
          ],
          [
           "Quark",
           "Carebit"
          ],
          [
           "PoS",
           "Zealium"
          ],
          [
           "X16R",
           "Proton"
          ],
          [
           "Scrypt",
           "iDealCash"
          ],
          [
           "XEVAN",
           "Bitcoin Incognito"
          ],
          [
           "Scrypt",
           "HollyWoodCoin"
          ],
          [
           "Scrypt",
           "Swisscoin"
          ],
          [
           "Scrypt",
           "Xt3ch"
          ],
          [
           "SHA-256D",
           "TheVig"
          ],
          [
           "Scrypt",
           "EmaratCoin"
          ],
          [
           "X15",
           "Dekado"
          ],
          [
           "Scrypt",
           "Lynx"
          ],
          [
           "Quark",
           "Poseidon Quark"
          ],
          [
           "SHA-256",
           "BitcoinWSpectrum"
          ],
          [
           "DPoS",
           "Muse"
          ],
          [
           "X16R",
           "Trivechain"
          ],
          [
           "Quark",
           "Dystem"
          ],
          [
           "Quark",
           "Giant"
          ],
          [
           "Scrypt",
           "Peony Coin"
          ],
          [
           "Lyra2REv2",
           "Absolute Coin"
          ],
          [
           "Quark",
           "Vitae"
          ],
          [
           "Scrypt",
           "TPCash"
          ],
          [
           "X11",
           "ARENON"
          ],
          [
           "X11",
           "EUNO"
          ],
          [
           "Scrypt",
           "MMOCoin"
          ],
          [
           "PoS",
           "Ketan"
          ],
          [
           "Keccak",
           "XDNA"
          ],
          [
           "X11",
           "PAXEX"
          ],
          [
           "Scrypt",
           "ThunderStake"
          ],
          [
           "SHA-512",
           "Kcash"
          ],
          [
           "XEVAN",
           "Bettex coin"
          ],
          [
           "XEVAN",
           "BitMoney"
          ],
          [
           "X11",
           "Junson Ming Chan Coin"
          ],
          [
           "Quark",
           "HerbCoin"
          ],
          [
           "Scrypt",
           "Oduwa"
          ],
          [
           "Quark",
           "Galilel"
          ],
          [
           "Quark",
           "Crypto Sports"
          ],
          [
           "Scrypt",
           "Credit"
          ],
          [
           "X11",
           "Dash Platinum"
          ],
          [
           "Scrypt",
           "Nasdacoin"
          ],
          [
           "XEVAN",
           "Beetle Coin"
          ],
          [
           "SHA-256D",
           "Titan Coin"
          ],
          [
           "X11",
           "Award"
          ],
          [
           "X11",
           "Insane Coin"
          ],
          [
           "DPoS",
           "ALAX"
          ],
          [
           "Scrypt",
           "LiteDoge"
          ],
          [
           "X11",
           "TruckCoin"
          ],
          [
           "Scrypt",
           "OrangeCoin"
          ],
          [
           "Scrypt",
           "BitstarCoin"
          ],
          [
           "SHA-256",
           "NeosCoin"
          ],
          [
           "Scrypt",
           "HyperCoin"
          ],
          [
           "X11",
           "PinkCoin"
          ],
          [
           "Scrypt",
           "AudioCoin"
          ],
          [
           "SHA-256",
           "IncaKoin"
          ],
          [
           "X11",
           "Piggy Coin"
          ],
          [
           "Scrypt",
           "Genstake"
          ],
          [
           "Scrypt",
           "XiaoMiCoin"
          ],
          [
           "X11",
           "CapriCoin"
          ],
          [
           "Scrypt",
           " ClubCoin"
          ],
          [
           "PoS",
           "Radium"
          ],
          [
           "X11",
           "Creditbit "
          ],
          [
           "SHA-256",
           "OKCash"
          ],
          [
           "DPoS",
           "Lisk"
          ],
          [
           "Scrypt",
           "HiCoin"
          ],
          [
           "Scrypt",
           "WhiteCoin"
          ],
          [
           "NeoScrypt",
           "FriendshipCoin"
          ],
          [
           "X13",
           "Triangles Coin"
          ],
          [
           "DPoS",
           "EOS"
          ],
          [
           "DPoS",
           "Oxycoin"
          ],
          [
           "SHA-256",
           "TigerCash"
          ],
          [
           "PoS",
           "Particl"
          ],
          [
           "PoS",
           "Nxt"
          ],
          [
           "SHA-256",
           "ZEPHYR"
          ],
          [
           "Scrypt",
           "Gapcoin"
          ],
          [
           "Scrypt",
           "BitcoinPlus"
          ]
         ],
         "hovertemplate": "Class=%{marker.color}<br>pc1=%{x}<br>pc2=%{y}<br>pc3=%{z}<br>Algorithm=%{customdata[0]}<br>CoinName=%{customdata[1]}<extra></extra>",
         "legendgroup": "1",
         "marker": {
          "color": [
           1,
           1,
           1,
           1,
           1,
           1,
           1,
           1,
           1,
           1,
           1,
           1,
           1,
           1,
           1,
           1,
           1,
           1,
           1,
           1,
           1,
           1,
           1,
           1,
           1,
           1,
           1,
           1,
           1,
           1,
           1,
           1,
           1,
           1,
           1,
           1,
           1,
           1,
           1,
           1,
           1,
           1,
           1,
           1,
           1,
           1,
           1,
           1,
           1,
           1,
           1,
           1,
           1,
           1,
           1,
           1,
           1,
           1,
           1,
           1,
           1,
           1,
           1,
           1,
           1,
           1,
           1,
           1,
           1,
           1,
           1,
           1,
           1,
           1,
           1,
           1,
           1,
           1,
           1,
           1,
           1,
           1,
           1,
           1,
           1,
           1,
           1,
           1,
           1,
           1,
           1,
           1,
           1,
           1,
           1,
           1,
           1,
           1,
           1,
           1,
           1,
           1,
           1,
           1,
           1,
           1,
           1,
           1,
           1,
           1,
           1,
           1,
           1,
           1,
           1,
           1,
           1,
           1,
           1,
           1,
           1,
           1,
           1,
           1,
           1,
           1,
           1,
           1,
           1,
           1,
           1,
           1,
           1,
           1,
           1,
           1,
           1,
           1,
           1,
           1,
           1,
           1,
           1,
           1,
           1,
           1,
           1,
           1,
           1,
           1,
           1,
           1,
           1,
           1,
           1,
           1,
           1,
           1,
           1,
           1,
           1,
           1,
           1,
           1,
           1,
           1,
           1,
           1,
           1,
           1,
           1,
           1,
           1,
           1,
           1,
           1,
           1,
           1,
           1,
           1,
           1,
           1,
           1,
           1,
           1,
           1,
           1,
           1,
           1,
           1,
           1,
           1,
           1,
           1,
           1,
           1,
           1,
           1,
           1,
           1,
           1,
           1,
           1,
           1,
           1,
           1,
           1,
           1,
           1,
           1,
           1,
           1,
           1,
           1,
           1,
           1,
           1,
           1,
           1,
           1,
           1,
           1,
           1,
           1,
           1,
           1,
           1,
           1,
           1,
           1,
           1,
           1,
           1,
           1,
           1,
           1,
           1,
           1,
           1,
           1,
           1,
           1,
           1,
           1,
           1,
           1,
           1,
           1,
           1,
           1,
           1,
           1,
           1,
           1,
           1,
           1,
           1,
           1,
           1,
           1,
           1,
           1,
           1,
           1,
           1,
           1,
           1,
           1,
           1,
           1,
           1,
           1,
           1,
           1,
           1,
           1,
           1,
           1,
           1,
           1,
           1,
           1,
           1,
           1,
           1
          ],
          "coloraxis": "coloraxis",
          "symbol": "circle"
         },
         "mode": "markers",
         "name": "1",
         "scene": "scene",
         "showlegend": true,
         "x": [
          -0.3332666185561337,
          -0.3166007682127063,
          2.3058052181919146,
          -0.40279176361110225,
          -0.2831162905934266,
          -0.3147276647340631,
          -0.26563194755434294,
          -0.2504226912694372,
          -0.33292614721208424,
          -0.3255010760489838,
          -0.3317626634834415,
          -0.33326255540158056,
          -0.3332468330772637,
          0.6821472781716221,
          -0.3705762312826055,
          -0.3505788978461946,
          -0.30262217577113776,
          -0.33132522029567657,
          -0.3335125849852738,
          -0.4026864228623839,
          -0.4164858480861265,
          -0.02400042236569752,
          -0.2780312191702146,
          -0.28392201068434714,
          -0.2777217114757342,
          -0.2783441381811411,
          -0.34717531807441704,
          -0.32756864735801294,
          -0.33166821426108806,
          0.025000211241976114,
          -0.3534061519904061,
          -0.40305803237739074,
          -0.2496064451894077,
          -0.3237203982555895,
          -0.4029696831379369,
          -0.30849675206672283,
          -0.3319439726807965,
          -0.2613695419491306,
          -0.40293412783906085,
          -0.25007392742220846,
          -0.27812492490557444,
          -0.3243708244831626,
          0.03839974267612687,
          -0.33396338941806475,
          -0.3139392968505207,
          -0.369997573367895,
          -0.2839021952163785,
          -0.2784196017451726,
          -0.27855646040389864,
          -0.33324868081792125,
          -0.278371762057353,
          -0.3538512362416744,
          -0.3329830535571003,
          -0.40303955480586356,
          -0.4128137852750921,
          -0.4095234525683047,
          -0.3522334396930342,
          -0.28230359371335306,
          -0.27789340011554053,
          -0.3072858990253034,
          -0.2528636309111979,
          -0.07906419510269509,
          -0.3146985685082306,
          -0.08050641653959645,
          -0.31476223686482374,
          -0.23564072931230934,
          -0.33285898294421684,
          -0.28217310221310893,
          -0.4002093814629891,
          0.8692254478246205,
          -0.31456235387228293,
          -0.048718292033340806,
          -0.3502621448996155,
          -0.4008821120407724,
          -0.31330622724933743,
          -0.31097491746947753,
          -0.35704220804273895,
          -0.4017748896406184,
          -0.33087115140911766,
          -0.30915538287290284,
          -0.3328971037787445,
          -0.33133579501610166,
          -0.22801861831129328,
          -0.34134033656005247,
          -0.4025134870898881,
          -0.33210124392739243,
          -0.3147432264088361,
          -0.4030287552470637,
          -0.333086233804852,
          -0.3332429118986341,
          -0.2821617459485438,
          -0.19245854570440685,
          0.022108537685080934,
          -0.3492190865957624,
          -0.33285693384103743,
          -0.3891926072613614,
          -0.3485473477813878,
          -0.2294488904678403,
          -0.4316301620057632,
          -0.34829729976401697,
          -0.292474774164999,
          3.72264728047378,
          -0.4026212695364609,
          0.8541872801893075,
          -0.4029836528770242,
          -0.34968289759432064,
          -0.33278462594029956,
          -0.33293902058667585,
          -0.3502621448996155,
          -0.4025586464602537,
          -0.3146058471220624,
          -0.33278533867715143,
          -0.41155088713463894,
          -0.33293275978182807,
          -0.3285218776116847,
          -0.40301266172026656,
          -0.33214367625697405,
          0.35943720321210026,
          -0.3331320422935665,
          -0.3332025973056453,
          -0.3541151350973529,
          -0.34329452275529354,
          -0.3294301376547459,
          -0.3147196318570225,
          -0.40292260011091674,
          -0.33298040151726793,
          -0.33310740718691156,
          -0.28380890468740766,
          -0.2765476483557347,
          -0.229216714101465,
          -0.3139583758572549,
          -0.28354985803955707,
          -0.40218847134530333,
          -0.4353489912144866,
          -0.4009264430651415,
          -0.34850846637082256,
          -0.40208632085943113,
          -0.3429076413619916,
          -0.39802757518311666,
          -0.33305067085183054,
          -0.33304989173768285,
          -0.3261733091426436,
          0.2669016185808295,
          -0.40256471364900376,
          -0.2664531551957675,
          -0.3502964933281292,
          -0.3322614370078043,
          0.8815282701982233,
          -0.26432269274393494,
          -0.3296493559903896,
          0.55848377099854,
          -0.358578056407582,
          -0.3570802252265651,
          -0.41054466691671415,
          -0.2780568304984799,
          0.13163186305107152,
          -0.2781275807061892,
          -0.32727013510275793,
          -0.4100493792912422,
          -0.4028370644124789,
          -0.28388297406293145,
          -0.3501628543409585,
          -0.33268585364611303,
          -0.3331855247443431,
          -0.3411858820488356,
          0.6689983753395028,
          -0.4027779453232812,
          -0.342174484341622,
          -0.3331411731227361,
          -0.31251646436249053,
          0.43613870893496187,
          -0.3130656575369325,
          -0.34334459973534515,
          -0.40835294475769285,
          -0.3330915167421112,
          -0.4015894154121224,
          -0.328482861494091,
          -0.33296184452273403,
          -0.09209294159747779,
          -0.40157067039074773,
          3.727503405399437,
          0.200983342811195,
          -0.27479807547774554,
          -0.3304220529284481,
          -0.309309381706087,
          -0.35400102011458634,
          0.08111702571175854,
          -0.3321006455271075,
          -0.4021516178140601,
          -0.35316588670478194,
          -0.31966522474038656,
          -0.3332076631323706,
          -0.3538231601324954,
          -0.33115313057931905,
          -0.27912864403424514,
          -0.32875232253399284,
          -0.2210129104576101,
          -0.3743746452098853,
          -0.4028543807462399,
          -0.30361530494791755,
          -0.28304311305054797,
          -0.33160180805059253,
          -0.35817704508622483,
          -0.33323502319121323,
          -0.3332167362188613,
          -0.27742416160126476,
          -0.32309080930402084,
          -0.3497572814697038,
          -0.3329332533236847,
          3.8982120618351073,
          -0.40025697888601053,
          -0.3499459826281615,
          -0.3131685388041315,
          -0.2798060575244173,
          -0.2529429686995313,
          -0.283577113257939,
          -0.13632253556682217,
          -0.2838293347129866,
          -0.3577815268381509,
          -0.3324073281157215,
          -0.2031752138452253,
          2.265870018562193,
          -0.34971010585465906,
          -0.264450044018507,
          1.0222986884686536,
          -0.3615372200677801,
          -0.3541145958346216,
          -0.4032733340475988,
          -0.1645897526056828,
          -0.36147704701716443,
          -0.3528340139519334,
          -0.32611337955751885,
          -0.35340056303724904,
          -0.4023276385850786,
          -0.2810747591910111,
          -0.34904601054843476,
          -0.34500640989638004,
          -0.35326208118520175,
          -0.19274327947070952,
          -0.35801301097612903,
          -0.2545761504489365,
          0.5558114997867125,
          -0.1437026207419681,
          -0.40256792200419744,
          -0.3329371910948216,
          -0.40302405312797945,
          -0.35423158132034127,
          0.5735782706839471,
          -0.35387748860647417,
          -0.33242019457077815,
          -0.298070829284381,
          -0.31250598449378386,
          -0.3998929786118744,
          -0.4025548708050425,
          3.739747281612189,
          0.1019981603177606,
          -0.40009354508230366,
          -0.3318059517614741,
          -0.33263062871767257,
          -0.26566462388953765,
          -0.3331489160500521,
          -0.3941817572371236,
          -0.2468654472905466,
          -0.09431060075319084,
          -0.3899307173153414,
          -0.3324270487431089,
          -0.32549057012641847,
          -0.39912303404391386,
          -0.33086629992664696,
          -0.35053782536088385,
          -0.3970623902941521,
          -0.3132425589366199,
          3.723039085359614,
          -0.09108637283940321,
          -0.32806068841664426,
          -0.34680128017635714,
          -0.2785267938585302,
          3.732911157426116,
          3.7341557211559535,
          -0.2465588895539044,
          -0.3504736682646329,
          -0.37117276794744414,
          2.4712402140122904,
          -0.3313123464723054,
          -0.28422576257478943
         ],
         "y": [
          1.0219019415126236,
          1.0219349459919607,
          1.606041615093034,
          1.2610398597005406,
          1.6538862311291802,
          0.8322087751022759,
          0.5895478711938488,
          1.8861059487829637,
          1.0218983965078683,
          1.0220945873215164,
          1.021939251311556,
          1.0219016847858393,
          1.0219017172670084,
          0.5732566774404487,
          0.9304426085835544,
          1.4996697447086242,
          0.35567212199915293,
          1.0218642901946768,
          1.0188886012913974,
          1.2610424729694192,
          2.229701340239469,
          0.7856884930458429,
          0.8314048722031978,
          0.7792288480521276,
          1.7666082641832481,
          1.766592823165787,
          0.5116646786692144,
          1.0217429496202735,
          1.021871513682657,
          1.03078974202849,
          1.018395086291438,
          1.2610489858543672,
          0.13250064494633157,
          1.5729201372963861,
          1.2610440272247587,
          1.0213722519020827,
          1.0218632425132523,
          0.2691734114638457,
          1.2610481272638523,
          0.1325605586771927,
          1.7665982613579239,
          1.0214075171228902,
          1.2323704363097259,
          1.4033194205127248,
          0.8321954377260209,
          0.9304600959733725,
          0.7792409100968042,
          1.766582369772569,
          0.7790159712383972,
          1.0219023865379044,
          1.7665849867868924,
          1.0183697425601295,
          1.0218946739730816,
          1.2610494449567886,
          2.7207155647106176,
          1.915123628264056,
          0.7441818449551465,
          0.7792090569106637,
          1.7665682495103834,
          0.8316940118866096,
          1.8862768768019498,
          0.9361590947874415,
          0.8322094969147031,
          1.250064622578718,
          0.8322161412008696,
          1.558697570736904,
          1.0218820194853075,
          0.7791257282606102,
          1.2608450533016555,
          0.7370516208935919,
          0.8322000041299088,
          0.5821942171028022,
          1.4996633004579651,
          1.2610493331056054,
          0.8321004974962911,
          0.8319421724503007,
          1.55562151115759,
          1.2609814182958856,
          1.451967179070444,
          1.0210698690546645,
          1.0218794052045423,
          1.021878330043814,
          1.5238126125364175,
          1.018224585488478,
          1.2610267400618949,
          1.0218664920567893,
          0.832209104161072,
          1.261047567542088,
          1.0218913991921896,
          1.0219025296519173,
          0.7792840867588939,
          0.17883508989519042,
          1.966658864800204,
          1.4996505605088932,
          1.0219121049061206,
          1.2603202929961577,
          1.4996915386360627,
          1.5239183646580114,
          2.0298710091726404,
          1.499511098190612,
          1.9677893294679438,
          2.046028825250523,
          1.261038368404289,
          1.7940805572953793,
          1.2610480762093872,
          1.4996562170143493,
          1.0218863383945203,
          1.0218800339300214,
          1.4996633004579651,
          1.2610184686665245,
          0.8322132273437984,
          1.0218902824181746,
          0.8911194073210811,
          1.0218902007756627,
          1.0215543551323552,
          1.2610465365681356,
          1.0218268235076435,
          0.7719490080188699,
          1.0218959836595578,
          1.0219011586157205,
          1.4529719108930703,
          0.5494615096678164,
          1.0216395614629863,
          0.832209689489245,
          1.2610456572101356,
          1.0218947397642713,
          1.0218902064928026,
          0.7792038934196626,
          0.35510845442835287,
          1.5239155254420407,
          1.0216658267353322,
          0.7792250321434189,
          1.260999047516287,
          1.8795271351525034,
          1.2610232045292122,
          1.4996422380757906,
          1.2610015816418678,
          1.4995740077746682,
          1.2608162263769822,
          1.0218921297400039,
          1.0218868659277163,
          1.0213628015011806,
          0.549134588038606,
          1.2610326203374629,
          0.7782435634027721,
          1.4996552972579353,
          1.021851791385712,
          1.850077584554918,
          0.5894462076932833,
          1.4519499343250766,
          1.988627744132955,
          1.5556406189246874,
          1.5555991147595771,
          1.9177360110959802,
          1.766578497351669,
          0.9976795744579812,
          1.7665846812052757,
          1.4553778461735152,
          1.9177482980766112,
          1.2610476695544148,
          0.7792289398174899,
          1.4996360151167136,
          1.0218818435739836,
          1.021900949840428,
          1.654955102238601,
          1.2888312147911263,
          1.2610366269553315,
          0.5115053904682574,
          1.0218938025124413,
          0.6613352098171461,
          1.023111440160103,
          0.8321942272726865,
          1.5551675470186126,
          1.81630808996344,
          1.0218912681343064,
          1.6955475373638,
          1.479295602158154,
          1.0218989270737693,
          0.5874259425436087,
          1.2609829089736215,
          2.0458811289157053,
          1.5480759630050587,
          1.7665306201318551,
          1.0218223359318366,
          1.3129645432073855,
          1.4529711662850295,
          0.9964264140800043,
          1.021823600348713,
          1.2610357172310274,
          1.4529203731593654,
          1.021595763472547,
          1.0219005436582718,
          1.018369723956522,
          1.4519662622248868,
          0.251866886424693,
          1.0218480258137193,
          1.5235573429827673,
          0.9599250599721116,
          1.261036160981508,
          1.420500831735496,
          0.7791735484651082,
          1.5135160571761554,
          1.5556219627519126,
          1.0219005800254903,
          1.0218996034660275,
          0.7790440610446846,
          1.3243400049782064,
          1.4996271975661404,
          1.0218887583135556,
          2.0686283676460944,
          1.6955805921403497,
          1.4996282371852727,
          0.5990382735860774,
          1.0195654242221242,
          0.9036578022382732,
          0.779230381815036,
          1.0194935706930783,
          0.7792112527977151,
          1.97146531354745,
          1.0218631894464858,
          1.6435783290300023,
          0.24730621261729197,
          1.4526270954845277,
          0.5895144320211143,
          1.7485557959391718,
          0.8416971572765841,
          1.45296763361567,
          1.6956451014164646,
          0.7701297419305829,
          0.9039858790364205,
          1.4529429083660577,
          1.02136428822044,
          1.018355893933928,
          1.2610313505485315,
          0.7791251240779076,
          1.49955759928578,
          0.8400370589946372,
          1.018327149444832,
          1.012516046056941,
          2.0860542910190336,
          1.1778388821878023,
          1.060139220022831,
          1.0235973628961745,
          1.6956276687447913,
          1.0218950966091997,
          1.6956413562289774,
          1.4529701877501815,
          0.9909085699232039,
          1.0183693058303125,
          1.0218628702584507,
          1.4203237297471165,
          1.9690844635434581,
          1.2608271586184292,
          1.26104001560863,
          2.045827317550523,
          1.0076710666911988,
          1.2611225288832768,
          1.0217951555824791,
          1.0218789199803702,
          0.589540982138549,
          1.0219048614791455,
          1.2609116325373242,
          1.0165367149919264,
          0.8375566921956478,
          1.260659536741763,
          1.0219120427577415,
          1.021808804262994,
          1.2609978623789557,
          1.0218470706161358,
          1.4996643276423627,
          0.7735646820260316,
          0.8321862631976721,
          2.0460135745856323,
          0.7768668297141537,
          1.0218165562858244,
          0.5116336268813653,
          1.7665882060729667,
          2.046372837783513,
          2.046403712632097,
          0.5893148608442534,
          1.4996661808665965,
          1.6475359490426689,
          0.8865821473707995,
          1.0217716453672239,
          0.7792321680035453
         ],
         "z": [
          -0.5772301296693043,
          -0.577626628458644,
          -0.6947256561462742,
          -0.5277854324456988,
          -0.06430376594389266,
          -0.3978973881479795,
          -0.07537207863707594,
          -0.6892242017402763,
          -0.5772375839475429,
          -0.5774420174108587,
          -0.5772711660389103,
          -0.5772301858032868,
          -0.5772305600604939,
          -0.38574023959322384,
          -0.4627382715999991,
          -0.065724723612982,
          -0.2959836387551559,
          -0.577269965228354,
          -0.20581220984986273,
          -0.5277883067346311,
          -0.7192155513915891,
          -0.2618026961811758,
          -0.39863624589952984,
          -0.25470880004384155,
          -0.658624354794609,
          -0.6586073714884313,
          -0.34599534796586306,
          -0.5773396238847436,
          -0.5772630148206468,
          -0.5870056666340178,
          -0.2052694012967046,
          -0.5277805754240887,
          0.12017800777622982,
          -0.2288668985187185,
          -0.5277818914713759,
          -0.5777308348147664,
          -0.5772552716324125,
          -0.21491687131444379,
          -0.5277833542473535,
          0.12017981605409295,
          -0.6586133528612498,
          -0.577363384335237,
          -0.40408509126223485,
          -0.1437432582491595,
          -0.3979138635197239,
          -0.4627545401374945,
          -0.25471111198976687,
          -0.6586039987449264,
          -0.2548022373917996,
          -0.5772306191164261,
          -0.6586055230264627,
          -0.20525506743742689,
          -0.577235677470093,
          -0.5277810797057825,
          -0.6245592201349276,
          -0.7449802373058272,
          -0.14415905926505723,
          -0.25474378357205196,
          -0.6586141965263151,
          -0.39799337712560423,
          -0.6891930356921905,
          -0.41998019852489055,
          -0.3978981820568969,
          -0.5336751000043439,
          -0.39789770376163186,
          -0.626071075029499,
          -0.5772366544157154,
          -0.25473409215616405,
          -0.5278162652563743,
          -0.27533713106471225,
          -0.3978999282506833,
          -0.3699419277560851,
          -0.06573117696330781,
          -0.5278317364428267,
          -0.39791419905988706,
          -0.39794471945951143,
          -0.622748706384615,
          -0.5278003701885016,
          -0.1765550037543238,
          -0.5776690745751375,
          -0.5772353588283707,
          -0.5772718661445055,
          -0.3360926833899278,
          -0.20552670113251434,
          -0.5277899601608027,
          -0.5772520751140585,
          -0.3978970730105487,
          -0.5277810459604596,
          -0.5772327526590946,
          -0.5772307765250358,
          -0.2547586012484139,
          -0.27503440842939453,
          -0.8105987314847032,
          -0.06575372594256153,
          -0.5772413081803667,
          -0.5279946933677977,
          -0.06577577684391765,
          -0.33607527835536843,
          -0.7188651256874774,
          -0.0657540271752032,
          -0.8033828788961078,
          -0.154931468266099,
          -0.527789208702688,
          -0.6894161554669058,
          -0.5277821831911516,
          -0.06574369791112829,
          -0.5772390620691351,
          -0.5772344705380383,
          -0.06573117696330781,
          -0.5277876332317892,
          -0.3979009309639486,
          -0.5772396491004403,
          -0.2683384270476523,
          -0.5772361739859152,
          -0.5772883634389413,
          -0.5277812661371051,
          -0.5772450057950927,
          -0.26870553833898625,
          -0.5772323785271519,
          -0.577231513545806,
          -0.24105688765383518,
          -0.31215992636098905,
          -0.5772800741287624,
          -0.3978977168028123,
          -0.5277832468809022,
          -0.5772357498326767,
          -0.5772320727554912,
          -0.2547076364821014,
          -0.2943542685470167,
          -0.3360802970548805,
          -0.5776474945791162,
          -0.25471695697877544,
          -0.5277933547856714,
          -0.6717930753140645,
          -0.5278266952981532,
          -0.06576914289696005,
          -0.5277961420262615,
          -0.06589024961452303,
          -0.5278630983864514,
          -0.5772336997952923,
          -0.5772329122828219,
          -0.577314202401708,
          -0.08169350927105602,
          -0.5277896571387918,
          -0.25496827467027405,
          -0.06572914501767813,
          -0.5772460620540166,
          -0.7102959714539285,
          -0.07538726713269996,
          -0.176581061279959,
          -0.7500080002439669,
          -0.6227155576072962,
          -0.6227443848805926,
          -0.8353730898058981,
          -0.6586119266790742,
          -0.584441543460932,
          -0.6586112115603477,
          -0.10813576185366018,
          -0.8353866040418976,
          -0.5277855639975221,
          -0.2547097309811127,
          -0.06572933210831365,
          -0.5772406939347258,
          -0.5772318825844658,
          -0.06310346002175858,
          -0.07070176743935314,
          -0.5277852621229007,
          -0.34608842250639066,
          -0.5772318301613499,
          -0.028163414822139195,
          -0.5954870228754883,
          -0.3979341981942074,
          -0.6230009395857584,
          -0.5506688220219625,
          -0.5772326085108115,
          -0.5636072266351451,
          0.0012726154961048629,
          -0.5772368267135252,
          -0.07912331420333964,
          -0.5278053950763283,
          -0.1550229184408432,
          -0.6347004577612929,
          -0.6586811387833629,
          -0.5772847561776074,
          -0.30019198792936114,
          -0.24105945398976722,
          -0.5830632141868456,
          -0.5772455230795375,
          -0.5277998339927805,
          -0.24107129386243653,
          -0.5775027268696847,
          -0.5772313004190925,
          -0.20525572403911235,
          -0.17654824029237345,
          -0.2916860921560741,
          -0.5773279074275912,
          -0.33621815493546586,
          -0.5013242205920398,
          -0.527783395479469,
          -0.4737112257127098,
          -0.25472097797448545,
          -0.07527529596653189,
          -0.6227221205465658,
          -0.5772306633552928,
          -0.577230943381487,
          -0.25483313288050913,
          -0.10818609850318622,
          -0.06573750833730137,
          -0.5772359415739055,
          -0.15462959570870383,
          -0.5636435830081741,
          -0.06573323528852361,
          -0.08401121388779614,
          -0.5781281210305882,
          -0.09008982446655274,
          -0.25471713576622257,
          -0.5814872519106982,
          -0.254708283235683,
          -0.802411697707323,
          -0.5772443802496877,
          -0.3666758847515181,
          -0.321768605988698,
          -0.24110756649458445,
          -0.0753947200563867,
          -0.12927703735214094,
          -0.4065532907001236,
          -0.24105624553173535,
          -0.5635826104974798,
          -0.2561187281734153,
          -0.35069033158261553,
          -0.24108253867440374,
          -0.5773158376183273,
          -0.20526353279609513,
          -0.5277950311547566,
          -0.25475979746623806,
          -0.06574356014416932,
          -0.4440386749926764,
          -0.20526238508929331,
          -0.5790938891494627,
          0.06656304715787188,
          -0.15118442758965353,
          -0.14547468629469773,
          -0.2109912947288762,
          -0.5635965104789442,
          -0.577236819383668,
          -0.5635878922565876,
          -0.24105388878552764,
          -0.5937854075438088,
          -0.205254383966867,
          -0.5772440291803269,
          -0.4738143422467653,
          -0.8031106532545179,
          -0.5278209574908578,
          -0.5277910204340541,
          -0.15530226399223246,
          -0.5852750597090789,
          -0.5278614634436627,
          -0.5772480903500397,
          -0.5772415434946707,
          -0.07537025652462528,
          -0.5772333412611923,
          -0.527968033960571,
          -0.578438176863887,
          -0.403893215679931,
          -0.5280292899204059,
          -0.57725139577649,
          -0.577398514989926,
          -0.5278651741284671,
          -0.5772781082526021,
          -0.06572485904737352,
          -0.1335035595802859,
          -0.3979288239641525,
          -0.15493833629844733,
          -0.2588765193057048,
          -0.5773393349578748,
          -0.345999379768948,
          -0.6586023744760681,
          -0.15522520872595524,
          -0.1552591674341807,
          -0.07578439478790759,
          -0.06572664966599087,
          0.22837976575593152,
          -0.10181720586228642,
          -0.5772560850472205,
          -0.25470217377711746
         ],
         "type": "scatter3d"
        },
        {
         "customdata": [
          [
           "SHA-256",
           "Bitcoin"
          ],
          [
           "Ethash",
           "Ethereum"
          ],
          [
           "Scrypt",
           "Litecoin"
          ],
          [
           "CryptoNight-V7",
           "Monero"
          ],
          [
           "Ethash",
           "Ethereum Classic"
          ],
          [
           "Equihash",
           "ZCash"
          ],
          [
           "Multiple",
           "DigiByte"
          ],
          [
           "Scrypt",
           "ProsperCoin"
          ],
          [
           "X11",
           "Spreadcoin"
          ],
          [
           "Scrypt",
           "Argentum"
          ],
          [
           "Multiple",
           "MyriadCoin"
          ],
          [
           "Scrypt",
           "MoonCoin"
          ],
          [
           "SHA-256",
           "ZetaCoin"
          ],
          [
           "Scrypt",
           "SexCoin"
          ],
          [
           "Scrypt",
           "Quatloo"
          ],
          [
           "Quark",
           "QuarkCoin"
          ],
          [
           "Groestl",
           "Riecoin"
          ],
          [
           "Scrypt",
           "Digitalcoin "
          ],
          [
           "Scrypt",
           "Catcoin"
          ],
          [
           "Scrypt",
           "CannaCoin"
          ],
          [
           "X11",
           "CryptCoin"
          ],
          [
           "Multiple",
           "Verge"
          ],
          [
           "SHA-256",
           "DevCoin"
          ],
          [
           "Scrypt",
           "EarthCoin"
          ],
          [
           "Scrypt",
           "E-Gulden"
          ],
          [
           "Scrypt",
           "Einsteinium"
          ],
          [
           "Scrypt",
           "Emerald"
          ],
          [
           "Scrypt",
           "Franko"
          ],
          [
           "NeoScrypt",
           "FeatherCoin"
          ],
          [
           "Scrypt",
           "GrandCoin"
          ],
          [
           "Scrypt",
           "GlobalCoin"
          ],
          [
           "Scrypt",
           "GoldCoin"
          ],
          [
           "Scrypt",
           "Infinite Coin"
          ],
          [
           "SHA-256",
           "IXcoin"
          ],
          [
           "Scrypt",
           "KrugerCoin"
          ],
          [
           "Scrypt",
           "LuckyCoin"
          ],
          [
           "Scrypt",
           "Litebar "
          ],
          [
           "Scrypt",
           "MegaCoin"
          ],
          [
           "HybridScryptHash256",
           "MediterraneanCoin"
          ],
          [
           "Scrypt",
           "MinCoin"
          ],
          [
           "Scrypt",
           "NobleCoin"
          ],
          [
           "SHA-256",
           "Namecoin"
          ],
          [
           "Scrypt",
           "NyanCoin"
          ],
          [
           "Scrypt",
           "RonPaulCoin"
          ],
          [
           "Scrypt",
           "StableCoin"
          ],
          [
           "Scrypt",
           "SmartCoin"
          ],
          [
           "SHA-256",
           "SysCoin"
          ],
          [
           "SHA-256",
           "TigerCoin"
          ],
          [
           "SHA-256",
           "TerraCoin"
          ],
          [
           "SHA-256",
           "UnbreakableCoin"
          ],
          [
           "SHA-256",
           "Unobtanium"
          ],
          [
           "X11",
           "UroCoin"
          ],
          [
           "Scrypt",
           "ViaCoin"
          ],
          [
           "Lyra2REv2",
           "Vertcoin"
          ],
          [
           "Scrypt",
           "WorldCoin"
          ],
          [
           "SHA-256",
           "JouleCoin"
          ],
          [
           "CryptoNight",
           "ByteCoin"
          ],
          [
           "CryptoNight",
           "DigitalNote "
          ],
          [
           "Scrypt",
           "MonaCoin"
          ],
          [
           "Scrypt",
           "Gulden"
          ],
          [
           "Scrypt",
           "PesetaCoin"
          ],
          [
           "Scrypt",
           "Wild Beast Coin"
          ],
          [
           "Scrypt",
           "Flo"
          ],
          [
           "Scrypt",
           "ArtByte"
          ],
          [
           "Stanford Folding",
           "Folding Coin"
          ],
          [
           "Multiple",
           "Unitus"
          ],
          [
           "QuBit",
           "CypherPunkCoin"
          ],
          [
           "Scrypt",
           "OmniCron"
          ],
          [
           "Scrypt",
           "GreenCoin"
          ],
          [
           "M7 POW",
           "Cryptonite"
          ],
          [
           "Scrypt",
           "MasterCoin"
          ],
          [
           "SHA-256",
           "SoonCoin"
          ],
          [
           "Scrypt",
           "1Credit"
          ],
          [
           "X11",
           "MarsCoin "
          ],
          [
           "Lyra2RE",
           "Crypto"
          ],
          [
           "SHA-256",
           "Anarchists Prime"
          ],
          [
           "X11",
           "BowsCoin"
          ],
          [
           "Scrypt",
           "Song Coin"
          ],
          [
           "Scrypt",
           "BitZeny"
          ],
          [
           "Ethash",
           "Expanse"
          ],
          [
           "Blake2b",
           "Siacoin"
          ],
          [
           "X11",
           "MindCoin"
          ],
          [
           "SHA-256",
           "I0coin"
          ],
          [
           "Scrypt",
           "Revolution VR"
          ],
          [
           "1GB AES Pattern Search",
           "HOdlcoin"
          ],
          [
           "Scrypt",
           "Gamecredits"
          ],
          [
           "SHA-256",
           "CarpeDiemCoin"
          ],
          [
           "X11",
           "Adzcoin"
          ],
          [
           "Dagger",
           "SoilCoin"
          ],
          [
           "Scrypt",
           "YoCoin"
          ],
          [
           "X11GOST",
           "SibCoin"
          ],
          [
           "Scrypt",
           "Francs"
          ],
          [
           "X11",
           "BolivarCoin"
          ],
          [
           "Scrypt",
           "Omni"
          ],
          [
           "X11",
           "PizzaCoin"
          ],
          [
           "Equihash",
           "Komodo"
          ],
          [
           "CryptoNight",
           "Karbo"
          ],
          [
           "SHA-256",
           "ZayedCoin"
          ],
          [
           "Multiple",
           "Circuits of Value"
          ],
          [
           "Scrypt",
           "DopeCoin"
          ],
          [
           "SHA-256",
           "DollarCoin"
          ],
          [
           "Scrypt",
           "Shilling"
          ],
          [
           "Lyra2Z",
           "ZCoin"
          ],
          [
           "Ethash",
           "Elementrem"
          ],
          [
           "Equihash",
           "ZClassic"
          ],
          [
           "Scrypt",
           "KiloCoin"
          ],
          [
           "X11",
           "ArtexCoin"
          ],
          [
           "X11",
           "Kurrent"
          ],
          [
           "CryptoNight",
           "Cannabis Industry Coin"
          ],
          [
           "Scrypt",
           "OsmiumCoin"
          ],
          [
           "CryptoNight",
           "Bikercoins"
          ],
          [
           "Lyra2RE",
           "HexxCoin"
          ],
          [
           "X11",
           "PacCoin"
          ],
          [
           "CryptoNight-V7",
           "Citadel"
          ],
          [
           "Scrypt",
           "BeaverCoin"
          ],
          [
           "X11",
           "VaultCoin"
          ],
          [
           "Equihash",
           "Zero"
          ],
          [
           "Scrypt",
           "Canada eCoin"
          ],
          [
           "Lyra2RE",
           "Zoin"
          ],
          [
           "Dagger-Hashimoto",
           "DubaiCoin"
          ],
          [
           "Scrypt",
           "EB3coin"
          ],
          [
           "NIST5",
           "Coinonat"
          ],
          [
           "Scrypt",
           "BenjiRolls"
          ],
          [
           "SHA-256",
           "ILCoin"
          ],
          [
           "Scrypt",
           "EquiTrader"
          ],
          [
           "CryptoNight-V7",
           "Quantum Resistant Ledger"
          ],
          [
           "Argon2d",
           "Dynamic"
          ],
          [
           "Blake2b",
           "Nano"
          ],
          [
           "Cloverhash",
           "ChanCoin"
          ],
          [
           "CryptoNight",
           "Dinastycoin"
          ],
          [
           "X11",
           "DigitalPrice"
          ],
          [
           "Scrypt",
           "Unify"
          ],
          [
           "Scrypt",
           "SocialCoin"
          ],
          [
           "X11",
           "ArcticCoin"
          ],
          [
           "X11",
           "DAS"
          ],
          [
           "CryptoNight",
           "LeviarCoin"
          ],
          [
           "Time Travel",
           "Bitcore"
          ],
          [
           "Scrypt",
           "gCn Coin"
          ],
          [
           "Keccak",
           "SmartCash"
          ],
          [
           "X11",
           "Onix"
          ],
          [
           "SHA-256",
           "Bitcoin Cash"
          ],
          [
           "Scrypt",
           "Sojourn Coin"
          ],
          [
           "Scrypt",
           "NewYorkCoin"
          ],
          [
           "Scrypt",
           "FrazCoin"
          ],
          [
           "Scrypt",
           "Kronecoin"
          ],
          [
           "Scrypt",
           "AdCoin"
          ],
          [
           "Scrypt",
           "Linx"
          ],
          [
           "CryptoNight",
           "Sumokoin"
          ],
          [
           "Equihash",
           "BitcoinZ"
          ],
          [
           "X11",
           "Elements"
          ],
          [
           "NeoScrypt",
           "VIVO Coin"
          ],
          [
           "Equihash",
           "Bitcoin Gold"
          ],
          [
           "Dagger",
           "Pirl"
          ],
          [
           "Scrypt",
           "eBoost"
          ],
          [
           "X11",
           "Pura"
          ],
          [
           "NeoScrypt",
           "Innova"
          ],
          [
           "Ethash",
           "Ellaism"
          ],
          [
           "NeoScrypt",
           "GoByte"
          ],
          [
           "Multiple",
           "SHIELD"
          ],
          [
           "CryptoNight",
           "UltraNote"
          ],
          [
           "CryptoNight",
           "BitCoal"
          ],
          [
           "Ethash",
           "DaxxCoin"
          ],
          [
           "X11",
           "AC3"
          ],
          [
           "CryptoNight-V7",
           "Lethean"
          ],
          [
           "Scrypt",
           "PopularCoin"
          ],
          [
           "BLAKE256",
           "Photon"
          ],
          [
           "X11",
           "Sucre"
          ],
          [
           "NeoScrypt",
           "SparksPay"
          ],
          [
           "NeoScrypt",
           "GunCoin"
          ],
          [
           "Scrypt",
           "IrishCoin"
          ],
          [
           "X11",
           "Pioneer Coin"
          ],
          [
           "SHA-256",
           "UnitedBitcoin"
          ],
          [
           "C11",
           "Interzone"
          ],
          [
           "Ethash",
           "1717 Masonic Commemorative Token"
          ],
          [
           "CryptoNight",
           "TurtleCoin"
          ],
          [
           "SkunkHash",
           "MUNcoin"
          ],
          [
           "CryptoNight",
           "Niobio Cash"
          ],
          [
           "Scrypt",
           "ShareChain"
          ],
          [
           "Dagger",
           "Travelflex"
          ],
          [
           "Lyra2REv2",
           "KREDS"
          ],
          [
           "Scrypt",
           "BitFlip"
          ],
          [
           "Scrypt",
           "LottoCoin"
          ],
          [
           "X11",
           "Crypto Improvement Fund"
          ],
          [
           "Ethash",
           "Callisto Network"
          ],
          [
           "CryptoNight",
           "BitTube"
          ],
          [
           "Scrypt",
           "Poseidon"
          ],
          [
           "IMesh",
           "Aidos Kuneen"
          ],
          [
           "Equihash",
           "Bitrolium"
          ],
          [
           "Lyra2Z",
           "Alpenschillling"
          ],
          [
           "X11",
           "FuturoCoin"
          ],
          [
           "CryptoNight",
           "Monero Classic"
          ],
          [
           "NIST5",
           "Jumpcoin"
          ],
          [
           "Lyra2RE",
           "Infinex"
          ],
          [
           "Tribus",
           "KEYCO"
          ],
          [
           "Lyra2Z",
           "GINcoin"
          ],
          [
           "CryptoNight",
           "PlatinCoin"
          ],
          [
           "CryptoNight Heavy",
           "Loki"
          ],
          [
           "CryptoNight",
           "Newton Coin"
          ],
          [
           "Jump Consistent Hash",
           "MassGrid"
          ],
          [
           "CryptoNight",
           "PluraCoin"
          ],
          [
           "X16R",
           "Motion"
          ],
          [
           "HMQ1725",
           "PlusOneCoin"
          ],
          [
           "X11",
           "Axe"
          ],
          [
           "Scrypt",
           "HexCoin"
          ],
          [
           "CryptoNight-V7",
           "Webchain"
          ],
          [
           "Cryptonight-GPU",
           "Ryo"
          ],
          [
           "XEVAN",
           "Urals Coin"
          ],
          [
           "CryptoNight Heavy",
           "Qwertycoin"
          ],
          [
           "SHA-256",
           "Project Pai"
          ],
          [
           "X11",
           "Azart"
          ],
          [
           "X16R",
           "Xchange"
          ],
          [
           "Equihash",
           "CrypticCoin"
          ],
          [
           "Lyra2Z",
           "Actinium"
          ],
          [
           "SHA-256",
           "Bitcoin SV"
          ],
          [
           "CryptoNight",
           "FREDEnergy"
          ],
          [
           "Blake",
           "Universal Molecule"
          ],
          [
           "Blake",
           "Lithium"
          ],
          [
           "Equihash",
           "PirateCash"
          ],
          [
           "Exosis",
           "Exosis"
          ],
          [
           "Scrypt",
           "Block-Logic"
          ],
          [
           "Equihash",
           "Beam"
          ],
          [
           "Equihash",
           "Bithereum"
          ],
          [
           "QuBit",
           "SLICE"
          ],
          [
           "SHA-256",
           "BLAST"
          ],
          [
           "X13",
           "Bitcoin Rhodium"
          ],
          [
           "SHA-256",
           "GlobalToken"
          ],
          [
           "Scrypt",
           "SolarCoin"
          ],
          [
           "NeoScrypt",
           "UFO Coin"
          ],
          [
           "Blake",
           "BlakeCoin"
          ],
          [
           "Scrypt",
           "Crypto Escudo"
          ],
          [
           "SHA-256",
           "Crown Coin"
          ],
          [
           "Scrypt",
           "SmileyCoin"
          ],
          [
           "Groestl",
           "Groestlcoin"
          ],
          [
           "Scrypt",
           "Bata"
          ],
          [
           "Scrypt",
           "Pakcoin"
          ],
          [
           "Multiple",
           "JoinCoin"
          ],
          [
           "Equihash+Scrypt",
           "Vollar"
          ],
          [
           "Ethash",
           "Reality Clash"
          ],
          [
           "CryptoNight",
           "Beldex"
          ],
          [
           "Equihash",
           "Horizen"
          ]
         ],
         "hovertemplate": "Class=%{marker.color}<br>pc1=%{x}<br>pc2=%{y}<br>pc3=%{z}<br>Algorithm=%{customdata[0]}<br>CoinName=%{customdata[1]}<extra></extra>",
         "legendgroup": "0",
         "marker": {
          "color": [
           0,
           0,
           0,
           0,
           0,
           0,
           0,
           0,
           0,
           0,
           0,
           0,
           0,
           0,
           0,
           0,
           0,
           0,
           0,
           0,
           0,
           0,
           0,
           0,
           0,
           0,
           0,
           0,
           0,
           0,
           0,
           0,
           0,
           0,
           0,
           0,
           0,
           0,
           0,
           0,
           0,
           0,
           0,
           0,
           0,
           0,
           0,
           0,
           0,
           0,
           0,
           0,
           0,
           0,
           0,
           0,
           0,
           0,
           0,
           0,
           0,
           0,
           0,
           0,
           0,
           0,
           0,
           0,
           0,
           0,
           0,
           0,
           0,
           0,
           0,
           0,
           0,
           0,
           0,
           0,
           0,
           0,
           0,
           0,
           0,
           0,
           0,
           0,
           0,
           0,
           0,
           0,
           0,
           0,
           0,
           0,
           0,
           0,
           0,
           0,
           0,
           0,
           0,
           0,
           0,
           0,
           0,
           0,
           0,
           0,
           0,
           0,
           0,
           0,
           0,
           0,
           0,
           0,
           0,
           0,
           0,
           0,
           0,
           0,
           0,
           0,
           0,
           0,
           0,
           0,
           0,
           0,
           0,
           0,
           0,
           0,
           0,
           0,
           0,
           0,
           0,
           0,
           0,
           0,
           0,
           0,
           0,
           0,
           0,
           0,
           0,
           0,
           0,
           0,
           0,
           0,
           0,
           0,
           0,
           0,
           0,
           0,
           0,
           0,
           0,
           0,
           0,
           0,
           0,
           0,
           0,
           0,
           0,
           0,
           0,
           0,
           0,
           0,
           0,
           0,
           0,
           0,
           0,
           0,
           0,
           0,
           0,
           0,
           0,
           0,
           0,
           0,
           0,
           0,
           0,
           0,
           0,
           0,
           0,
           0,
           0,
           0,
           0,
           0,
           0,
           0,
           0,
           0,
           0,
           0,
           0,
           0,
           0,
           0,
           0,
           0,
           0,
           0,
           0,
           0,
           0,
           0,
           0,
           0,
           0,
           0,
           0,
           0,
           0,
           0,
           0,
           0,
           0,
           0,
           0,
           0,
           0,
           0,
           0,
           0
          ],
          "coloraxis": "coloraxis",
          "symbol": "diamond"
         },
         "mode": "markers",
         "name": "0",
         "scene": "scene",
         "showlegend": true,
         "x": [
          -0.14575738599656712,
          -0.1467513723626993,
          -0.16312686085298028,
          -0.15293875496579126,
          -0.1451937001316292,
          -0.14370971254777187,
          0.15667289283047448,
          -0.1642732650189846,
          -0.23400602008194116,
          -0.16388984264014386,
          -0.09674757616837178,
          2.5569920958677526,
          -0.1428418554371869,
          -0.1611449980433457,
          -0.16369395107920418,
          -0.2296855563624505,
          -0.200672768917067,
          -0.16374252069547032,
          -0.16425552438172786,
          -0.16434197886019397,
          -0.23409538748164588,
          0.18044987849189037,
          0.23214202271130618,
          0.08442445890076679,
          -0.16408821191066608,
          -0.15969305892746982,
          -0.1640275295118616,
          -0.1643989951517361,
          -0.17353591449786007,
          -0.1436195067907801,
          -0.16319389780894564,
          -0.16347145911623223,
          1.5847823684632663,
          -0.14571874092960282,
          -0.16076065240441748,
          -0.16411465919500173,
          -0.16446952702313797,
          -0.1637286713311838,
          -0.16498793962526448,
          -0.1643507855427143,
          -0.029268795470174955,
          -0.14579638059762512,
          -0.15801370859929473,
          -0.16433026583196797,
          -0.1624248562596449,
          -0.16381694417444667,
          -0.1329473120960117,
          -0.14526005763568553,
          -0.14554734911457998,
          -0.14553048863418763,
          -0.1461210788296089,
          -0.23426927087521754,
          -0.1640466573214208,
          -0.1920173140287741,
          -0.1611497791015176,
          -0.1453273691469226,
          3.85149542601548,
          0.44992676327606684,
          -0.16291417444018666,
          -0.14751396609541287,
          -0.1616327708933664,
          -0.1644717425780782,
          -0.16149773256370842,
          -0.14771975882824376,
          -0.11956297280056107,
          -0.13075845220436405,
          -0.17537083940625545,
          -0.16434477571601216,
          -0.03727741901771325,
          -0.09963155271520978,
          -0.16448062994986895,
          -0.1458241685626131,
          0.4875308597064078,
          -0.2336563665960055,
          -0.15531072424021686,
          -0.14556407194809445,
          -0.233941321616824,
          -0.16260459615858297,
          -0.16179670293934112,
          -0.14781930370150936,
          0.3576607467373868,
          -0.23397671047266017,
          -0.14571986370297693,
          -0.16043785984487777,
          -0.17664806712770206,
          -0.1630437961694984,
          0.2728296085152627,
          -0.23313740544283815,
          -0.14830064461898265,
          -0.16329167346183493,
          -0.160557893669686,
          -0.1642705448596684,
          -0.2339399783306869,
          -0.16448068845384686,
          -0.23409000588703324,
          -0.2243865538235152,
          0.29481552679533235,
          -0.1459799987628705,
          -0.11082852127020677,
          -0.16164718039137346,
          -0.14593861668818475,
          -0.16414408676056377,
          -0.15530886250663745,
          -0.14756140303718784,
          -0.14373133776117086,
          -0.09122162785369735,
          -0.2206702855151389,
          -0.23191820186353876,
          0.2948098416519508,
          -0.16446242836409938,
          0.29494058988022265,
          -0.15585113487548258,
          0.48099842624017747,
          -0.15170378242252466,
          -0.1644307062864523,
          -0.22682548274563116,
          -0.14374370016491692,
          -0.16256368034479096,
          -0.15556945562469673,
          -0.15637288197729005,
          -0.1353604715124271,
          -0.1894601910309071,
          -0.16399305571771736,
          -0.11230305680054714,
          -0.16381520930435234,
          -0.15156112273492298,
          -0.17217727604706365,
          -0.04279490273743596,
          -0.14897488549623564,
          0.33093703313283623,
          -0.23314587054054453,
          -0.1641343658802549,
          -0.1638978953995904,
          -0.23354052860560956,
          -0.2341180229845311,
          0.29520483730409275,
          -0.1486034169587672,
          3.24565083907533,
          -0.11605993010086992,
          -0.2249913256487385,
          -0.1457565498981739,
          -0.09007106428375242,
          1.5831981846662289,
          -0.16423225346550152,
          -0.163683963170858,
          -0.16338489388120198,
          -0.16337181987041247,
          0.29538836724413664,
          0.06857304202813105,
          -0.1884953484652098,
          -0.17822510086058557,
          -0.14358971039317783,
          -0.14705981218743325,
          -0.1625618888231453,
          -0.2296621848791572,
          -0.17807053141816306,
          -0.14592707392886708,
          -0.17817071789643021,
          -0.1209894025595519,
          1.1327050153996372,
          0.2947926411987171,
          -0.07082954767789677,
          -0.2294045177430387,
          -0.14067290735473423,
          -0.0806099153529644,
          1.0950094975460207,
          -0.23409201562024481,
          -0.17822263290002713,
          -0.17125992395656975,
          -0.16348315986250841,
          -0.23401740858591996,
          -0.14573593594272097,
          -0.20556655188425837,
          -0.2677779716727296,
          8.031273013102181,
          -0.15966148419864812,
          0.2986671501612413,
          0.028589844116354336,
          -0.14656259884044923,
          -0.17757425741365468,
          -0.16405699866047657,
          0.143056673115861,
          -0.22815814791585626,
          -0.09897450526367103,
          0.30271453955676414,
          -0.16429401754720707,
          -0.15691997005685573,
          -0.14258063000590362,
          -0.15309273149781125,
          -0.23318665844306322,
          0.2949752037764287,
          -0.1895195580643307,
          -0.15569638463584287,
          -0.14772188498135067,
          -0.15539322418325016,
          0.29890241023198744,
          0.5854076627492883,
          2.103355939901002,
          -0.13692182415784435,
          0.308581091168026,
          -0.19354369329420348,
          -0.1617914268715095,
          -0.2340741742229794,
          -0.16431861346719412,
          -0.1405559651119804,
          -0.16713960436627284,
          -0.13360310720720217,
          3.108129159469911,
          -0.10557799461069789,
          -0.23404554616505946,
          -0.1929715337206001,
          -0.03832857143695438,
          -0.15479106400279954,
          -0.1457565874778834,
          0.3747309894988245,
          -0.13659135038477402,
          -0.13698318005434923,
          -0.262781753700353,
          -0.16402527462106117,
          -0.16321091094332688,
          -0.1416501175682682,
          -0.14342250826955075,
          -0.1745819432118326,
          -0.14503263993209822,
          -0.10972615107315765,
          -0.14390059602954314,
          0.53144076306962,
          -0.10337692583389294,
          -0.08745980279940817,
          -0.14787040213578653,
          -0.14554671932648564,
          0.5514146236548081,
          -0.2002336925922114,
          -0.1643954074761943,
          -0.16235110385347654,
          -0.13149362876949752,
          -0.13244837448042843,
          -0.14759456677852814,
          0.3165520570447735,
          -0.14371076989720621
         ],
         "y": [
          -1.3215414401750927,
          -2.0477302168945033,
          -1.131880045855054,
          -2.1989723283051057,
          -2.0478417474584583,
          -2.07376286873799,
          -1.7864233073201754,
          -1.1318634337032067,
          -0.892714218374283,
          -1.1318846715460442,
          -1.7791230284520818,
          -1.338941835520201,
          -1.3215755174651396,
          -1.1319495883918624,
          -1.1319055558454287,
          -0.4581642275754652,
          -1.2233421085957372,
          -1.1318696937780317,
          -1.1318629935975892,
          -1.1318595175818056,
          -0.8927150051615891,
          -1.7826547928982148,
          -1.327168875496183,
          -1.1353327553467103,
          -1.1318588429485812,
          -1.1319491760684404,
          -1.1318652037550876,
          -1.131859570327077,
          -1.6422080018857559,
          -1.1323519337914838,
          -1.131871697363261,
          -1.1318801889606178,
          -1.1532471447040764,
          -1.321540481477214,
          -1.1319510811905449,
          -1.131858783937465,
          -1.1318542506293976,
          -1.1318649408427768,
          -2.1912376132055913,
          -1.1318574906130012,
          -1.1392258950792116,
          -1.3215424075441056,
          -1.1319341225909316,
          -1.1318648477661655,
          -1.1319813388178872,
          -1.131873709699817,
          -1.3218436505220739,
          -1.3215477039664407,
          -1.3215512469223547,
          -1.3215780028017305,
          -1.321535624066332,
          -0.8927064468546042,
          -1.1318592422903968,
          -1.2497754350228787,
          -1.1319607345554668,
          -1.3215479350379493,
          -2.3283518408251944,
          -2.287973892872321,
          -1.1318898726864746,
          -1.1326340390913474,
          -1.1319018958055698,
          -1.1318552195019511,
          -1.1318939791185194,
          -1.132152870081846,
          -2.183422969723621,
          -1.7785365439477396,
          -1.6042590086364192,
          -1.131852601304602,
          -1.1358490250685067,
          -2.365354932429917,
          -1.1318540036652154,
          -1.321543096901501,
          -1.181468658751499,
          -0.8927148406714636,
          -2.2058391164452384,
          -1.3215600714629312,
          -0.8927133284589719,
          -1.131957365021156,
          -1.1319657557358909,
          -2.047768799807988,
          -2.126654949482299,
          -0.8927106308314182,
          -1.321540509330715,
          -1.1319034415026112,
          -2.07878773037205,
          -1.1318779852056216,
          -1.3266073658976036,
          -0.8927384369735387,
          -2.2518231725601825,
          -1.131944454880185,
          -2.230772354321598,
          -1.131862651112907,
          -0.8927161555719106,
          -1.1318540029497877,
          -0.89271987742076,
          -1.5880892355678178,
          -2.2846779153969443,
          -1.321538907710769,
          -1.7789002579009006,
          -1.1319262909542953,
          -1.3215385263554669,
          -1.131866665061866,
          -2.2101157398682085,
          -2.0477690517702354,
          -2.073763405211272,
          -1.1371872604998214,
          -0.8927266409861043,
          -0.8928111669810176,
          -2.2846859226340572,
          -1.1318550501410034,
          -2.284685539499181,
          -2.2058126275266763,
          -0.9464731733404981,
          -2.199073986597703,
          -1.131854724943086,
          -0.8932368923013092,
          -2.073760851458049,
          -1.1318775163509884,
          -2.2058135058952097,
          -2.083587666589692,
          -1.1339915913989729,
          -0.5981340045245328,
          -1.1318668660076814,
          -1.322484268679649,
          -1.131888540933286,
          -2.1990132387918315,
          -2.014429100929724,
          -2.13683269948669,
          -2.1525568476025225,
          -2.2852048887817267,
          -0.8927500887212013,
          -1.1318587556493591,
          -1.1318927375184273,
          -0.8927312749383168,
          -0.8927162102961952,
          -2.284699722277637,
          -2.1405423076620944,
          -1.1902776529874588,
          -1.3155398118095494,
          -0.8932629018788665,
          -1.3215414194333432,
          -1.1375162721941883,
          -1.088497549659701,
          -1.1318617011888747,
          -1.131893866320233,
          -1.1318978888260849,
          -1.131897564489055,
          -2.284720118674815,
          -2.0834988836333914,
          -0.8928580945870606,
          -1.6421033613861116,
          -2.0737598917523483,
          -2.25188271338558,
          -1.131877471907335,
          -0.8928424435590372,
          -1.6421123988291206,
          -2.04790999847089,
          -1.6421054447903847,
          -1.778766167711688,
          -2.32466887954176,
          -2.2846802709105654,
          -2.0529978580378567,
          -0.8929790732559457,
          -2.1993827784450137,
          -1.1333484615069496,
          -1.2570022753227998,
          -0.8927162087098243,
          -1.6420990095062122,
          -1.6422688175515412,
          -1.131874582653945,
          -0.8927166462253032,
          -1.321540311646027,
          -1.1938325107475336,
          -0.13667672050980564,
          -2.8078557374340494,
          -2.108132606465518,
          -2.2848154908220075,
          -1.1342150052693145,
          -2.2518301131685265,
          -1.250143685986545,
          -1.1318716556926374,
          -1.137387247478243,
          -0.8929123981412403,
          -2.0511931893617135,
          -2.285189916644305,
          -1.1318639485271176,
          -2.1943855147041726,
          -2.073769899071613,
          -2.210259992031733,
          -0.8927511005780348,
          -2.2846799610848296,
          -0.598115989131743,
          -2.2058204304973703,
          -2.1832025091788996,
          -2.2101100380026595,
          -2.2849984437485507,
          -2.2870293436988414,
          -2.371385008889802,
          -2.2801880291861365,
          -2.2850443805914966,
          -1.312034760874109,
          -2.2115699954506787,
          -0.8927166242356369,
          -1.1318653490807595,
          -2.1999165800547984,
          -2.1092676155920445,
          -0.7333315173485374,
          -2.3562551844215474,
          -1.3220313912083514,
          -0.8927187744742806,
          -1.3120762912572048,
          -2.0765684105709465,
          -2.2101476602799415,
          -1.3215414203656128,
          -2.288466322504009,
          -2.214627687149931,
          -2.2145802766350173,
          -0.16271979623145472,
          -2.1436077625225054,
          -1.131907874882033,
          -2.0738846881918462,
          -2.073762813410539,
          -1.604310948804208,
          -1.3215542105390246,
          -0.3871683485192443,
          -1.321600498414863,
          -1.1847415182718954,
          -1.6430876741272757,
          -2.2183394353443795,
          -1.1321566072061078,
          -1.321551231298718,
          -1.149849258003865,
          -1.2233462333855938,
          -1.131855022037498,
          -1.1319308817584943,
          -1.7785567843433998,
          -2.124376159972023,
          -2.047768646220628,
          -2.285132841594764,
          -2.0737628949684694
         ],
         "z": [
          0.18652852972743306,
          0.38606750302742276,
          0.007173183408400792,
          0.393988310750451,
          0.386047990223667,
          0.3707568824081785,
          0.37655092973904036,
          0.007197566990512423,
          0.056645411116838545,
          0.007191812394772204,
          0.38138568607770834,
          -0.02501865938379307,
          0.18646526668820948,
          0.007137279497537344,
          0.007190408387032656,
          0.020743901336539083,
          0.12167100945954488,
          0.00718605923157159,
          0.007197082926008679,
          0.007198581435658085,
          0.056647630617432304,
          0.37541555348252703,
          0.17851393330035245,
          0.0018872749374349795,
          0.007192517699454861,
          0.007103113335818062,
          0.007192066141583805,
          0.007199928704720421,
          0.23833964947554528,
          0.006787235188454345,
          0.007173479936276896,
          0.0071812992148819615,
          -0.030610593712475497,
          0.18652747527235114,
          0.007128480540458819,
          0.007193129857624612,
          0.007200770984742289,
          0.007185006334217065,
          0.47267938761313333,
          0.007198477987267718,
          0.005153676320150657,
          0.18652959371977976,
          0.007061364410607202,
          0.0071991222937326195,
          0.007172201238141077,
          0.007188422063433314,
          0.18627391159659817,
          0.1865178074091588,
          0.18652509766510614,
          0.18652879757899768,
          0.1865361817577135,
          0.05665040462708591,
          0.007191602801623161,
          0.23372578908699976,
          0.007139098108409038,
          0.18651942379072198,
          0.32553804212915843,
          0.39925257115639384,
          0.007169692188679816,
          0.006921894139791291,
          0.007141435237450114,
          0.007200971343675654,
          0.007137051538560751,
          0.006853067885773433,
          0.3990574853337013,
          0.38209474892487894,
          0.2722860277014711,
          0.0071975883476827875,
          0.004824833156079668,
          0.429017410995917,
          0.007200993962899028,
          0.1865303519319731,
          -0.0005181307886205542,
          0.05663729374556568,
          0.4155116400615725,
          0.18652684135719258,
          0.056643755251017114,
          0.0071727529202034864,
          0.007155061677655732,
          0.38609849299818866,
          0.44974751388761625,
          0.056644173494801664,
          0.18652750590793243,
          0.007113605876546892,
          0.443039644468268,
          0.007170916936003521,
          0.17747230736272188,
          0.05662871667030891,
          0.45313360396280766,
          0.007186914589553786,
          0.3857075738257369,
          0.007197383296541469,
          0.056644156489422365,
          0.00720099522751497,
          0.05664825008615007,
          0.31845479350913597,
          0.40239124699586615,
          0.18653337075696863,
          0.3816823154039436,
          0.007145508225191994,
          0.18653234039789948,
          0.007195027534397801,
          0.4250101460417368,
          0.38609247401773006,
          0.3707574724657961,
          0.006296734999623911,
          0.05633408406586258,
          0.05661121399922569,
          0.4023926063183434,
          0.007200726645420022,
          0.40238947666108804,
          0.4155202781236724,
          0.048081143711588975,
          0.39397486619408123,
          0.0071999317765336175,
          0.05655676886592221,
          0.370757371890982,
          0.007159568235446738,
          0.4155137965270824,
          0.43374802861623774,
          0.006844255029920771,
          -0.03828936970405587,
          0.007191510890022744,
          0.18588709003796566,
          0.007190651758652712,
          0.39396221581797636,
          0.3669922350185529,
          0.4607114510967936,
          0.36215707339014774,
          0.4016234995394612,
          0.056630699209118715,
          0.0071935883963312516,
          0.007193236319150988,
          0.05663708879577354,
          0.05664834676687315,
          0.4023854412114824,
          0.5024435646518333,
          -0.0639521261560949,
          0.13925816030165394,
          0.05651767000033204,
          0.1865285069139628,
          0.006320077497280838,
          -0.04048559525476406,
          0.0071963384916425635,
          0.007188384297371924,
          0.007181975565988223,
          0.007181618833338098,
          0.40238425286194957,
          0.36726124109784386,
          0.05559848508174644,
          0.23843376982453138,
          0.3707536080735187,
          0.45311357420500037,
          0.007159519352645964,
          0.05656301281938238,
          0.238431522808246,
          0.3860756638806801,
          0.2384328114199518,
          0.3819004462137377,
          0.3888329876839692,
          0.40239214512559934,
          0.38509065508222173,
          0.05657787674950322,
          0.39376304528780554,
          0.005459824193925127,
          0.146871191161878,
          0.05664773566492974,
          0.23843304564844228,
          0.2382955011581493,
          0.007180715798065014,
          0.056646050277482186,
          0.18652785314892012,
          0.08310663269265273,
          0.12419943638977846,
          0.30076872267102955,
          0.39982855753118,
          0.4023218411187565,
          0.0030276032378318217,
          0.45309384337417863,
          0.23344292542328765,
          0.0071937460075684944,
          0.0008246382556420184,
          0.056538395125559936,
          0.38547545357956364,
          0.4022840954157716,
          0.0071981332363655484,
          0.39983284716827744,
          0.37073143883968007,
          0.42498017660142856,
          0.05663181213282634,
          0.4023878096791987,
          -0.03829073318714935,
          0.4155178378812786,
          0.46542701423472344,
          0.42501125465094414,
          0.4023443227495968,
          0.3713856611447582,
          0.3731859612426727,
          0.3004945541171601,
          0.40212402284601484,
          0.17789276803386278,
          0.4723474953485141,
          0.0566473802183703,
          0.007198925347722027,
          0.393842015732758,
          0.4931434890928667,
          0.11070279312229597,
          0.32272961898673497,
          0.18565980338261875,
          0.05664703697452708,
          0.17788568688199974,
          0.368711184972234,
          0.42500287057347064,
          0.1865285079393491,
          0.40109414779333113,
          0.4528122114681712,
          0.45281415688257215,
          0.10884450299216353,
          0.404039533918694,
          0.007179417785613722,
          0.37072715555688196,
          0.37075012810501784,
          0.2722754494404558,
          0.18651346189913648,
          -0.07417150174779058,
          0.1864939585267716,
          -0.001048456767791978,
          0.23682642510094976,
          0.4522264272880299,
          0.006857178283661692,
          0.18652508048093985,
          -0.006859093253136704,
          0.12166132791120907,
          0.00719914816141336,
          0.007162744713225765,
          0.3821151152058352,
          0.3866394403279147,
          0.38609319088161065,
          0.40195034345392977,
          0.3707569112586239
         ],
         "type": "scatter3d"
        },
        {
         "customdata": [
          [
           "VeChainThor Authority",
           "Vechain"
          ],
          [
           "Proof-of-BibleHash",
           "BiblePay"
          ],
          [
           "SHA-256 + Hive",
           "LitecoinCash"
          ],
          [
           "Proof-of-Authority",
           "Poa Network"
          ],
          [
           "ECC 256K1",
           "Acute Angle Cloud"
          ],
          [
           "Leased POS",
           "Waves"
          ]
         ],
         "hovertemplate": "Class=%{marker.color}<br>pc1=%{x}<br>pc2=%{y}<br>pc3=%{z}<br>Algorithm=%{customdata[0]}<br>CoinName=%{customdata[1]}<extra></extra>",
         "legendgroup": "3",
         "marker": {
          "color": [
           3,
           3,
           3,
           3,
           3,
           3
          ],
          "coloraxis": "coloraxis",
          "symbol": "square"
         },
         "mode": "markers",
         "name": "3",
         "scene": "scene",
         "showlegend": true,
         "x": [
          4.39976579827927,
          -0.20377780431720693,
          -0.36688630375848225,
          -0.40907464694944107,
          -0.35636452061317536,
          -0.39080736004563166
         ],
         "y": [
          2.716553137051663,
          2.5652632340122654,
          3.207480234065989,
          3.6243946704269265,
          3.6351705296328003,
          2.97528719581841
         ],
         "z": [
          6.312230195236281,
          16.050168357770918,
          13.782382398199086,
          11.600061799337803,
          12.634810813226203,
          14.467741844541965
         ],
         "type": "scatter3d"
        },
        {
         "customdata": [
          [
           "TRC10",
           "BitTorrent"
          ]
         ],
         "hovertemplate": "Class=%{marker.color}<br>pc1=%{x}<br>pc2=%{y}<br>pc3=%{z}<br>Algorithm=%{customdata[0]}<br>CoinName=%{customdata[1]}<extra></extra>",
         "legendgroup": "2",
         "marker": {
          "color": [
           2
          ],
          "coloraxis": "coloraxis",
          "symbol": "x"
         },
         "mode": "markers",
         "name": "2",
         "scene": "scene",
         "showlegend": true,
         "x": [
          34.065678437303355
         ],
         "y": [
          1.5537630749709115
         ],
         "z": [
          -0.9691734137133171
         ],
         "type": "scatter3d"
        }
       ],
       "layout": {
        "template": {
         "data": {
          "bar": [
           {
            "error_x": {
             "color": "#2a3f5f"
            },
            "error_y": {
             "color": "#2a3f5f"
            },
            "marker": {
             "line": {
              "color": "#E5ECF6",
              "width": 0.5
             },
             "pattern": {
              "fillmode": "overlay",
              "size": 10,
              "solidity": 0.2
             }
            },
            "type": "bar"
           }
          ],
          "barpolar": [
           {
            "marker": {
             "line": {
              "color": "#E5ECF6",
              "width": 0.5
             },
             "pattern": {
              "fillmode": "overlay",
              "size": 10,
              "solidity": 0.2
             }
            },
            "type": "barpolar"
           }
          ],
          "carpet": [
           {
            "aaxis": {
             "endlinecolor": "#2a3f5f",
             "gridcolor": "white",
             "linecolor": "white",
             "minorgridcolor": "white",
             "startlinecolor": "#2a3f5f"
            },
            "baxis": {
             "endlinecolor": "#2a3f5f",
             "gridcolor": "white",
             "linecolor": "white",
             "minorgridcolor": "white",
             "startlinecolor": "#2a3f5f"
            },
            "type": "carpet"
           }
          ],
          "choropleth": [
           {
            "colorbar": {
             "outlinewidth": 0,
             "ticks": ""
            },
            "type": "choropleth"
           }
          ],
          "contour": [
           {
            "colorbar": {
             "outlinewidth": 0,
             "ticks": ""
            },
            "colorscale": [
             [
              0,
              "#0d0887"
             ],
             [
              0.1111111111111111,
              "#46039f"
             ],
             [
              0.2222222222222222,
              "#7201a8"
             ],
             [
              0.3333333333333333,
              "#9c179e"
             ],
             [
              0.4444444444444444,
              "#bd3786"
             ],
             [
              0.5555555555555556,
              "#d8576b"
             ],
             [
              0.6666666666666666,
              "#ed7953"
             ],
             [
              0.7777777777777778,
              "#fb9f3a"
             ],
             [
              0.8888888888888888,
              "#fdca26"
             ],
             [
              1,
              "#f0f921"
             ]
            ],
            "type": "contour"
           }
          ],
          "contourcarpet": [
           {
            "colorbar": {
             "outlinewidth": 0,
             "ticks": ""
            },
            "type": "contourcarpet"
           }
          ],
          "heatmap": [
           {
            "colorbar": {
             "outlinewidth": 0,
             "ticks": ""
            },
            "colorscale": [
             [
              0,
              "#0d0887"
             ],
             [
              0.1111111111111111,
              "#46039f"
             ],
             [
              0.2222222222222222,
              "#7201a8"
             ],
             [
              0.3333333333333333,
              "#9c179e"
             ],
             [
              0.4444444444444444,
              "#bd3786"
             ],
             [
              0.5555555555555556,
              "#d8576b"
             ],
             [
              0.6666666666666666,
              "#ed7953"
             ],
             [
              0.7777777777777778,
              "#fb9f3a"
             ],
             [
              0.8888888888888888,
              "#fdca26"
             ],
             [
              1,
              "#f0f921"
             ]
            ],
            "type": "heatmap"
           }
          ],
          "heatmapgl": [
           {
            "colorbar": {
             "outlinewidth": 0,
             "ticks": ""
            },
            "colorscale": [
             [
              0,
              "#0d0887"
             ],
             [
              0.1111111111111111,
              "#46039f"
             ],
             [
              0.2222222222222222,
              "#7201a8"
             ],
             [
              0.3333333333333333,
              "#9c179e"
             ],
             [
              0.4444444444444444,
              "#bd3786"
             ],
             [
              0.5555555555555556,
              "#d8576b"
             ],
             [
              0.6666666666666666,
              "#ed7953"
             ],
             [
              0.7777777777777778,
              "#fb9f3a"
             ],
             [
              0.8888888888888888,
              "#fdca26"
             ],
             [
              1,
              "#f0f921"
             ]
            ],
            "type": "heatmapgl"
           }
          ],
          "histogram": [
           {
            "marker": {
             "pattern": {
              "fillmode": "overlay",
              "size": 10,
              "solidity": 0.2
             }
            },
            "type": "histogram"
           }
          ],
          "histogram2d": [
           {
            "colorbar": {
             "outlinewidth": 0,
             "ticks": ""
            },
            "colorscale": [
             [
              0,
              "#0d0887"
             ],
             [
              0.1111111111111111,
              "#46039f"
             ],
             [
              0.2222222222222222,
              "#7201a8"
             ],
             [
              0.3333333333333333,
              "#9c179e"
             ],
             [
              0.4444444444444444,
              "#bd3786"
             ],
             [
              0.5555555555555556,
              "#d8576b"
             ],
             [
              0.6666666666666666,
              "#ed7953"
             ],
             [
              0.7777777777777778,
              "#fb9f3a"
             ],
             [
              0.8888888888888888,
              "#fdca26"
             ],
             [
              1,
              "#f0f921"
             ]
            ],
            "type": "histogram2d"
           }
          ],
          "histogram2dcontour": [
           {
            "colorbar": {
             "outlinewidth": 0,
             "ticks": ""
            },
            "colorscale": [
             [
              0,
              "#0d0887"
             ],
             [
              0.1111111111111111,
              "#46039f"
             ],
             [
              0.2222222222222222,
              "#7201a8"
             ],
             [
              0.3333333333333333,
              "#9c179e"
             ],
             [
              0.4444444444444444,
              "#bd3786"
             ],
             [
              0.5555555555555556,
              "#d8576b"
             ],
             [
              0.6666666666666666,
              "#ed7953"
             ],
             [
              0.7777777777777778,
              "#fb9f3a"
             ],
             [
              0.8888888888888888,
              "#fdca26"
             ],
             [
              1,
              "#f0f921"
             ]
            ],
            "type": "histogram2dcontour"
           }
          ],
          "mesh3d": [
           {
            "colorbar": {
             "outlinewidth": 0,
             "ticks": ""
            },
            "type": "mesh3d"
           }
          ],
          "parcoords": [
           {
            "line": {
             "colorbar": {
              "outlinewidth": 0,
              "ticks": ""
             }
            },
            "type": "parcoords"
           }
          ],
          "pie": [
           {
            "automargin": true,
            "type": "pie"
           }
          ],
          "scatter": [
           {
            "marker": {
             "colorbar": {
              "outlinewidth": 0,
              "ticks": ""
             }
            },
            "type": "scatter"
           }
          ],
          "scatter3d": [
           {
            "line": {
             "colorbar": {
              "outlinewidth": 0,
              "ticks": ""
             }
            },
            "marker": {
             "colorbar": {
              "outlinewidth": 0,
              "ticks": ""
             }
            },
            "type": "scatter3d"
           }
          ],
          "scattercarpet": [
           {
            "marker": {
             "colorbar": {
              "outlinewidth": 0,
              "ticks": ""
             }
            },
            "type": "scattercarpet"
           }
          ],
          "scattergeo": [
           {
            "marker": {
             "colorbar": {
              "outlinewidth": 0,
              "ticks": ""
             }
            },
            "type": "scattergeo"
           }
          ],
          "scattergl": [
           {
            "marker": {
             "colorbar": {
              "outlinewidth": 0,
              "ticks": ""
             }
            },
            "type": "scattergl"
           }
          ],
          "scattermapbox": [
           {
            "marker": {
             "colorbar": {
              "outlinewidth": 0,
              "ticks": ""
             }
            },
            "type": "scattermapbox"
           }
          ],
          "scatterpolar": [
           {
            "marker": {
             "colorbar": {
              "outlinewidth": 0,
              "ticks": ""
             }
            },
            "type": "scatterpolar"
           }
          ],
          "scatterpolargl": [
           {
            "marker": {
             "colorbar": {
              "outlinewidth": 0,
              "ticks": ""
             }
            },
            "type": "scatterpolargl"
           }
          ],
          "scatterternary": [
           {
            "marker": {
             "colorbar": {
              "outlinewidth": 0,
              "ticks": ""
             }
            },
            "type": "scatterternary"
           }
          ],
          "surface": [
           {
            "colorbar": {
             "outlinewidth": 0,
             "ticks": ""
            },
            "colorscale": [
             [
              0,
              "#0d0887"
             ],
             [
              0.1111111111111111,
              "#46039f"
             ],
             [
              0.2222222222222222,
              "#7201a8"
             ],
             [
              0.3333333333333333,
              "#9c179e"
             ],
             [
              0.4444444444444444,
              "#bd3786"
             ],
             [
              0.5555555555555556,
              "#d8576b"
             ],
             [
              0.6666666666666666,
              "#ed7953"
             ],
             [
              0.7777777777777778,
              "#fb9f3a"
             ],
             [
              0.8888888888888888,
              "#fdca26"
             ],
             [
              1,
              "#f0f921"
             ]
            ],
            "type": "surface"
           }
          ],
          "table": [
           {
            "cells": {
             "fill": {
              "color": "#EBF0F8"
             },
             "line": {
              "color": "white"
             }
            },
            "header": {
             "fill": {
              "color": "#C8D4E3"
             },
             "line": {
              "color": "white"
             }
            },
            "type": "table"
           }
          ]
         },
         "layout": {
          "annotationdefaults": {
           "arrowcolor": "#2a3f5f",
           "arrowhead": 0,
           "arrowwidth": 1
          },
          "autotypenumbers": "strict",
          "coloraxis": {
           "colorbar": {
            "outlinewidth": 0,
            "ticks": ""
           }
          },
          "colorscale": {
           "diverging": [
            [
             0,
             "#8e0152"
            ],
            [
             0.1,
             "#c51b7d"
            ],
            [
             0.2,
             "#de77ae"
            ],
            [
             0.3,
             "#f1b6da"
            ],
            [
             0.4,
             "#fde0ef"
            ],
            [
             0.5,
             "#f7f7f7"
            ],
            [
             0.6,
             "#e6f5d0"
            ],
            [
             0.7,
             "#b8e186"
            ],
            [
             0.8,
             "#7fbc41"
            ],
            [
             0.9,
             "#4d9221"
            ],
            [
             1,
             "#276419"
            ]
           ],
           "sequential": [
            [
             0,
             "#0d0887"
            ],
            [
             0.1111111111111111,
             "#46039f"
            ],
            [
             0.2222222222222222,
             "#7201a8"
            ],
            [
             0.3333333333333333,
             "#9c179e"
            ],
            [
             0.4444444444444444,
             "#bd3786"
            ],
            [
             0.5555555555555556,
             "#d8576b"
            ],
            [
             0.6666666666666666,
             "#ed7953"
            ],
            [
             0.7777777777777778,
             "#fb9f3a"
            ],
            [
             0.8888888888888888,
             "#fdca26"
            ],
            [
             1,
             "#f0f921"
            ]
           ],
           "sequentialminus": [
            [
             0,
             "#0d0887"
            ],
            [
             0.1111111111111111,
             "#46039f"
            ],
            [
             0.2222222222222222,
             "#7201a8"
            ],
            [
             0.3333333333333333,
             "#9c179e"
            ],
            [
             0.4444444444444444,
             "#bd3786"
            ],
            [
             0.5555555555555556,
             "#d8576b"
            ],
            [
             0.6666666666666666,
             "#ed7953"
            ],
            [
             0.7777777777777778,
             "#fb9f3a"
            ],
            [
             0.8888888888888888,
             "#fdca26"
            ],
            [
             1,
             "#f0f921"
            ]
           ]
          },
          "colorway": [
           "#636efa",
           "#EF553B",
           "#00cc96",
           "#ab63fa",
           "#FFA15A",
           "#19d3f3",
           "#FF6692",
           "#B6E880",
           "#FF97FF",
           "#FECB52"
          ],
          "font": {
           "color": "#2a3f5f"
          },
          "geo": {
           "bgcolor": "white",
           "lakecolor": "white",
           "landcolor": "#E5ECF6",
           "showlakes": true,
           "showland": true,
           "subunitcolor": "white"
          },
          "hoverlabel": {
           "align": "left"
          },
          "hovermode": "closest",
          "mapbox": {
           "style": "light"
          },
          "paper_bgcolor": "white",
          "plot_bgcolor": "#E5ECF6",
          "polar": {
           "angularaxis": {
            "gridcolor": "white",
            "linecolor": "white",
            "ticks": ""
           },
           "bgcolor": "#E5ECF6",
           "radialaxis": {
            "gridcolor": "white",
            "linecolor": "white",
            "ticks": ""
           }
          },
          "scene": {
           "xaxis": {
            "backgroundcolor": "#E5ECF6",
            "gridcolor": "white",
            "gridwidth": 2,
            "linecolor": "white",
            "showbackground": true,
            "ticks": "",
            "zerolinecolor": "white"
           },
           "yaxis": {
            "backgroundcolor": "#E5ECF6",
            "gridcolor": "white",
            "gridwidth": 2,
            "linecolor": "white",
            "showbackground": true,
            "ticks": "",
            "zerolinecolor": "white"
           },
           "zaxis": {
            "backgroundcolor": "#E5ECF6",
            "gridcolor": "white",
            "gridwidth": 2,
            "linecolor": "white",
            "showbackground": true,
            "ticks": "",
            "zerolinecolor": "white"
           }
          },
          "shapedefaults": {
           "line": {
            "color": "#2a3f5f"
           }
          },
          "ternary": {
           "aaxis": {
            "gridcolor": "white",
            "linecolor": "white",
            "ticks": ""
           },
           "baxis": {
            "gridcolor": "white",
            "linecolor": "white",
            "ticks": ""
           },
           "bgcolor": "#E5ECF6",
           "caxis": {
            "gridcolor": "white",
            "linecolor": "white",
            "ticks": ""
           }
          },
          "title": {
           "x": 0.05
          },
          "xaxis": {
           "automargin": true,
           "gridcolor": "white",
           "linecolor": "white",
           "ticks": "",
           "title": {
            "standoff": 15
           },
           "zerolinecolor": "white",
           "zerolinewidth": 2
          },
          "yaxis": {
           "automargin": true,
           "gridcolor": "white",
           "linecolor": "white",
           "ticks": "",
           "title": {
            "standoff": 15
           },
           "zerolinecolor": "white",
           "zerolinewidth": 2
          }
         }
        },
        "scene": {
         "domain": {
          "x": [
           0,
           1
          ],
          "y": [
           0,
           1
          ]
         },
         "xaxis": {
          "title": {
           "text": "pc1"
          }
         },
         "yaxis": {
          "title": {
           "text": "pc2"
          }
         },
         "zaxis": {
          "title": {
           "text": "pc3"
          }
         }
        },
        "coloraxis": {
         "colorbar": {
          "title": {
           "text": "Class"
          }
         },
         "colorscale": [
          [
           0,
           "#0d0887"
          ],
          [
           0.1111111111111111,
           "#46039f"
          ],
          [
           0.2222222222222222,
           "#7201a8"
          ],
          [
           0.3333333333333333,
           "#9c179e"
          ],
          [
           0.4444444444444444,
           "#bd3786"
          ],
          [
           0.5555555555555556,
           "#d8576b"
          ],
          [
           0.6666666666666666,
           "#ed7953"
          ],
          [
           0.7777777777777778,
           "#fb9f3a"
          ],
          [
           0.8888888888888888,
           "#fdca26"
          ],
          [
           1,
           "#f0f921"
          ]
         ]
        },
        "legend": {
         "title": {
          "text": "Class"
         },
         "tracegroupgap": 0,
         "x": 0,
         "y": 1
        },
        "margin": {
         "t": 60
        },
        "width": 800
       },
       "config": {
        "plotlyServerURL": "https://plot.ly"
       }
      }
     },
     "metadata": {}
    }
   ],
   "metadata": {}
  },
  {
   "cell_type": "code",
   "execution_count": 26,
   "source": [
    "# Create a table with tradable cryptocurrencies.\n",
    "clustered_df.hvplot.table(columns=['CoinName', \n",
    "                                   'Algorithm', \n",
    "                                   'ProofType',\n",
    "                                   'TotalCoinSupply',\n",
    "                                   'TotalCoinsMined',\n",
    "                                   'Class'], sortable=True, selectable=True)"
   ],
   "outputs": [
    {
     "output_type": "display_data",
     "data": {},
     "metadata": {}
    },
    {
     "output_type": "execute_result",
     "data": {
      "text/html": [
       "<div id='1002'>\n",
       "\n",
       "\n",
       "\n",
       "\n",
       "\n",
       "  <div class=\"bk-root\" id=\"33bb7696-f5c1-4e35-91e8-30d36e3dc594\" data-root-id=\"1002\"></div>\n",
       "</div>\n",
       "<script type=\"application/javascript\">(function(root) {\n",
       "  function embed_document(root) {\n",
       "    var docs_json = {\"c08515b1-a995-473f-9abb-5ed93dd9860d\":{\"defs\":[{\"extends\":null,\"module\":null,\"name\":\"ReactiveHTML1\",\"overrides\":[],\"properties\":[]},{\"extends\":null,\"module\":null,\"name\":\"FlexBox1\",\"overrides\":[],\"properties\":[{\"default\":\"flex-start\",\"kind\":null,\"name\":\"align_content\"},{\"default\":\"flex-start\",\"kind\":null,\"name\":\"align_items\"},{\"default\":\"row\",\"kind\":null,\"name\":\"flex_direction\"},{\"default\":\"wrap\",\"kind\":null,\"name\":\"flex_wrap\"},{\"default\":\"flex-start\",\"kind\":null,\"name\":\"justify_content\"}]},{\"extends\":null,\"module\":null,\"name\":\"TemplateActions1\",\"overrides\":[],\"properties\":[{\"default\":0,\"kind\":null,\"name\":\"open_modal\"},{\"default\":0,\"kind\":null,\"name\":\"close_modal\"}]},{\"extends\":null,\"module\":null,\"name\":\"MaterialTemplateActions1\",\"overrides\":[],\"properties\":[{\"default\":0,\"kind\":null,\"name\":\"open_modal\"},{\"default\":0,\"kind\":null,\"name\":\"close_modal\"}]}],\"roots\":{\"references\":[{\"attributes\":{\"source\":{\"id\":\"1004\"}},\"id\":\"1038\",\"type\":\"CDSView\"},{\"attributes\":{\"margin\":[5,5,5,5],\"name\":\"HSpacer01622\",\"sizing_mode\":\"stretch_width\"},\"id\":\"1003\",\"type\":\"Spacer\"},{\"attributes\":{},\"id\":\"1031\",\"type\":\"NumberFormatter\"},{\"attributes\":{\"data\":{\"Algorithm\":[\"Scrypt\",\"Scrypt\",\"X13\",\"SHA-256\",\"Ethash\",\"Scrypt\",\"X11\",\"CryptoNight-V7\",\"Ethash\",\"Equihash\",\"SHA-512\",\"Multiple\",\"SHA-256\",\"SHA-256\",\"Scrypt\",\"X15\",\"X11\",\"Scrypt\",\"Scrypt\",\"Scrypt\",\"Multiple\",\"Scrypt\",\"SHA-256\",\"Scrypt\",\"Scrypt\",\"Scrypt\",\"Quark\",\"Groestl\",\"Scrypt\",\"Scrypt\",\"Scrypt\",\"Scrypt\",\"Scrypt\",\"X11\",\"Scrypt\",\"Groestl\",\"Multiple\",\"SHA-256\",\"Scrypt\",\"Scrypt\",\"Scrypt\",\"Scrypt\",\"PoS\",\"Scrypt\",\"Scrypt\",\"NeoScrypt\",\"Scrypt\",\"Scrypt\",\"Scrypt\",\"Scrypt\",\"X11\",\"Scrypt\",\"X11\",\"SHA-256\",\"Scrypt\",\"Scrypt\",\"Scrypt\",\"SHA3\",\"Scrypt\",\"HybridScryptHash256\",\"Scrypt\",\"Scrypt\",\"SHA-256\",\"Scrypt\",\"X13\",\"Scrypt\",\"SHA-256\",\"Scrypt\",\"X13\",\"NeoScrypt\",\"Scrypt\",\"Scrypt\",\"Scrypt\",\"Scrypt\",\"Scrypt\",\"Scrypt\",\"X11\",\"X11\",\"SHA-256\",\"Multiple\",\"SHA-256\",\"PHI1612\",\"X11\",\"SHA-256\",\"SHA-256\",\"SHA-256\",\"X11\",\"Scrypt\",\"Scrypt\",\"Scrypt\",\"Scrypt\",\"Lyra2REv2\",\"Scrypt\",\"X11\",\"Multiple\",\"SHA-256\",\"X13\",\"Scrypt\",\"CryptoNight\",\"CryptoNight\",\"Shabal256\",\"Counterparty\",\"Scrypt\",\"SHA-256\",\"Groestl\",\"Scrypt\",\"Scrypt\",\"Scrypt\",\"X13\",\"Scrypt\",\"Scrypt\",\"Scrypt\",\"Scrypt\",\"X13\",\"Scrypt\",\"Stanford Folding\",\"X11\",\"Multiple\",\"QuBit\",\"Scrypt\",\"Scrypt\",\"Scrypt\",\"M7 POW\",\"Scrypt\",\"SHA-256\",\"Scrypt\",\"X11\",\"SHA3\",\"X11\",\"Lyra2RE\",\"SHA-256\",\"QUAIT\",\"X11\",\"X11\",\"Scrypt\",\"Scrypt\",\"Scrypt\",\"Ethash\",\"X13\",\"Blake2b\",\"SHA-256\",\"X15\",\"X11\",\"SHA-256\",\"BLAKE256\",\"Scrypt\",\"1GB AES Pattern Search\",\"SHA-256\",\"X11\",\"Scrypt\",\"SHA-256\",\"SHA-256\",\"NIST5\",\"Scrypt\",\"Scrypt\",\"X11\",\"Dagger\",\"Scrypt\",\"X11GOST\",\"X11\",\"Scrypt\",\"SHA-256\",\"Scrypt\",\"PoS\",\"Scrypt\",\"X11\",\"X11\",\"SHA-256\",\"SHA-256\",\"NIST5\",\"X11\",\"Scrypt\",\"POS 3.0\",\"Scrypt\",\"Scrypt\",\"Scrypt\",\"X13\",\"X11\",\"X11\",\"Equihash\",\"X11\",\"Scrypt\",\"CryptoNight\",\"SHA-256\",\"SHA-256\",\"X11\",\"Scrypt\",\"Multiple\",\"Scrypt\",\"Scrypt\",\"Scrypt\",\"SHA-256\",\"Scrypt\",\"Scrypt\",\"SHA-256D\",\"PoS\",\"Scrypt\",\"X11\",\"Lyra2Z\",\"PoS\",\"X13\",\"X14\",\"PoS\",\"SHA-256D\",\"Ethash\",\"Equihash\",\"DPoS\",\"X11\",\"Scrypt\",\"X11\",\"X13\",\"X11\",\"PoS\",\"Scrypt\",\"Scrypt\",\"X11\",\"PoS\",\"X11\",\"SHA-256\",\"Scrypt\",\"X11\",\"Scrypt\",\"Scrypt\",\"X11\",\"CryptoNight\",\"Scrypt\",\"Scrypt\",\"Scrypt\",\"Scrypt\",\"Quark\",\"QuBit\",\"Scrypt\",\"CryptoNight\",\"Lyra2RE\",\"Scrypt\",\"SHA-256\",\"X11\",\"Scrypt\",\"X11\",\"Scrypt\",\"CryptoNight-V7\",\"Scrypt\",\"Scrypt\",\"Scrypt\",\"X13\",\"X11\",\"Equihash\",\"Scrypt\",\"Scrypt\",\"Lyra2RE\",\"Scrypt\",\"Dagger-Hashimoto\",\"X11\",\"Blake2S\",\"X11\",\"Scrypt\",\"PoS\",\"X11\",\"NIST5\",\"PoS\",\"X11\",\"Scrypt\",\"Scrypt\",\"Scrypt\",\"SHA-256\",\"X11\",\"Scrypt\",\"Scrypt\",\"SHA-256\",\"PoS\",\"Scrypt\",\"X15\",\"SHA-256\",\"Scrypt\",\"POS 3.0\",\"CryptoNight-V7\",\"536\",\"Argon2d\",\"Blake2b\",\"Cloverhash\",\"CryptoNight\",\"NIST5\",\"X11\",\"NIST5\",\"Skein\",\"Scrypt\",\"X13\",\"Scrypt\",\"X11\",\"X11\",\"Scrypt\",\"CryptoNight\",\"X13\",\"Time Travel\",\"Scrypt\",\"Keccak\",\"SkunkHash v2 Raptor\",\"X11\",\"Skein\",\"SHA-256\",\"X11\",\"Scrypt\",\"VeChainThor Authority\",\"Scrypt\",\"PoS\",\"Scrypt\",\"Scrypt\",\"Scrypt\",\"Scrypt\",\"Scrypt\",\"Scrypt\",\"Scrypt\",\"CryptoNight\",\"SHA-512\",\"Ouroboros\",\"X11\",\"Equihash\",\"NeoScrypt\",\"X11\",\"Scrypt\",\"NeoScrypt\",\"Lyra2REv2\",\"Equihash\",\"Scrypt\",\"SHA-256\",\"NIST5\",\"PHI1612\",\"Dagger\",\"Scrypt\",\"Quark\",\"Scrypt\",\"POS 2.0\",\"Scrypt\",\"SHA-256\",\"X11\",\"NeoScrypt\",\"Ethash\",\"NeoScrypt\",\"X11\",\"DPoS\",\"NIST5\",\"X13\",\"Multiple\",\"Scrypt\",\"CryptoNight\",\"CryptoNight\",\"Ethash\",\"NIST5\",\"Quark\",\"X11\",\"CryptoNight-V7\",\"Scrypt\",\"Scrypt\",\"Scrypt\",\"X11\",\"BLAKE256\",\"X11\",\"NeoScrypt\",\"Quark\",\"NeoScrypt\",\"Scrypt\",\"Scrypt\",\"Scrypt\",\"X11\",\"X11\",\"SHA-256\",\"C11\",\"POS 3.0\",\"Ethash\",\"Scrypt\",\"CryptoNight\",\"SkunkHash\",\"Scrypt\",\"CryptoNight\",\"Scrypt\",\"Dagger\",\"Lyra2REv2\",\"X13\",\"Proof-of-BibleHash\",\"SHA-256 + Hive\",\"Scrypt\",\"Scrypt\",\"X11\",\"C11\",\"Proof-of-Authority\",\"X11\",\"XEVAN\",\"Scrypt\",\"VBFT\",\"Ethash\",\"CryptoNight\",\"Scrypt\",\"IMesh\",\"NIST5\",\"Scrypt\",\"Scrypt\",\"Equihash\",\"Scrypt\",\"Lyra2Z\",\"Green Protocol\",\"PoS\",\"Scrypt\",\"Semux BFT consensus\",\"X11\",\"Quark\",\"PoS\",\"CryptoNight\",\"X16R\",\"Scrypt\",\"NIST5\",\"Lyra2RE\",\"XEVAN\",\"Tribus\",\"Scrypt\",\"Lyra2Z\",\"CryptoNight\",\"CryptoNight Heavy\",\"CryptoNight\",\"Scrypt\",\"Scrypt\",\"Jump Consistent Hash\",\"SHA-256D\",\"CryptoNight\",\"Scrypt\",\"X15\",\"Scrypt\",\"Quark\",\"SHA-256\",\"DPoS\",\"X16R\",\"HMQ1725\",\"X11\",\"X16R\",\"Quark\",\"Quark\",\"Scrypt\",\"Lyra2REv2\",\"Quark\",\"Scrypt\",\"Scrypt\",\"CryptoNight-V7\",\"Cryptonight-GPU\",\"XEVAN\",\"CryptoNight Heavy\",\"X11\",\"X11\",\"Scrypt\",\"PoS\",\"SHA-256\",\"Keccak\",\"X11\",\"X11\",\"Scrypt\",\"SHA-512\",\"X16R\",\"ECC 256K1\",\"Equihash\",\"XEVAN\",\"Lyra2Z\",\"SHA-256\",\"XEVAN\",\"X11\",\"CryptoNight\",\"Quark\",\"Blake\",\"Blake\",\"Equihash\",\"Exosis\",\"Scrypt\",\"Scrypt\",\"Equihash\",\"Quark\",\"Equihash\",\"Quark\",\"Scrypt\",\"QuBit\",\"X11\",\"Scrypt\",\"XEVAN\",\"SHA-256D\",\"X11\",\"SHA-256\",\"X13\",\"SHA-256\",\"X11\",\"DPoS\",\"Scrypt\",\"Scrypt\",\"X11\",\"NeoScrypt\",\"Scrypt\",\"Blake\",\"Scrypt\",\"SHA-256\",\"Scrypt\",\"X11\",\"Scrypt\",\"Scrypt\",\"SHA-256\",\"X11\",\"SHA-256\",\"Scrypt\",\"Scrypt\",\"Scrypt\",\"Groestl\",\"X11\",\"Scrypt\",\"PoS\",\"Scrypt\",\"Scrypt\",\"X11\",\"SHA-256\",\"DPoS\",\"Scrypt\",\"Scrypt\",\"NeoScrypt\",\"Multiple\",\"X13\",\"Equihash+Scrypt\",\"DPoS\",\"Ethash\",\"DPoS\",\"SHA-256\",\"Leased POS\",\"PoS\",\"TRC10\",\"PoS\",\"SHA-256\",\"Scrypt\",\"CryptoNight\",\"Equihash\",\"Scrypt\"],\"Class\":{\"__ndarray__\":\"AQAAAAEAAAABAAAAAAAAAAAAAAAAAAAAAQAAAAAAAAAAAAAAAAAAAAEAAAAAAAAAAQAAAAEAAAAAAAAAAQAAAAAAAAAAAAAAAQAAAAEAAAAAAAAAAAAAAAAAAAAAAAAAAAAAAAEAAAAAAAAAAAAAAAAAAAABAAAAAAAAAAEAAAAAAAAAAAAAAAEAAAABAAAAAAAAAAAAAAAAAAAAAAAAAAAAAAAAAAAAAQAAAAEAAAAAAAAAAAAAAAAAAAAAAAAAAAAAAAEAAAABAAAAAAAAAAEAAAAAAAAAAAAAAAAAAAAAAAAAAQAAAAAAAAAAAAAAAQAAAAAAAAABAAAAAQAAAAEAAAAAAAAAAAAAAAAAAAABAAAAAQAAAAEAAAABAAAAAQAAAAAAAAAAAAAAAAAAAAEAAAABAAAAAAAAAAEAAAAAAAAAAQAAAAEAAAAAAAAAAAAAAAAAAAAAAAAAAQAAAAEAAAAAAAAAAQAAAAAAAAAAAAAAAQAAAAEAAAAAAAAAAQAAAAEAAAAAAAAAAAAAAAEAAAABAAAAAAAAAAEAAAABAAAAAAAAAAEAAAAAAAAAAQAAAAAAAAABAAAAAAAAAAEAAAABAAAAAAAAAAAAAAABAAAAAAAAAAAAAAAAAAAAAQAAAAAAAAAAAAAAAAAAAAAAAAAAAAAAAQAAAAEAAAAAAAAAAAAAAAAAAAABAAAAAAAAAAEAAAAAAAAAAAAAAAEAAAAAAAAAAQAAAAAAAAABAAAAAQAAAAAAAAAAAAAAAQAAAAAAAAAAAAAAAQAAAAEAAAAAAAAAAQAAAAAAAAABAAAAAQAAAAEAAAAAAAAAAAAAAAAAAAAAAAAAAQAAAAEAAAABAAAAAQAAAAEAAAAAAAAAAAAAAAEAAAABAAAAAQAAAAEAAAABAAAAAAAAAAEAAAABAAAAAQAAAAEAAAABAAAAAAAAAAEAAAAAAAAAAQAAAAEAAAAAAAAAAQAAAAAAAAABAAAAAQAAAAAAAAABAAAAAAAAAAEAAAAAAAAAAQAAAAAAAAABAAAAAQAAAAEAAAABAAAAAAAAAAEAAAABAAAAAQAAAAEAAAABAAAAAAAAAAAAAAABAAAAAQAAAAAAAAAAAAAAAQAAAAEAAAABAAAAAQAAAAEAAAAAAAAAAQAAAAEAAAABAAAAAQAAAAEAAAABAAAAAQAAAAEAAAAAAAAAAQAAAAEAAAABAAAAAQAAAAEAAAABAAAAAAAAAAAAAAAAAAAAAQAAAAEAAAABAAAAAQAAAAAAAAABAAAAAAAAAAEAAAABAAAAAAAAAAEAAAAAAAAAAAAAAAEAAAAAAAAAAAAAAAEAAAAAAAAAAQAAAAEAAAABAAAAAAAAAAEAAAABAAAAAAAAAAEAAAABAAAAAQAAAAEAAAABAAAAAQAAAAEAAAAAAAAAAQAAAAAAAAABAAAAAQAAAAEAAAABAAAAAAAAAAEAAAAAAAAAAQAAAAAAAAAAAAAAAAAAAAAAAAABAAAAAAAAAAEAAAABAAAAAAAAAAEAAAAAAAAAAAAAAAAAAAABAAAAAAAAAAEAAAAAAAAAAAAAAAAAAAABAAAAAAAAAAEAAAAAAAAAAQAAAAEAAAADAAAAAAAAAAEAAAAAAAAAAAAAAAAAAAAAAAAAAAAAAAEAAAABAAAAAAAAAAEAAAABAAAAAQAAAAAAAAABAAAAAAAAAAEAAAAAAAAAAQAAAAAAAAABAAAAAQAAAAEAAAABAAAAAAAAAAEAAAABAAAAAAAAAAEAAAABAAAAAQAAAAAAAAAAAAAAAAAAAAAAAAABAAAAAQAAAAEAAAABAAAAAAAAAAEAAAAAAAAAAAAAAAAAAAABAAAAAQAAAAAAAAAAAAAAAQAAAAEAAAAAAAAAAQAAAAAAAAAAAAAAAAAAAAEAAAAAAAAAAAAAAAEAAAABAAAAAQAAAAAAAAAAAAAAAAAAAAEAAAAAAAAAAQAAAAAAAAAAAAAAAQAAAAAAAAAAAAAAAAAAAAAAAAABAAAAAwAAAAMAAAAAAAAAAAAAAAAAAAABAAAAAwAAAAEAAAABAAAAAQAAAAEAAAAAAAAAAAAAAAAAAAAAAAAAAQAAAAEAAAABAAAAAAAAAAEAAAAAAAAAAQAAAAEAAAABAAAAAQAAAAAAAAABAAAAAQAAAAAAAAABAAAAAQAAAAAAAAAAAAAAAQAAAAAAAAABAAAAAAAAAAAAAAAAAAAAAAAAAAEAAAABAAAAAAAAAAEAAAAAAAAAAQAAAAEAAAABAAAAAQAAAAEAAAABAAAAAAAAAAAAAAAAAAAAAQAAAAEAAAABAAAAAQAAAAEAAAABAAAAAAAAAAEAAAAAAAAAAAAAAAAAAAAAAAAAAQAAAAEAAAABAAAAAQAAAAAAAAABAAAAAQAAAAAAAAABAAAAAQAAAAAAAAADAAAAAAAAAAEAAAAAAAAAAAAAAAEAAAABAAAAAAAAAAEAAAAAAAAAAAAAAAAAAAAAAAAAAAAAAAEAAAAAAAAAAQAAAAAAAAABAAAAAQAAAAAAAAABAAAAAQAAAAEAAAABAAAAAQAAAAAAAAAAAAAAAAAAAAEAAAABAAAAAQAAAAAAAAABAAAAAAAAAAEAAAAAAAAAAQAAAAEAAAABAAAAAQAAAAAAAAABAAAAAQAAAAEAAAAAAAAAAQAAAAAAAAABAAAAAAAAAAEAAAABAAAAAQAAAAAAAAAAAAAAAQAAAAEAAAABAAAAAQAAAAEAAAABAAAAAAAAAAEAAAAAAAAAAQAAAAAAAAABAAAAAQAAAAMAAAABAAAAAgAAAAEAAAABAAAAAQAAAAAAAAAAAAAAAQAAAA==\",\"dtype\":\"int32\",\"order\":\"little\",\"shape\":[532]},\"CoinName\":[\"42 Coin\",\"404Coin\",\"EliteCoin\",\"Bitcoin\",\"Ethereum\",\"Litecoin\",\"Dash\",\"Monero\",\"Ethereum Classic\",\"ZCash\",\"Bitshares\",\"DigiByte\",\"BitcoinDark\",\"PayCoin\",\"ProsperCoin\",\"KoboCoin\",\"Spreadcoin\",\"Argentum\",\"Aurora Coin\",\"BlueCoin\",\"MyriadCoin\",\"MoonCoin\",\"ZetaCoin\",\"SexCoin\",\"Quatloo\",\"EnergyCoin\",\"QuarkCoin\",\"Riecoin\",\"Digitalcoin \",\"BitBar\",\"Catcoin\",\"CryptoBullion\",\"CannaCoin\",\"CryptCoin\",\"CasinoCoin\",\"Diamond\",\"Verge\",\"DevCoin\",\"EarthCoin\",\"E-Gulden\",\"Einsteinium\",\"Emerald\",\"Exclusive Coin\",\"FlutterCoin\",\"Franko\",\"FeatherCoin\",\"GrandCoin\",\"GlobalCoin\",\"GoldCoin\",\"HoboNickels\",\"HyperStake\",\"Infinite Coin\",\"IOCoin\",\"IXcoin\",\"KrugerCoin\",\"LuckyCoin\",\"Litebar \",\"MaxCoin\",\"MegaCoin\",\"MediterraneanCoin\",\"MintCoin\",\"MinCoin\",\"MazaCoin\",\"Nautilus Coin\",\"NavCoin\",\"NobleCoin\",\"Namecoin\",\"NyanCoin\",\"OpalCoin\",\"Orbitcoin\",\"PotCoin\",\"PhoenixCoin\",\"Reddcoin\",\"RonPaulCoin\",\"StableCoin\",\"SmartCoin\",\"SuperCoin\",\"SyncCoin\",\"SysCoin\",\"TeslaCoin\",\"TigerCoin\",\"TittieCoin\",\"TorCoin\",\"TerraCoin\",\"UnbreakableCoin\",\"Unobtanium\",\"UroCoin\",\"UnitaryStatus Dollar\",\"UltraCoin\",\"ViaCoin\",\"VeriCoin\",\"Vertcoin\",\"WorldCoin\",\"X11 Coin\",\"Crypti\",\"JouleCoin\",\"StealthCoin\",\"ZCC Coin\",\"ByteCoin\",\"DigitalNote \",\"BurstCoin\",\"StorjCoin\",\"MonaCoin\",\"Neutron\",\"FairCoin\",\"Gulden\",\"RubyCoin\",\"PesetaCoin\",\"Kore\",\"Wild Beast Coin\",\"Dnotes\",\"Flo\",\"8BIT Coin\",\"Sativa Coin\",\"ArtByte\",\"Folding Coin\",\"Ucoin\",\"Unitus\",\"CypherPunkCoin\",\"OmniCron\",\"Vtorrent\",\"GreenCoin\",\"Cryptonite\",\"MasterCoin\",\"SoonCoin\",\"1Credit\",\"IslaCoin\",\"Nexus\",\"MarsCoin \",\"Crypto\",\"Anarchists Prime\",\"Droidz\",\"BowsCoin\",\"Squall Coin\",\"Song Coin\",\"BitZeny\",\"Diggits\",\"Expanse\",\"Paycon\",\"Siacoin\",\"Emercoin\",\"EverGreenCoin\",\"MindCoin\",\"I0coin\",\"Decred\",\"Revolution VR\",\"HOdlcoin\",\"EDRCoin\",\"Hitcoin\",\"Gamecredits\",\"DubaiCoin\",\"CarpeDiemCoin\",\"PWR Coin\",\"BillaryCoin\",\"GPU Coin\",\"Adzcoin\",\"SoilCoin\",\"YoCoin\",\"SibCoin\",\"EuropeCoin\",\"ZeitCoin\",\"SwingCoin\",\"SafeExchangeCoin\",\"Nebuchadnezzar\",\"Francs\",\"BolivarCoin\",\"Ratecoin\",\"Revenu\",\"Clockcoin\",\"VIP Tokens\",\"BitSend\",\"Omni\",\"Let it Ride\",\"PutinCoin\",\"iBankCoin\",\"Frankywillcoin\",\"MudraCoin\",\"PizzaCoin\",\"Lutetium Coin\",\"Komodo\",\"GoldBlocks\",\"CarterCoin\",\"Karbo\",\"BitTokens\",\"ZayedCoin\",\"MustangCoin\",\"ZoneCoin\",\"Circuits of Value\",\"RootCoin\",\"DopeCoin\",\"BitCurrency\",\"DollarCoin\",\"Swiscoin\",\"Shilling\",\"BuzzCoin\",\"Opair\",\"PesoBit\",\"Halloween Coin\",\"ZCoin\",\"CoffeeCoin\",\"RoyalCoin\",\"GanjaCoin V2\",\"TeamUP\",\"LanaCoin\",\"Elementrem\",\"ZClassic\",\"ARK\",\"InsaneCoin\",\"KiloCoin\",\"ArtexCoin\",\"EmberCoin\",\"XenixCoin\",\"FreeCoin\",\"PLNCoin\",\"AquariusCoin\",\"Kurrent\",\"Creatio\",\"Eternity\",\"Eurocoin\",\"BitcoinFast\",\"Stakenet\",\"BitConnect Coin\",\"MoneyCoin\",\"Enigma\",\"Cannabis Industry Coin\",\"Russiacoin\",\"PandaCoin\",\"GameUnits\",\"GAKHcoin\",\"Allsafe\",\"LiteCreed\",\"OsmiumCoin\",\"Bikercoins\",\"HexxCoin\",\"Klingon Empire Darsek\",\"Internet of People\",\"KushCoin\",\"Printerium\",\"PacCoin\",\"Impeach\",\"Citadel\",\"Zilbercoin\",\"FirstCoin\",\"BeaverCoin\",\"FindCoin\",\"VaultCoin\",\"Zero\",\"OpenChat\",\"Canada eCoin\",\"Zoin\",\"RenosCoin\",\"DubaiCoin\",\"VirtacoinPlus\",\"TajCoin\",\"Impact\",\"EB3coin\",\"Atmos\",\"HappyCoin\",\"Coinonat\",\"MacronCoin\",\"Condensate\",\"Independent Money System\",\"ArgusCoin\",\"LomoCoin\",\"ProCurrency\",\"GoldReserve\",\"BenjiRolls\",\"GrowthCoin\",\"ILCoin\",\"Phreak\",\"Degas Coin\",\"HTML5 Coin\",\"Ultimate Secure Cash\",\"EquiTrader\",\"QTUM\",\"Quantum Resistant Ledger\",\"Espers\",\"Dynamic\",\"Nano\",\"ChanCoin\",\"Dinastycoin\",\"Denarius\",\"DigitalPrice\",\"Virta Unique Coin\",\"Bitcoin Planet\",\"Unify\",\"BritCoin\",\"SocialCoin\",\"ArcticCoin\",\"DAS\",\"Linda\",\"LeviarCoin\",\"DeepOnion\",\"Bitcore\",\"gCn Coin\",\"SmartCash\",\"Signatum\",\"Onix\",\"Cream\",\"Bitcoin Cash\",\"Monoeci\",\"Draftcoin\",\"Vechain\",\"Sojourn Coin\",\"Stakecoin\",\"NewYorkCoin\",\"FrazCoin\",\"Kronecoin\",\"AdCoin\",\"Linx\",\"CoinonatX\",\"Ethereum Dark\",\"Sumokoin\",\"Obsidian\",\"Cardano\",\"Regalcoin\",\"BitcoinZ\",\"TrezarCoin\",\"Elements\",\"TerraNovaCoin\",\"VIVO Coin\",\"Rupee\",\"Bitcoin Gold\",\"WomenCoin\",\"Theresa May Coin\",\"NamoCoin\",\"LUXCoin\",\"Pirl\",\"Xios\",\"Bitcloud 2.0\",\"eBoost\",\"KekCoin\",\"BlackholeCoin\",\"Infinity Economics\",\"Pura\",\"Innova\",\"Ellaism\",\"GoByte\",\"Magnet\",\"Lamden Tau\",\"Electra\",\"Bitcoin Diamond\",\"SHIELD\",\"Cash & Back Coin\",\"UltraNote\",\"BitCoal\",\"DaxxCoin\",\"Bulwark\",\"Kalkulus\",\"AC3\",\"Lethean\",\"GermanCoin\",\"LiteCoin Ultra\",\"PopularCoin\",\"PhantomX\",\"Photon\",\"Sucre\",\"SparksPay\",\"Digiwage\",\"GunCoin\",\"IrishCoin\",\"Trollcoin\",\"Litecoin Plus\",\"Monkey Project\",\"Pioneer Coin\",\"UnitedBitcoin\",\"Interzone\",\"TokenPay\",\"1717 Masonic Commemorative Token\",\"My Big Coin\",\"TurtleCoin\",\"MUNcoin\",\"Unified Society USDEX\",\"Niobio Cash\",\"ShareChain\",\"Travelflex\",\"KREDS\",\"Tokyo Coin\",\"BiblePay\",\"LitecoinCash\",\"BitFlip\",\"LottoCoin\",\"Crypto Improvement Fund\",\"Stipend\",\"Poa Network\",\"Pushi\",\"Ellerium\",\"Velox\",\"Ontology\",\"Callisto Network\",\"BitTube\",\"Poseidon\",\"Aidos Kuneen\",\"Bitspace\",\"Briacoin\",\"Ignition\",\"Bitrolium\",\"MedicCoin\",\"Alpenschillling\",\"Bitcoin Green\",\"Deviant Coin\",\"Abjcoin\",\"Semux\",\"FuturoCoin\",\"Carebit\",\"Zealium\",\"Monero Classic\",\"Proton\",\"iDealCash\",\"Jumpcoin\",\"Infinex\",\"Bitcoin Incognito\",\"KEYCO\",\"HollyWoodCoin\",\"GINcoin\",\"PlatinCoin\",\"Loki\",\"Newton Coin\",\"Swisscoin\",\"Xt3ch\",\"MassGrid\",\"TheVig\",\"PluraCoin\",\"EmaratCoin\",\"Dekado\",\"Lynx\",\"Poseidon Quark\",\"BitcoinWSpectrum\",\"Muse\",\"Motion\",\"PlusOneCoin\",\"Axe\",\"Trivechain\",\"Dystem\",\"Giant\",\"Peony Coin\",\"Absolute Coin\",\"Vitae\",\"HexCoin\",\"TPCash\",\"Webchain\",\"Ryo\",\"Urals Coin\",\"Qwertycoin\",\"ARENON\",\"EUNO\",\"MMOCoin\",\"Ketan\",\"Project Pai\",\"XDNA\",\"PAXEX\",\"Azart\",\"ThunderStake\",\"Kcash\",\"Xchange\",\"Acute Angle Cloud\",\"CrypticCoin\",\"Bettex coin\",\"Actinium\",\"Bitcoin SV\",\"BitMoney\",\"Junson Ming Chan Coin\",\"FREDEnergy\",\"HerbCoin\",\"Universal Molecule\",\"Lithium\",\"PirateCash\",\"Exosis\",\"Block-Logic\",\"Oduwa\",\"Beam\",\"Galilel\",\"Bithereum\",\"Crypto Sports\",\"Credit\",\"SLICE\",\"Dash Platinum\",\"Nasdacoin\",\"Beetle Coin\",\"Titan Coin\",\"Award\",\"BLAST\",\"Bitcoin Rhodium\",\"GlobalToken\",\"Insane Coin\",\"ALAX\",\"LiteDoge\",\"SolarCoin\",\"TruckCoin\",\"UFO Coin\",\"OrangeCoin\",\"BlakeCoin\",\"BitstarCoin\",\"NeosCoin\",\"HyperCoin\",\"PinkCoin\",\"Crypto Escudo\",\"AudioCoin\",\"IncaKoin\",\"Piggy Coin\",\"Crown Coin\",\"Genstake\",\"SmileyCoin\",\"XiaoMiCoin\",\"Groestlcoin\",\"CapriCoin\",\" ClubCoin\",\"Radium\",\"Bata\",\"Pakcoin\",\"Creditbit \",\"OKCash\",\"Lisk\",\"HiCoin\",\"WhiteCoin\",\"FriendshipCoin\",\"JoinCoin\",\"Triangles Coin\",\"Vollar\",\"EOS\",\"Reality Clash\",\"Oxycoin\",\"TigerCash\",\"Waves\",\"Particl\",\"BitTorrent\",\"Nxt\",\"ZEPHYR\",\"Gapcoin\",\"Beldex\",\"Horizen\",\"BitcoinPlus\"],\"ProofType\":[\"PoW/PoS\",\"PoW/PoS\",\"PoW/PoS\",\"PoW\",\"PoW\",\"PoW\",\"PoW/PoS\",\"PoW\",\"PoW\",\"PoW\",\"PoS\",\"PoW\",\"PoW/PoS\",\"PoS\",\"PoW\",\"PoW/PoS\",\"PoW\",\"PoW\",\"PoW/PoS\",\"PoW/PoS\",\"PoW\",\"PoW\",\"PoW\",\"PoW\",\"PoW\",\"PoW/PoS\",\"PoW\",\"PoW\",\"PoW\",\"PoW/PoS\",\"PoW\",\"PoW/PoS\",\"PoW\",\"PoW\",\"PoC\",\"PoW/PoS\",\"PoW\",\"PoW\",\"PoW\",\"PoW\",\"PoW\",\"PoW\",\"PoS\",\"PoS/PoW/PoT\",\"PoW\",\"PoW\",\"PoW\",\"PoW\",\"PoW\",\"PoW/PoS\",\"PoS\",\"PoW\",\"PoW/PoS\",\"PoW\",\"PoW\",\"PoW\",\"PoW\",\"PoW/PoS\",\"PoW\",\"PoW\",\"PoS\",\"PoW\",\"PoW/PoS\",\"PoS\",\"PoW/PoS\",\"PoW\",\"PoW\",\"PoW\",\"PoW/PoS\",\"PoW/PoS\",\"PoW/PoS\",\"PoW/PoS\",\"PoW/PoS\",\"PoW\",\"PoW\",\"PoW\",\"PoS\",\"PoW/PoS\",\"PoW\",\"PoS\",\"PoW\",\"PoS\",\"PoW/PoS\",\"PoW\",\"PoW\",\"PoW\",\"PoW\",\"PoW/PoS\",\"PoW/PoS\",\"PoW\",\"PoST\",\"PoW\",\"PoW\",\"PoW/PoS\",\"PoS\",\"PoW\",\"PoW/PoS\",\"PoW/PoS\",\"PoW\",\"PoW\",\"PoC\",\"PoS\",\"PoW\",\"PoW/PoS\",\"PoW/PoS\",\"PoW\",\"PoS\",\"PoW\",\"PoW/PoS\",\"PoW\",\"PoS\",\"PoW\",\"PoW/PoS\",\"PoW/PoS\",\"PoW\",\"PoW\",\"PoS\",\"PoW\",\"PoW\",\"PoW\",\"PoW/PoS\",\"PoW\",\"PoW\",\"PoW\",\"PoW\",\"PoW\",\"PoW/PoS\",\"PoW/nPoS\",\"PoW\",\"PoW\",\"PoW\",\"PoW/PoS\",\"PoW\",\"PoS/PoW\",\"PoW\",\"PoW\",\"PoS\",\"PoW\",\"PoW/PoS\",\"PoW\",\"PoW/PoS\",\"PoW/PoS\",\"PoW\",\"PoW\",\"PoW/PoS\",\"PoW\",\"PoW\",\"PoW/PoS\",\"PoW/PoS\",\"PoW\",\"PoW/PoS\",\"PoW\",\"PoW/PoS\",\"PoW/PoS\",\"PoS\",\"PoW\",\"PoW\",\"PoW\",\"PoW\",\"PoW/PoS\",\"PoS\",\"PoW/PoS\",\"PoC\",\"PoS\",\"PoW\",\"PoW\",\"PoW/PoS\",\"PoW/PoS\",\"PoW/PoS\",\"PoW/PoS\",\"PoW/PoS\",\"PoW\",\"PoS\",\"PoW/PoS\",\"PoW/PoS\",\"PoW/PoS\",\"PoS\",\"PoW\",\"PoS\",\"dPoW/PoW\",\"PoW/PoS\",\"PoW/PoS\",\"PoW\",\"PoW/PoS\",\"PoW\",\"PoW/PoS\",\"PoW/PoS\",\"PoW\",\"PoW/PoS\",\"PoW\",\"PoS\",\"PoW\",\"PoW/PoW\",\"PoW\",\"PoW/PoS\",\"PoS\",\"PoW/PoS\",\"PoW/PoS\",\"PoW\",\"PoS\",\"PoS\",\"PoW/PoS\",\"PoS\",\"PoW/PoS\",\"PoW\",\"PoW\",\"DPoS\",\"PoW/PoS\",\"PoW\",\"PoW\",\"PoW/PoS\",\"PoW/PoS\",\"PoS\",\"PoW/PoS\",\"PoW/PoS\",\"PoW\",\"PoS\",\"PoW/PoS\",\"PoW/PoS\",\"PoW/PoS\",\"TPoS\",\"PoW/PoS\",\"PoW/PoS\",\"PoW/PoS\",\"PoW\",\"PoW/PoS\",\"PoS\",\"PoW/PoS\",\"PoW/PoS\",\"PoS\",\"PoW/PoS\",\"PoW\",\"PoW\",\"PoW\",\"PoW/PoS\",\"PoW/PoS\",\"PoW/PoS\",\"PoW/PoS\",\"PoW\",\"PoW/PoS\",\"PoW\",\"PoS\",\"PoW/PoS \",\"PoW\",\"PoS\",\"PoW\",\"PoW\",\"PoW/PoS\",\"PoW\",\"PoW\",\"PoS\",\"PoW\",\"PoW/PoS\",\"PoW/PoS\",\"PoW/PoS\",\"PoW\",\"PoS\",\"PoW/PoS\",\"PoW\",\"PoS\",\"PoW/PoS\",\"PoW/PoS\",\"PoW/PoS\",\"PoW/PoS\",\"PoS\",\"PoW/PoS\",\"PoW\",\"PoS\",\"PoW\",\"PoS\",\"PoW/PoS\",\"PoW/PoS\",\"PoS\",\"PoW\",\"PoS\",\"PoW\",\"PoW/PoS\",\"PoW\",\"PoW\",\"PoW\",\"PoW\",\"PoW/PoS\",\"PoW\",\"PoW/PoS\",\"PoW/PoS\",\"PoW\",\"PoW/PoS\",\"PoW\",\"PoW\",\"PoW\",\"PoW/PoS\",\"PoW\",\"PoW/PoS\",\"PoW\",\"PoW\",\"PoW\",\"PoS\",\"PoW\",\"PoW/PoS\",\"PoW\",\"PoW/PoS\",\"PoS\",\"Proof of Authority\",\"PoW\",\"PoS\",\"PoW\",\"PoW\",\"PoW\",\"PoW\",\"PoW\",\"PoW/PoS\",\"PoW/PoS\",\"PoW\",\"PoS\",\"PoS\",\"PoW/PoS\",\"PoW\",\"PoW/PoS\",\"PoW\",\"PoW/PoS\",\"PoW\",\"PoS\",\"PoW\",\"PoW/PoS\",\"PoW/PoS\",\"PoW/PoS\",\"PoW/PoS\",\"PoW\",\"PoW/PoS\",\"PoW/PoS\",\"PoW\",\"PoS\",\"PoW/PoS\",\"PoS\",\"PoW\",\"PoW\",\"PoW\",\"PoW\",\"PoW/PoS\",\"DPoS\",\"PoW/PoS\",\"PoW/PoS\",\"PoW\",\"PoW/PoS\",\"PoW\",\"PoW\",\"PoW\",\"PoS\",\"PoS\",\"PoW\",\"PoW\",\"PoW/PoS\",\"PoW/PoS\",\"PoW\",\"PoW/PoS\",\"PoW\",\"PoW\",\"PoW\",\"PoS\",\"PoW\",\"PoW\",\"PoW/PoS\",\"PoW/PoS\",\"PoS\",\"PoW\",\"PoW\",\"PoW\",\"PoS\",\"PoS\",\"PoW and PoS\",\"PoW\",\"PoW\",\"PoW/PoS\",\"PoW\",\"PoW\",\"PoW\",\"PoW\",\"PoS\",\"POBh\",\"PoW + Hive\",\"PoW\",\"PoW\",\"PoW\",\"PoW/PoS\",\"PoA\",\"PoW/PoS\",\"PoW/PoS\",\"PoS\",\"PoS\",\"PoW\",\"PoW\",\"PoW\",\"PoW\",\"PoW/PoS\",\"PoW/PoS\",\"PoW/PoS\",\"PoW\",\"PoS\",\"PoW\",\"PoS\",\"PoS\",\"PoW/PoS\",\"DPoS\",\"PoW\",\"PoW/PoS\",\"PoS\",\"PoW\",\"PoS\",\"PoW/PoS\",\"PoW\",\"PoW\",\"PoS/PoW\",\"PoW\",\"PoS\",\"PoW\",\"PoW\",\"PoW\",\"PoW\",\"PoW/PoS\",\"PoS\",\"PoW\",\"PoW/PoS\",\"PoW\",\"PoW/PoS\",\"PoS\",\"HPoW\",\"PoS\",\"PoS\",\"PoS\",\"PoW\",\"PoW\",\"PoW\",\"PoW/PoS\",\"PoS\",\"PoW/PoS\",\"PoS\",\"PoW/PoS\",\"PoS\",\"PoW\",\"PoW/PoS\",\"PoW\",\"PoW\",\"PoW\",\"PoW\",\"PoS\",\"PoW/PoS\",\"PoS\",\"PoS\",\"PoW\",\"PoW/PoS\",\"PoS\",\"PoW\",\"PoW/PoS\",\"Zero-Knowledge Proof\",\"PoW\",\"DPOS\",\"PoW\",\"PoS\",\"PoW\",\"PoW\",\"Pos\",\"PoS\",\"PoW\",\"PoW/PoS\",\"PoW\",\"PoW\",\"PoS\",\"PoW\",\"PoW\",\"PoW/PoS\",\"PoW\",\"PoW/PoS\",\"PoW\",\"PoS\",\"PoW/PoS\",\"PoW\",\"PoS\",\"PoW/PoS\",\"PoW/PoS\",\"PoW/PoS\",\"PoW/PoS\",\"PoW\",\"PoW\",\"PoW\",\"PoW/PoS\",\"DPoS\",\"PoW/PoS\",\"PoW\",\"PoW/PoS\",\"PoW\",\"PoW/PoS\",\"PoW\",\"PoW/PoS\",\"PoS\",\"PoW/PoS\",\"PoW/PoS\",\"PoW\",\"PoW/PoS\",\"PoW/PoS\",\"PoW/PoS\",\"PoW\",\"PoW/PoS\",\"PoW\",\"PoW/PoS\",\"PoW\",\"PoW/PoS\",\"PoW/PoS\",\"PoS\",\"PoW\",\"PoW\",\"Proof of Trust\",\"PoW/PoS\",\"DPoS\",\"PoS\",\"PoW/PoS\",\"PoW/PoS\",\"PoW\",\"PoW/PoS\",\"PoW\",\"DPoS\",\"PoW\",\"DPoS\",\"PoS\",\"LPoS\",\"PoS\",\"DPoS\",\"PoS/LPoS\",\"DPoS\",\"PoW/PoS\",\"PoW\",\"PoW\",\"PoS\"],\"TotalCoinSupply\":[\"42\",\"532000000\",\"314159265359\",\"21000000\",\"0\",\"84000000\",\"22000000\",\"0\",\"210000000\",\"21000000\",\"3600570502\",\"21000000000\",\"22000000\",\"12500000\",\"21000000\",\"350000000\",\"20000000\",\"64000000\",\"16768584\",\"0\",\"2000000000\",\"384000000000\",\"169795588\",\"250000000\",\"100000000\",\"0\",\"247000000\",\"84000000\",\"48166000\",\"500000\",\"21000000 \",\"1000000\",\"13140000\",\"18000000\",\"40000000000\",\"4380000\",\"16555000000\",\"21000000000\",\"13500000000\",\"21000000 \",\"299792458\",\"32000000\",\"0\",\"0\",\"11235813\",\"336000000\",\"1420609614\",\"70000000\",\"72245700\",\"120000000\",\"0\",\"90600000000\",\"22000000\",\"21000000\",\"265420800\",\"20000000\",\"1350000\",\"100000000\",\"42000000\",\"200000000\",\"0\",\"10000000\",\"2419200000\",\"16180000\",\"0\",\"15000000000\",\"21000000\",\"337000000\",\"0\",\"3770000\",\"420000000\",\"98000000\",\"0\",\"21000000\",\"250000000\",\"51200000\",\"0\",\"1000\",\"888000000\",\"100000000\",\"47011968\",\"2300000000\",\"10000000\",\"42000000\",\"80000000\",\"250000\",\"0\",\"1600000000\",\"100000000\",\"23000000\",\"0\",\"84000000\",\"265420800\",\"5500000\",\"0\",\"45000000\",\"0\",\"1000000000\",\"184467440735\",\"10000000000\",\"2158812800\",\"500000000\",\"105120000\",\"68000000\",\"0\",\"1680000000\",\"0\",\"166386000\",\"12000000\",\"2628000\",\"500000000\",\"160000000\",\"0\",\"10000000\",\"1000000000\",\"1000000000\",\"20000000\",\"0\",\"0\",\"3371337\",\"20000000\",\"10000000000\",\"1840000000\",\"619478\",\"21000000\",\"92000000000\",\"0\",\"78000000\",\"33000000\",\"65789100\",\"53760000\",\"5060000\",\"21000000\",\"0\",\"210240000\",\"250000000\",\"100000000\",\"16906397\",\"50000000\",\"0\",\"1000000000\",\"26298000\",\"16000000\",\"21000000\",\"21000000\",\"210000000\",\"81962100\",\"22000000\",\"26550000000\",\"84000000\",\"10500000\",\"21626280000 \",\"0\",\"42000000\",\"221052632\",\"84000000\",\"30000000\",\"168351300\",\"24000000\",\"384000000\",\" 99000000000\",\"40000000\",\"2147483647\",\"20000000\",\"20000000\",\"25000000\",\"75000000\",\"222725000\",\"525000000\",\"90000000\",\"139000000\",\"616448\",\"33500000\",\"2000000000\",\"44333333\",\"100000000\",\"200000000\",\"25000000\",\"657000000\",\"200000000\",\"50000000\",\"90000000\",\"10000000\",\"21000000\",\"9736000\",\"3000000\",\"21000000\",\"1200000000\",\"0\",\"200000000\",\"0\",\"10638298\",\"3100000000\",\"30000000\",\"20000000000\",\"74000000\",\"0\",\"1500000000\",\"21400000\",\"39999898\",\"2500124\",\"100000000\",\"301000000\",\"7506000000\",\"26205539\",\"21000000\",\"125000000\",\"30000000\",\"10000000000\",\"500000000\",\"850000000\",\"3853326.77707314\",\"50000000\",\"38540000 \",\"42000000\",\"228000000\",\"20000000\",\"60000000\",\"20000000\",\"33000000\",\"76500000\",\"28000000\",\"650659833\",\"5000000\",\"21000000\",\"144000000\",\"32514916898\",\"13000000\",\"3315789\",\"15000000\",\"78835200\",\"2714286\",\"25000000\",\"9999999\",\"500000000\",\"21000000\",\"9354000\",\"20000000\",\"100000000000\",\"21933333\",\"185000000\",\"55000000\",\"110000000\",\"3360000\",\"14524851.4827\",\"1000000000\",\"17000000\",\"1000000000\",\"100000000 \",\"21000000\",\"34426423\",\"2232901\",\"100000000\",\"36900000\",\"110000000\",\"4000000000\",\"110290030\",\"100000000\",\"48252000\",\"400000000\",\"500000000\",\"21212121\",\"28600000\",\"1000000000\",\"75000000000\",\"40000000\",\"35520400\",\"2000000000\",\"2500000000\",\"30000000\",\"105000000\",\"90000000000\",\"200084200\",\"72000000\",\"100000000\",\"105000000\",\"50000000000\",\"0\",\"340282367\",\"30000000\",\"2000000000\",\"10000000\",\"100000000\",\"120000000\",\"100000000\",\"19276800\",\"30000000\",\" 75000000\",\"60000000\",\"18900000\",\"50000000000\",\"54000000\",\"18898187.6216583\",\"21000000\",\"200000000000\",\"5000000000\",\"137500000\",\"1100000000\",\"100000000\",\"21000000\",\"9507271\",\"17405891.19707116\",\"86712634466\",\"10500000000\",\"61599965\",\"0\",\"20000000\",\"84000000\",\"100000000\",\"100000000\",\"48252000\",\"4200000\",\"88888888\",\"91388946\",\"45000000000\",\"27000000\",\"21000000000\",\"400000000\",\"1800000000\",\"15733333\",\"27000000\",\"24000000\",\"21000000\",\"25000000000\",\"100000000\",\"1200000000\",\"60000000\",\"156306732.71\",\"21000000\",\"200000000\",\"100000000\",\"21000000\",\"14788275.991\",\"9000000000\",\"350000000\",\"45000000\",\"280000000\",\"31800000\",\"144000000\",\"500000000\",\"30000000000\",\"210000000\",\"660000000\",\"210000000\",\"85000000000\",\"12500000\",\"10000000000\",\"27716121\",\"20000000\",\"550000000\",\"999481516\",\"50000000000\",\"150000000\",\"4999999999\",\"50000000\",\" 90000000000\",\"19800000\",\"21000000\",\"120000000\",\"500000000\",\"64000000\",\"900000000\",\"4000000\",\"21000000\",\"23000000\",\"20166000\",\"23000000\",\"25000000\",\"1618033\",\"30000000\",\"1000000000000\",\"16600000\",\"232000000\",\"336000000\",\"10000000000\",\"100000000\",\"1100000000\",\"800000000\",\"5200000000\",\"840000000\",\"40000000\",\"18406979840\",\"500000000\",\"19340594\",\"252460800\",\"25000000\",\"60000000\",\"124000000\",\"1000000000\",\"6500000000\",\"1000000000\",\"21000000\",\"25000000\",\"50000000\",\"3000000\",\"5000000\",\"70000000\",\"500000000\",\"300000000\",\"21000000\",\"88000000\",\"30000000\",\"100000000\",\"100000000\",\"200000000\",\"80000000\",\"18400000\",\"45000000\",\"5121951220\",\"21000000\",\"26280000\",\"21000000\",\"18000000\",\"26000000\",\"10500000\",\"600000518\",\"150000000\",\"184000000000\",\"10200000000\",\"44000000\",\"168000000\",\"100000000\",\"1000000000\",\"84000000\",\"90000000\",\"92000000000\",\"650000000 \",\"100262205\",\"18081806 \",\"22075700\",\"21000000\",\"21000000\",\"82546564\",\"21000000\",\"5151000\",\"16880000000\",\"52500000\",\"100000000\",\"22105263\",\"1000000000\",\"1750000000\",\"88188888\",\"210000000\",\"184470000000\",\"55000000\",\"50000000\",\"260000000\",\"210000000\",\"2100000000\",\"366000000\",\"100000000\",\"25000000\",\"18000000000\",\"1000000000\",\"100000000\",\"1000000000\",\"7600000000\",\"50000000\",\"84000000\",\"21000000\",\"70000000000\",\"0\",\"8080000000\",\"54000000\",\"105120001.44\",\"25228800\",\"105000000\",\"21000000\",\"120000000\",\"21000000\",\"262800000\",\"19035999\",\"30886000\",\"13370000\",\"74800000000\",\"100000000\",\"19700000\",\"84000000\",\"500000000\",\"5000000000\",\"420000000\",\"64000000\",\"2100000\",\"168000000\",\"30000000\",\"1000000000\",\"35000000000\",\"98100000000\",\"0\",\"4000000000\",\"200000000\",\"7000000000\",\"54256119\",\"21000000\",\"0\",\"500000000\",\"1000000000\",\"10500000000\",\"190000000\",\"1000000000\",\"42000000\",\"15000000\",\"50000000000\",\"400000000\",\"105000000\",\"208000000\",\"160000000\",\"9000000\",\"5000000\",\"182000000\",\"16504333\",\"105000000\",\"159918400\",\"10008835635\",\"300000000\",\"60168145\",\"2800000\",\"120000\",\"2100000000\",\"0\",\"24487944\",\"0\",\"1000000000\",\"100000000\",\"8634140\",\"990000000000\",\"1000000000\",\"2000000000\",\"250000000\",\"1400222610\",\"21000000\",\"1000000\"],\"TotalCoinsMined\":{\"__ndarray__\":\"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\",\"dtype\":\"float64\",\"order\":\"little\",\"shape\":[532]}},\"selected\":{\"id\":\"1005\"},\"selection_policy\":{\"id\":\"1039\"}},\"id\":\"1004\",\"type\":\"ColumnDataSource\"},{\"attributes\":{},\"id\":\"1039\",\"type\":\"UnionRenderers\"},{\"attributes\":{},\"id\":\"1032\",\"type\":\"IntEditor\"},{\"attributes\":{},\"id\":\"1005\",\"type\":\"Selection\"},{\"attributes\":{},\"id\":\"1006\",\"type\":\"StringFormatter\"},{\"attributes\":{\"editor\":{\"id\":\"1027\"},\"field\":\"TotalCoinsMined\",\"formatter\":{\"id\":\"1026\"},\"title\":\"TotalCoinsMined\"},\"id\":\"1028\",\"type\":\"TableColumn\"},{\"attributes\":{},\"id\":\"1007\",\"type\":\"StringEditor\"},{\"attributes\":{\"columns\":[{\"id\":\"1008\"},{\"id\":\"1013\"},{\"id\":\"1018\"},{\"id\":\"1023\"},{\"id\":\"1028\"},{\"id\":\"1033\"}],\"height\":300,\"reorderable\":false,\"source\":{\"id\":\"1004\"},\"view\":{\"id\":\"1038\"},\"width\":700},\"id\":\"1036\",\"type\":\"DataTable\"},{\"attributes\":{},\"id\":\"1017\",\"type\":\"StringEditor\"},{\"attributes\":{\"editor\":{\"id\":\"1032\"},\"field\":\"Class\",\"formatter\":{\"id\":\"1031\"},\"title\":\"Class\"},\"id\":\"1033\",\"type\":\"TableColumn\"},{\"attributes\":{\"children\":[{\"id\":\"1003\"},{\"id\":\"1036\"},{\"id\":\"1043\"}],\"margin\":[0,0,0,0],\"name\":\"Row01618\",\"tags\":[\"embedded\"]},\"id\":\"1002\",\"type\":\"Row\"},{\"attributes\":{},\"id\":\"1012\",\"type\":\"StringEditor\"},{\"attributes\":{},\"id\":\"1022\",\"type\":\"StringEditor\"},{\"attributes\":{\"editor\":{\"id\":\"1007\"},\"field\":\"CoinName\",\"formatter\":{\"id\":\"1006\"},\"title\":\"CoinName\"},\"id\":\"1008\",\"type\":\"TableColumn\"},{\"attributes\":{},\"id\":\"1011\",\"type\":\"StringFormatter\"},{\"attributes\":{},\"id\":\"1027\",\"type\":\"NumberEditor\"},{\"attributes\":{},\"id\":\"1016\",\"type\":\"StringFormatter\"},{\"attributes\":{\"margin\":[5,5,5,5],\"name\":\"HSpacer01623\",\"sizing_mode\":\"stretch_width\"},\"id\":\"1043\",\"type\":\"Spacer\"},{\"attributes\":{\"editor\":{\"id\":\"1012\"},\"field\":\"Algorithm\",\"formatter\":{\"id\":\"1011\"},\"title\":\"Algorithm\"},\"id\":\"1013\",\"type\":\"TableColumn\"},{\"attributes\":{\"format\":\"0,0.0[00000]\"},\"id\":\"1026\",\"type\":\"NumberFormatter\"},{\"attributes\":{},\"id\":\"1021\",\"type\":\"StringFormatter\"},{\"attributes\":{\"editor\":{\"id\":\"1017\"},\"field\":\"ProofType\",\"formatter\":{\"id\":\"1016\"},\"title\":\"ProofType\"},\"id\":\"1018\",\"type\":\"TableColumn\"},{\"attributes\":{\"editor\":{\"id\":\"1022\"},\"field\":\"TotalCoinSupply\",\"formatter\":{\"id\":\"1021\"},\"title\":\"TotalCoinSupply\"},\"id\":\"1023\",\"type\":\"TableColumn\"}],\"root_ids\":[\"1002\"]},\"title\":\"Bokeh Application\",\"version\":\"2.3.2\"}};\n",
       "    var render_items = [{\"docid\":\"c08515b1-a995-473f-9abb-5ed93dd9860d\",\"root_ids\":[\"1002\"],\"roots\":{\"1002\":\"33bb7696-f5c1-4e35-91e8-30d36e3dc594\"}}];\n",
       "    root.Bokeh.embed.embed_items_notebook(docs_json, render_items);\n",
       "  }\n",
       "  if (root.Bokeh !== undefined && root.Bokeh.Panel !== undefined) {\n",
       "    embed_document(root);\n",
       "  } else {\n",
       "    var attempts = 0;\n",
       "    var timer = setInterval(function(root) {\n",
       "      if (root.Bokeh !== undefined && root.Bokeh.Panel !== undefined) {\n",
       "        clearInterval(timer);\n",
       "        embed_document(root);\n",
       "      } else if (document.readyState == \"complete\") {\n",
       "        attempts++;\n",
       "        if (attempts > 200) {\n",
       "          clearInterval(timer);\n",
       "          console.log(\"Bokeh: ERROR: Unable to run BokehJS code because BokehJS library is missing\");\n",
       "        }\n",
       "      }\n",
       "    }, 25, root)\n",
       "  }\n",
       "})(window);</script>"
      ],
      "text/plain": [
       ":Table   [CoinName,Algorithm,ProofType,TotalCoinSupply,TotalCoinsMined,Class]"
      ],
      "application/vnd.holoviews_exec.v0+json": ""
     },
     "metadata": {
      "application/vnd.holoviews_exec.v0+json": {
       "id": "1002"
      }
     },
     "execution_count": 26
    }
   ],
   "metadata": {}
  },
  {
   "cell_type": "code",
   "execution_count": 27,
   "source": [
    "# Print the total number of tradable cryptocurrencies.\n",
    "no_unique_CoinName = len(pd.unique(clustered_df['CoinName']))\n",
    "print(\"Number of tradable currencies are :\", \n",
    "      no_unique_CoinName)"
   ],
   "outputs": [
    {
     "output_type": "stream",
     "name": "stdout",
     "text": [
      "Number of tradable currencies are : 531\n"
     ]
    }
   ],
   "metadata": {}
  },
  {
   "cell_type": "code",
   "execution_count": 28,
   "source": [
    "# Scaling data to create the scatter plot with tradable cryptocurrencies.\n",
    "clustered_SM=clustered_df[['TotalCoinSupply','TotalCoinsMined']]\n",
    "clustered_df_scaled = MinMaxScaler().fit_transform(clustered_SM)\n",
    "clustered_df_scaled"
   ],
   "outputs": [
    {
     "output_type": "execute_result",
     "data": {
      "text/plain": [
       "array([[4.20000000e-11, 0.00000000e+00],\n",
       "       [5.32000000e-04, 1.06585544e-03],\n",
       "       [3.14159265e-01, 2.95755135e-02],\n",
       "       ...,\n",
       "       [1.40022261e-03, 9.90135079e-04],\n",
       "       [2.10000000e-05, 7.37028150e-06],\n",
       "       [1.00000000e-06, 1.29582282e-07]])"
      ]
     },
     "metadata": {},
     "execution_count": 28
    }
   ],
   "metadata": {}
  },
  {
   "cell_type": "code",
   "execution_count": 31,
   "source": [
    "# Create a new DataFrame that has the scaled data with the clustered_df DataFrame index.\n",
    "clusterScaled_df=pd.DataFrame(clustered_df_scaled,\n",
    "                              columns=['TotalCoinSupply','TotalCoinsMined'],\n",
    "                              index=CoinName_df.index)\n",
    "# clusterScaled_df.head()\n",
    "# CoinName_df.head()\n",
    "# Add the \"CoinName\" column from the clustered_df DataFrame to the new DataFrame.\n",
    "clusterScaled_df = clusterScaled_df.join(CoinName_df, how='inner')\n",
    "clusterScaled_df.head()\n",
    "# Add the \"Class\" column from the clustered_df DataFrame to the new DataFrame. \n",
    "clusterScaled_df = clusterScaled_df.join(df_y, how='inner')\n",
    "clusterScaled_df.rename(columns={'Cluster':'Class'},inplace=True)\n",
    "clusterScaled_df.head(20)"
   ],
   "outputs": [
    {
     "output_type": "execute_result",
     "data": {
      "text/html": [
       "<div>\n",
       "<style scoped>\n",
       "    .dataframe tbody tr th:only-of-type {\n",
       "        vertical-align: middle;\n",
       "    }\n",
       "\n",
       "    .dataframe tbody tr th {\n",
       "        vertical-align: top;\n",
       "    }\n",
       "\n",
       "    .dataframe thead th {\n",
       "        text-align: right;\n",
       "    }\n",
       "</style>\n",
       "<table border=\"1\" class=\"dataframe\">\n",
       "  <thead>\n",
       "    <tr style=\"text-align: right;\">\n",
       "      <th></th>\n",
       "      <th>TotalCoinSupply</th>\n",
       "      <th>TotalCoinsMined</th>\n",
       "      <th>CoinName</th>\n",
       "      <th>Class</th>\n",
       "    </tr>\n",
       "    <tr>\n",
       "      <th>Ticker</th>\n",
       "      <th></th>\n",
       "      <th></th>\n",
       "      <th></th>\n",
       "      <th></th>\n",
       "    </tr>\n",
       "  </thead>\n",
       "  <tbody>\n",
       "    <tr>\n",
       "      <th>42</th>\n",
       "      <td>4.200000e-11</td>\n",
       "      <td>0.000000</td>\n",
       "      <td>42 Coin</td>\n",
       "      <td>1</td>\n",
       "    </tr>\n",
       "    <tr>\n",
       "      <th>404</th>\n",
       "      <td>5.320000e-04</td>\n",
       "      <td>0.001066</td>\n",
       "      <td>404Coin</td>\n",
       "      <td>1</td>\n",
       "    </tr>\n",
       "    <tr>\n",
       "      <th>1337</th>\n",
       "      <td>3.141593e-01</td>\n",
       "      <td>0.029576</td>\n",
       "      <td>EliteCoin</td>\n",
       "      <td>1</td>\n",
       "    </tr>\n",
       "    <tr>\n",
       "      <th>BTC</th>\n",
       "      <td>2.100000e-05</td>\n",
       "      <td>0.000018</td>\n",
       "      <td>Bitcoin</td>\n",
       "      <td>0</td>\n",
       "    </tr>\n",
       "    <tr>\n",
       "      <th>ETH</th>\n",
       "      <td>0.000000e+00</td>\n",
       "      <td>0.000109</td>\n",
       "      <td>Ethereum</td>\n",
       "      <td>0</td>\n",
       "    </tr>\n",
       "    <tr>\n",
       "      <th>LTC</th>\n",
       "      <td>8.400000e-05</td>\n",
       "      <td>0.000064</td>\n",
       "      <td>Litecoin</td>\n",
       "      <td>0</td>\n",
       "    </tr>\n",
       "    <tr>\n",
       "      <th>DASH</th>\n",
       "      <td>2.200000e-05</td>\n",
       "      <td>0.000009</td>\n",
       "      <td>Dash</td>\n",
       "      <td>1</td>\n",
       "    </tr>\n",
       "    <tr>\n",
       "      <th>XMR</th>\n",
       "      <td>0.000000e+00</td>\n",
       "      <td>0.000017</td>\n",
       "      <td>Monero</td>\n",
       "      <td>0</td>\n",
       "    </tr>\n",
       "    <tr>\n",
       "      <th>ETC</th>\n",
       "      <td>2.100000e-04</td>\n",
       "      <td>0.000115</td>\n",
       "      <td>Ethereum Classic</td>\n",
       "      <td>0</td>\n",
       "    </tr>\n",
       "    <tr>\n",
       "      <th>ZEC</th>\n",
       "      <td>2.100000e-05</td>\n",
       "      <td>0.000007</td>\n",
       "      <td>ZCash</td>\n",
       "      <td>0</td>\n",
       "    </tr>\n",
       "    <tr>\n",
       "      <th>BTS</th>\n",
       "      <td>3.600571e-03</td>\n",
       "      <td>0.002769</td>\n",
       "      <td>Bitshares</td>\n",
       "      <td>1</td>\n",
       "    </tr>\n",
       "    <tr>\n",
       "      <th>DGB</th>\n",
       "      <td>2.100000e-02</td>\n",
       "      <td>0.011522</td>\n",
       "      <td>DigiByte</td>\n",
       "      <td>0</td>\n",
       "    </tr>\n",
       "    <tr>\n",
       "      <th>BTCD</th>\n",
       "      <td>2.200000e-05</td>\n",
       "      <td>0.000001</td>\n",
       "      <td>BitcoinDark</td>\n",
       "      <td>1</td>\n",
       "    </tr>\n",
       "    <tr>\n",
       "      <th>XPY</th>\n",
       "      <td>1.250000e-05</td>\n",
       "      <td>0.000012</td>\n",
       "      <td>PayCoin</td>\n",
       "      <td>1</td>\n",
       "    </tr>\n",
       "    <tr>\n",
       "      <th>PRC</th>\n",
       "      <td>2.100000e-05</td>\n",
       "      <td>0.000006</td>\n",
       "      <td>ProsperCoin</td>\n",
       "      <td>0</td>\n",
       "    </tr>\n",
       "    <tr>\n",
       "      <th>KOBO</th>\n",
       "      <td>3.500000e-04</td>\n",
       "      <td>0.000026</td>\n",
       "      <td>KoboCoin</td>\n",
       "      <td>1</td>\n",
       "    </tr>\n",
       "    <tr>\n",
       "      <th>SPR</th>\n",
       "      <td>2.000000e-05</td>\n",
       "      <td>0.000011</td>\n",
       "      <td>Spreadcoin</td>\n",
       "      <td>0</td>\n",
       "    </tr>\n",
       "    <tr>\n",
       "      <th>ARG</th>\n",
       "      <td>6.400000e-05</td>\n",
       "      <td>0.000012</td>\n",
       "      <td>Argentum</td>\n",
       "      <td>0</td>\n",
       "    </tr>\n",
       "    <tr>\n",
       "      <th>AUR</th>\n",
       "      <td>1.676858e-05</td>\n",
       "      <td>0.000018</td>\n",
       "      <td>Aurora Coin</td>\n",
       "      <td>1</td>\n",
       "    </tr>\n",
       "    <tr>\n",
       "      <th>BLU</th>\n",
       "      <td>0.000000e+00</td>\n",
       "      <td>0.000642</td>\n",
       "      <td>BlueCoin</td>\n",
       "      <td>1</td>\n",
       "    </tr>\n",
       "  </tbody>\n",
       "</table>\n",
       "</div>"
      ],
      "text/plain": [
       "        TotalCoinSupply  TotalCoinsMined          CoinName  Class\n",
       "Ticker                                                           \n",
       "42         4.200000e-11         0.000000           42 Coin      1\n",
       "404        5.320000e-04         0.001066           404Coin      1\n",
       "1337       3.141593e-01         0.029576         EliteCoin      1\n",
       "BTC        2.100000e-05         0.000018           Bitcoin      0\n",
       "ETH        0.000000e+00         0.000109          Ethereum      0\n",
       "LTC        8.400000e-05         0.000064          Litecoin      0\n",
       "DASH       2.200000e-05         0.000009              Dash      1\n",
       "XMR        0.000000e+00         0.000017            Monero      0\n",
       "ETC        2.100000e-04         0.000115  Ethereum Classic      0\n",
       "ZEC        2.100000e-05         0.000007             ZCash      0\n",
       "BTS        3.600571e-03         0.002769         Bitshares      1\n",
       "DGB        2.100000e-02         0.011522          DigiByte      0\n",
       "BTCD       2.200000e-05         0.000001       BitcoinDark      1\n",
       "XPY        1.250000e-05         0.000012           PayCoin      1\n",
       "PRC        2.100000e-05         0.000006       ProsperCoin      0\n",
       "KOBO       3.500000e-04         0.000026          KoboCoin      1\n",
       "SPR        2.000000e-05         0.000011        Spreadcoin      0\n",
       "ARG        6.400000e-05         0.000012          Argentum      0\n",
       "AUR        1.676858e-05         0.000018       Aurora Coin      1\n",
       "BLU        0.000000e+00         0.000642          BlueCoin      1"
      ]
     },
     "metadata": {},
     "execution_count": 31
    }
   ],
   "metadata": {}
  },
  {
   "cell_type": "code",
   "execution_count": 30,
   "source": [
    "# Create a hvplot.scatter plot using x=\"TotalCoinsMined\" and y=\"TotalCoinSupply\".\n",
    "clusterScaled_df.hvplot.scatter(x=\"TotalCoinsMined\", y=\"TotalCoinSupply\", by=\"Class\")"
   ],
   "outputs": [
    {
     "output_type": "display_data",
     "data": {},
     "metadata": {}
    },
    {
     "output_type": "execute_result",
     "data": {
      "text/html": [
       "<div id='1055'>\n",
       "\n",
       "\n",
       "\n",
       "\n",
       "\n",
       "  <div class=\"bk-root\" id=\"26c1d0b9-ef57-4a15-af56-0dd1237ba0d3\" data-root-id=\"1055\"></div>\n",
       "</div>\n",
       "<script type=\"application/javascript\">(function(root) {\n",
       "  function embed_document(root) {\n",
       "    var docs_json = {\"a63da62b-549f-4506-875f-9b4f6e09bc0f\":{\"defs\":[{\"extends\":null,\"module\":null,\"name\":\"ReactiveHTML1\",\"overrides\":[],\"properties\":[]},{\"extends\":null,\"module\":null,\"name\":\"FlexBox1\",\"overrides\":[],\"properties\":[{\"default\":\"flex-start\",\"kind\":null,\"name\":\"align_content\"},{\"default\":\"flex-start\",\"kind\":null,\"name\":\"align_items\"},{\"default\":\"row\",\"kind\":null,\"name\":\"flex_direction\"},{\"default\":\"wrap\",\"kind\":null,\"name\":\"flex_wrap\"},{\"default\":\"flex-start\",\"kind\":null,\"name\":\"justify_content\"}]},{\"extends\":null,\"module\":null,\"name\":\"TemplateActions1\",\"overrides\":[],\"properties\":[{\"default\":0,\"kind\":null,\"name\":\"open_modal\"},{\"default\":0,\"kind\":null,\"name\":\"close_modal\"}]},{\"extends\":null,\"module\":null,\"name\":\"MaterialTemplateActions1\",\"overrides\":[],\"properties\":[{\"default\":0,\"kind\":null,\"name\":\"open_modal\"},{\"default\":0,\"kind\":null,\"name\":\"close_modal\"}]}],\"roots\":{\"references\":[{\"attributes\":{\"end\":1.042857142857143,\"reset_end\":1.042857142857143,\"reset_start\":-0.04285714285714286,\"start\":-0.04285714285714286,\"tags\":[[[\"TotalCoinsMined\",\"TotalCoinsMined\",null]]]},\"id\":\"1057\",\"type\":\"Range1d\"},{\"attributes\":{\"fill_alpha\":{\"value\":0.1},\"fill_color\":{\"value\":\"#30a2da\"},\"line_alpha\":{\"value\":0.1},\"line_color\":{\"value\":\"#30a2da\"},\"size\":{\"value\":5.477225575051661},\"x\":{\"field\":\"TotalCoinsMined\"},\"y\":{\"field\":\"TotalCoinSupply\"}},\"id\":\"1103\",\"type\":\"Scatter\"},{\"attributes\":{\"source\":{\"id\":\"1099\"}},\"id\":\"1106\",\"type\":\"CDSView\"},{\"attributes\":{\"label\":{\"value\":\"3\"},\"renderers\":[{\"id\":\"1172\"}]},\"id\":\"1190\",\"type\":\"LegendItem\"},{\"attributes\":{},\"id\":\"1115\",\"type\":\"UnionRenderers\"},{\"attributes\":{\"bottom_units\":\"screen\",\"fill_alpha\":0.5,\"fill_color\":\"lightgrey\",\"left_units\":\"screen\",\"level\":\"overlay\",\"line_alpha\":1.0,\"line_color\":\"black\",\"line_dash\":[4,4],\"line_width\":2,\"right_units\":\"screen\",\"syncable\":false,\"top_units\":\"screen\"},\"id\":\"1085\",\"type\":\"BoxAnnotation\"},{\"attributes\":{},\"id\":\"1188\",\"type\":\"UnionRenderers\"},{\"attributes\":{\"fill_alpha\":{\"value\":0.1},\"fill_color\":{\"value\":\"#e5ae38\"},\"line_alpha\":{\"value\":0.1},\"line_color\":{\"value\":\"#e5ae38\"},\"size\":{\"value\":5.477225575051661},\"x\":{\"field\":\"TotalCoinsMined\"},\"y\":{\"field\":\"TotalCoinSupply\"}},\"id\":\"1146\",\"type\":\"Scatter\"},{\"attributes\":{\"angle\":{\"value\":0.0},\"fill_alpha\":{\"value\":1.0},\"fill_color\":{\"value\":\"#fc4f30\"},\"hatch_alpha\":{\"value\":1.0},\"hatch_color\":{\"value\":\"black\"},\"hatch_scale\":{\"value\":12.0},\"hatch_weight\":{\"value\":1.0},\"line_alpha\":{\"value\":1.0},\"line_cap\":{\"value\":\"butt\"},\"line_color\":{\"value\":\"#fc4f30\"},\"line_dash\":{\"value\":[]},\"line_dash_offset\":{\"value\":0},\"line_join\":{\"value\":\"bevel\"},\"line_width\":{\"value\":1},\"marker\":{\"value\":\"circle\"},\"size\":{\"value\":5.477225575051661},\"x\":{\"field\":\"TotalCoinsMined\"},\"y\":{\"field\":\"TotalCoinSupply\"}},\"id\":\"1141\",\"type\":\"Scatter\"},{\"attributes\":{\"data_source\":{\"id\":\"1142\"},\"glyph\":{\"id\":\"1145\"},\"hover_glyph\":null,\"muted_glyph\":{\"id\":\"1147\"},\"nonselection_glyph\":{\"id\":\"1146\"},\"selection_glyph\":{\"id\":\"1165\"},\"view\":{\"id\":\"1149\"}},\"id\":\"1148\",\"type\":\"GlyphRenderer\"},{\"attributes\":{\"callback\":null,\"renderers\":[{\"id\":\"1105\"},{\"id\":\"1126\"},{\"id\":\"1148\"},{\"id\":\"1172\"}],\"tags\":[\"hv_created\"],\"tooltips\":[[\"Class\",\"@{Class}\"],[\"TotalCoinsMined\",\"@{TotalCoinsMined}\"],[\"TotalCoinSupply\",\"@{TotalCoinSupply}\"]]},\"id\":\"1059\",\"type\":\"HoverTool\"},{\"attributes\":{\"end\":1.1,\"reset_end\":1.1,\"reset_start\":-0.1,\"start\":-0.1,\"tags\":[[[\"TotalCoinSupply\",\"TotalCoinSupply\",null]]]},\"id\":\"1058\",\"type\":\"Range1d\"},{\"attributes\":{\"below\":[{\"id\":\"1072\"}],\"center\":[{\"id\":\"1075\"},{\"id\":\"1079\"}],\"height\":300,\"left\":[{\"id\":\"1076\"}],\"margin\":[5,5,5,5],\"min_border_bottom\":10,\"min_border_left\":10,\"min_border_right\":10,\"min_border_top\":10,\"renderers\":[{\"id\":\"1105\"},{\"id\":\"1126\"},{\"id\":\"1148\"},{\"id\":\"1172\"}],\"right\":[{\"id\":\"1117\"}],\"sizing_mode\":\"fixed\",\"title\":{\"id\":\"1064\"},\"toolbar\":{\"id\":\"1086\"},\"width\":700,\"x_range\":{\"id\":\"1057\"},\"x_scale\":{\"id\":\"1068\"},\"y_range\":{\"id\":\"1058\"},\"y_scale\":{\"id\":\"1070\"}},\"id\":\"1063\",\"subtype\":\"Figure\",\"type\":\"Plot\"},{\"attributes\":{},\"id\":\"1143\",\"type\":\"Selection\"},{\"attributes\":{\"source\":{\"id\":\"1142\"}},\"id\":\"1149\",\"type\":\"CDSView\"},{\"attributes\":{},\"id\":\"1167\",\"type\":\"Selection\"},{\"attributes\":{\"fill_color\":{\"value\":\"#e5ae38\"},\"line_color\":{\"value\":\"#e5ae38\"},\"size\":{\"value\":5.477225575051661},\"x\":{\"field\":\"TotalCoinsMined\"},\"y\":{\"field\":\"TotalCoinSupply\"}},\"id\":\"1145\",\"type\":\"Scatter\"},{\"attributes\":{\"fill_alpha\":{\"value\":0.2},\"fill_color\":{\"value\":\"#e5ae38\"},\"line_alpha\":{\"value\":0.2},\"line_color\":{\"value\":\"#e5ae38\"},\"size\":{\"value\":5.477225575051661},\"x\":{\"field\":\"TotalCoinsMined\"},\"y\":{\"field\":\"TotalCoinSupply\"}},\"id\":\"1147\",\"type\":\"Scatter\"},{\"attributes\":{\"angle\":{\"value\":0.0},\"fill_alpha\":{\"value\":1.0},\"fill_color\":{\"value\":\"#6d904f\"},\"hatch_alpha\":{\"value\":1.0},\"hatch_color\":{\"value\":\"black\"},\"hatch_scale\":{\"value\":12.0},\"hatch_weight\":{\"value\":1.0},\"line_alpha\":{\"value\":1.0},\"line_cap\":{\"value\":\"butt\"},\"line_color\":{\"value\":\"#6d904f\"},\"line_dash\":{\"value\":[]},\"line_dash_offset\":{\"value\":0},\"line_join\":{\"value\":\"bevel\"},\"line_width\":{\"value\":1},\"marker\":{\"value\":\"circle\"},\"size\":{\"value\":5.477225575051661},\"x\":{\"field\":\"TotalCoinsMined\"},\"y\":{\"field\":\"TotalCoinSupply\"}},\"id\":\"1191\",\"type\":\"Scatter\"},{\"attributes\":{\"label\":{\"value\":\"2\"},\"renderers\":[{\"id\":\"1148\"}]},\"id\":\"1164\",\"type\":\"LegendItem\"},{\"attributes\":{\"fill_alpha\":{\"value\":0.2},\"fill_color\":{\"value\":\"#30a2da\"},\"line_alpha\":{\"value\":0.2},\"line_color\":{\"value\":\"#30a2da\"},\"size\":{\"value\":5.477225575051661},\"x\":{\"field\":\"TotalCoinsMined\"},\"y\":{\"field\":\"TotalCoinSupply\"}},\"id\":\"1104\",\"type\":\"Scatter\"},{\"attributes\":{},\"id\":\"1094\",\"type\":\"AllLabels\"},{\"attributes\":{\"data_source\":{\"id\":\"1099\"},\"glyph\":{\"id\":\"1102\"},\"hover_glyph\":null,\"muted_glyph\":{\"id\":\"1104\"},\"nonselection_glyph\":{\"id\":\"1103\"},\"selection_glyph\":{\"id\":\"1119\"},\"view\":{\"id\":\"1106\"}},\"id\":\"1105\",\"type\":\"GlyphRenderer\"},{\"attributes\":{\"text_color\":\"black\",\"text_font_size\":\"12pt\"},\"id\":\"1064\",\"type\":\"Title\"},{\"attributes\":{},\"id\":\"1070\",\"type\":\"LinearScale\"},{\"attributes\":{\"angle\":{\"value\":0.0},\"fill_alpha\":{\"value\":1.0},\"fill_color\":{\"value\":\"#30a2da\"},\"hatch_alpha\":{\"value\":1.0},\"hatch_color\":{\"value\":\"black\"},\"hatch_scale\":{\"value\":12.0},\"hatch_weight\":{\"value\":1.0},\"line_alpha\":{\"value\":1.0},\"line_cap\":{\"value\":\"butt\"},\"line_color\":{\"value\":\"#30a2da\"},\"line_dash\":{\"value\":[]},\"line_dash_offset\":{\"value\":0},\"line_join\":{\"value\":\"bevel\"},\"line_width\":{\"value\":1},\"marker\":{\"value\":\"circle\"},\"size\":{\"value\":5.477225575051661},\"x\":{\"field\":\"TotalCoinsMined\"},\"y\":{\"field\":\"TotalCoinSupply\"}},\"id\":\"1119\",\"type\":\"Scatter\"},{\"attributes\":{},\"id\":\"1096\",\"type\":\"BasicTickFormatter\"},{\"attributes\":{\"data_source\":{\"id\":\"1120\"},\"glyph\":{\"id\":\"1123\"},\"hover_glyph\":null,\"muted_glyph\":{\"id\":\"1125\"},\"nonselection_glyph\":{\"id\":\"1124\"},\"selection_glyph\":{\"id\":\"1141\"},\"view\":{\"id\":\"1127\"}},\"id\":\"1126\",\"type\":\"GlyphRenderer\"},{\"attributes\":{},\"id\":\"1162\",\"type\":\"UnionRenderers\"},{\"attributes\":{},\"id\":\"1097\",\"type\":\"AllLabels\"},{\"attributes\":{\"margin\":[5,5,5,5],\"name\":\"HSpacer01813\",\"sizing_mode\":\"stretch_width\"},\"id\":\"1336\",\"type\":\"Spacer\"},{\"attributes\":{\"click_policy\":\"mute\",\"items\":[{\"id\":\"1118\"},{\"id\":\"1140\"},{\"id\":\"1164\"},{\"id\":\"1190\"}],\"location\":[0,0],\"title\":\"Class\"},\"id\":\"1117\",\"type\":\"Legend\"},{\"attributes\":{\"source\":{\"id\":\"1120\"}},\"id\":\"1127\",\"type\":\"CDSView\"},{\"attributes\":{},\"id\":\"1093\",\"type\":\"BasicTickFormatter\"},{\"attributes\":{\"children\":[{\"id\":\"1056\"},{\"id\":\"1063\"},{\"id\":\"1336\"}],\"margin\":[0,0,0,0],\"name\":\"Row01808\",\"tags\":[\"embedded\"]},\"id\":\"1055\",\"type\":\"Row\"},{\"attributes\":{\"data\":{\"Class\":[0,0,0,0,0,0,0,0,0,0,0,0,0,0,0,0,0,0,0,0,0,0,0,0,0,0,0,0,0,0,0,0,0,0,0,0,0,0,0,0,0,0,0,0,0,0,0,0,0,0,0,0,0,0,0,0,0,0,0,0,0,0,0,0,0,0,0,0,0,0,0,0,0,0,0,0,0,0,0,0,0,0,0,0,0,0,0,0,0,0,0,0,0,0,0,0,0,0,0,0,0,0,0,0,0,0,0,0,0,0,0,0,0,0,0,0,0,0,0,0,0,0,0,0,0,0,0,0,0,0,0,0,0,0,0,0,0,0,0,0,0,0,0,0,0,0,0,0,0,0,0,0,0,0,0,0,0,0,0,0,0,0,0,0,0,0,0,0,0,0,0,0,0,0,0,0,0,0,0,0,0,0,0,0,0,0,0,0,0,0,0,0,0,0,0,0,0,0,0,0,0,0,0,0,0,0,0,0,0,0,0,0,0,0,0,0,0,0,0,0,0,0,0,0,0,0,0,0,0,0,0,0,0,0,0,0,0,0,0,0],\"TotalCoinSupply\":{\"__ndarray__\":\"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\",\"dtype\":\"float64\",\"order\":\"little\",\"shape\":[240]},\"TotalCoinsMined\":{\"__ndarray__\":\"r6i7QfH88j5vitZPpIMcP2safiZFsRA/CBAnMBQ48j7wDEJVXgQePwFvcySeR98+S6ekP56Yhz8O0fKLQ3DYPunoanR6nuc+P/QHNS7b6T4I4yegqPBbP4pk9hRmi8k9cMqzLN2IJj8v7oqMShIhP+hFNhs4LN8+ICzRsK4uMT8QbyRNiz0KP59NHRkHtgE/NhWLS7iW3j4HjNNQyO3TPhf3vZ6vK9U+zGWKHw96kD/YQKTwOGuTP/QR9hSJ8Ik/v+Nbg90l9j7UJEJsY/osP53eB+SKpvQ+7OKrfnJdsz7h8m27k6ArPzOFKreVQ00/sp9rdsljET8a/IWo3Q8GPxfWq/5Sbbc/2g1Vrl1W9j4aGveuIA0kP+mrkQNSePQ+w6aYs+e2sj5zk5i3czQEP8Q38CuLaQU/dwwlCTKX2D6/GiTQLZRjP2kcsAWHN+8+WPbFZkYoNj/9tCw6GLayPlG7VH/vpfk+lXaTGbsb+z4TJNibZaVCP11sMg9/Dgc/sbwJ7+tK+D5svacTrE3DPrI5aeKgO4s+Bn6fn5x1tD5Ljct4WoX4PjXfW1HfGQs/ZX20aNqrHz8+VYv99MEEP1hQT91+zMc/EkNUVVGTfD8sNwB0vg4SP7x3FpSAeTs/V09i5Pw0Ij+8Wu9Dc6iIPv0vK9IFKSQ/u43+0IM7Sj+Fn7ZW789HP0XtoIndPRE/RXvZM7732j6tXPx07HrlPkRv+e0tE3M/aJCDWHxzRz/wOSf9uP6kPlQsp9p0Zuo+JVthYlbodz5RI4lAbxABP9C9WRyqHO0+cq2VX2I97z5yy9npd83wPjtGyf0IPwE/zcFpI7cFFD+pIsEbkTvmPi7peHQhHqE/CZb2rYPO8D68ZXludD32PgDbI7+vzSs/t2n0Hb5A6D768QgXA34SP8VZIm+ifJY/qfDDrNPjBz/IH81lZSjYPmbzzSAYkqU+io1ClvJI8j6EVzYip9bbPvB/UyyW7Ow+VIp4kW7kpD5Ztqr0xVm3PvBZKjNxsB4/i2oALxWS4D4AgcASBnTaPnpDQwW4jFA/1DtNvqTwHj/WFD5sjErjPri9zHTrjec+2DMeo0EI4D5jADv2nsH7PoUw/kBpyNc+ov9i+UX9KT9aPV7RHEZLPzuCQ8HDPxA/tcMN/maTsD7UrHW860yuPgxwAoxT0uM+xv90wUrLvz6OM6x+FcZBP9Kf4ZajPOc+Ck3M5oZlyj6rD9eegxcAP/OI8EMuU90+6fmC8iFwGj/Wo9/Kq6TzPsujJZ6E68I+XGxBluj4ED+Bh4j2yXHlPjXeTm3aefU+yXvl+uzOVT9z1k/kEPfsPv9UEsTGRxI/YSp/QHv09D61h4qHSKQhPy+N/AEef/M+hKwqIzTyXT/m4rwM9psCP8kEKAPONPM+528Abuzk1T728NdKYJX7PtQZrzp5OcY+CdfFZ+z/7T70aOzy9tryPhgd90IFFcU/gc0bUEOLYj9LwcxRKDcgPyRl/jd+D/M+/Y1TnL1xoD4ENdImbn3CP/jx38F6juQ+1996s5J88j6p3Vc8E0oBP3gVJ9Mc2wE/uBZMWL/z4j4pupu9+I91P3sMH7KeXWY/uNaq91ym0T7bHSC7aDjyPl7TxYbH/wE/Esjo3RF6Gj88xJCxuDInP9pcGpKPAts+LsltZsEF6z491TfErLXYPniYzdXT4z8/5YO/i7rxkz8tUFOdpxDTPpkfTG2+PUE/YzWXr25EFT+/sGvyzzU9P0ryBjnNZnA/wKP4upcfnz8oDYelxerRPlT2YcShn+A+M9MbVqPYMz/pmLbtWxYIP2UO7kqn9eE+wa/X9f9b9T6YqjPlVz7pPm5x4hl+a7s+rV/sZZR7qz+bphjc7GnUPg3UWvF4uyE/UJ+yE+avhD/Z8QcfT2scP1Ay2BUqT0U/fLYPZ39d6j5mRelkS/qNP2d12Rir+Ss/2C/Wv0FkMD8VqfUeUzIVP9pBgL6BPtE+B3K8ML16+j73YJbAAeUSP1ld1rdd9fw+NvCESHrXAD/KmyQo9vbwPvrTxTPxUPY+9k0et+iY1T78fO4NkvWqPss6YW5nmd0+j5svCLjYdj4Y2eoJf0n0PoNZwjhKW6U/kYALuOL8IT+Czk9u2olCP/WX6VOiNuE+H+Urm2FQ4j7PXtJXZSfVPnjWYoTeAbg+6vBgVo+A8D7RgN8kn7jUPpa9bwjRPO8+uLDcOEq+uT+/lPALjmBhP9ta2gEuQNU+Gw5gKXCp5D5Pq/yKvoVxP1or9CUo4uw+15j5xKgO8z6uFR/LL+ZeP7REtqoIv7o+dmqPzNPI8D6YRvIV+IvsPmrMMqxthps+Gw5UWrivAj+bmw6DVOYCP3FvzQOgo/o+lM2DQKJh6z6yea5Mu7ELP7JfNdwD1bM+fja4QLVnFj8aiAbhOm0NP7DYIMkOpm8/lyfwwS69+D4gof8PEdNJP1hseRLlWPg+ZbOty7CZnj/sBEYPs2gTPxWZdvn0Z9U+VjnBgrtzEj8gMXRQrz3MPvtFfmC/eho/gseFIuXv+T6pGh9y7ThQP37YbI3H6d4+\",\"dtype\":\"float64\",\"order\":\"little\",\"shape\":[240]}},\"selected\":{\"id\":\"1100\"},\"selection_policy\":{\"id\":\"1115\"}},\"id\":\"1099\",\"type\":\"ColumnDataSource\"},{\"attributes\":{},\"id\":\"1073\",\"type\":\"BasicTicker\"},{\"attributes\":{\"fill_alpha\":{\"value\":0.1},\"fill_color\":{\"value\":\"#fc4f30\"},\"line_alpha\":{\"value\":0.1},\"line_color\":{\"value\":\"#fc4f30\"},\"size\":{\"value\":5.477225575051661},\"x\":{\"field\":\"TotalCoinsMined\"},\"y\":{\"field\":\"TotalCoinSupply\"}},\"id\":\"1124\",\"type\":\"Scatter\"},{\"attributes\":{\"axis_label\":\"TotalCoinsMined\",\"formatter\":{\"id\":\"1093\"},\"major_label_policy\":{\"id\":\"1094\"},\"ticker\":{\"id\":\"1073\"}},\"id\":\"1072\",\"type\":\"LinearAxis\"},{\"attributes\":{},\"id\":\"1121\",\"type\":\"Selection\"},{\"attributes\":{\"data\":{\"Class\":[3,3,3,3,3,3],\"TotalCoinSupply\":{\"__ndarray__\":\"+nQumcwytj+U9gZfmEx1P7x5qkNuhks/hFoo4ZaLMD/8qfHSTWJQPyxDHOviNho/\",\"dtype\":\"float64\",\"order\":\"little\",\"shape\":[6]},\"TotalCoinsMined\":{\"__ndarray__\":\"zaDgBxGurD+PWA2R2lNdP5CkxfJKIUU/nBkleI8SKz96Q0MFuIxQP/tFfmC/eho/\",\"dtype\":\"float64\",\"order\":\"little\",\"shape\":[6]}},\"selected\":{\"id\":\"1167\"},\"selection_policy\":{\"id\":\"1188\"}},\"id\":\"1166\",\"type\":\"ColumnDataSource\"},{\"attributes\":{\"data\":{\"Class\":[2],\"TotalCoinSupply\":{\"__ndarray__\":\"rkfhehSu7z8=\",\"dtype\":\"float64\",\"order\":\"little\",\"shape\":[1]},\"TotalCoinsMined\":{\"__ndarray__\":\"AAAAAAAA8D8=\",\"dtype\":\"float64\",\"order\":\"little\",\"shape\":[1]}},\"selected\":{\"id\":\"1143\"},\"selection_policy\":{\"id\":\"1162\"}},\"id\":\"1142\",\"type\":\"ColumnDataSource\"},{\"attributes\":{\"axis\":{\"id\":\"1072\"},\"grid_line_color\":null,\"ticker\":null},\"id\":\"1075\",\"type\":\"Grid\"},{\"attributes\":{\"fill_color\":{\"value\":\"#fc4f30\"},\"line_color\":{\"value\":\"#fc4f30\"},\"size\":{\"value\":5.477225575051661},\"x\":{\"field\":\"TotalCoinsMined\"},\"y\":{\"field\":\"TotalCoinSupply\"}},\"id\":\"1123\",\"type\":\"Scatter\"},{\"attributes\":{\"label\":{\"value\":\"0\"},\"renderers\":[{\"id\":\"1105\"}]},\"id\":\"1118\",\"type\":\"LegendItem\"},{\"attributes\":{},\"id\":\"1081\",\"type\":\"PanTool\"},{\"attributes\":{\"fill_alpha\":{\"value\":0.2},\"fill_color\":{\"value\":\"#fc4f30\"},\"line_alpha\":{\"value\":0.2},\"line_color\":{\"value\":\"#fc4f30\"},\"size\":{\"value\":5.477225575051661},\"x\":{\"field\":\"TotalCoinsMined\"},\"y\":{\"field\":\"TotalCoinSupply\"}},\"id\":\"1125\",\"type\":\"Scatter\"},{\"attributes\":{},\"id\":\"1068\",\"type\":\"LinearScale\"},{\"attributes\":{},\"id\":\"1082\",\"type\":\"WheelZoomTool\"},{\"attributes\":{\"label\":{\"value\":\"1\"},\"renderers\":[{\"id\":\"1126\"}]},\"id\":\"1140\",\"type\":\"LegendItem\"},{\"attributes\":{\"axis_label\":\"TotalCoinSupply\",\"formatter\":{\"id\":\"1096\"},\"major_label_policy\":{\"id\":\"1097\"},\"ticker\":{\"id\":\"1077\"}},\"id\":\"1076\",\"type\":\"LinearAxis\"},{\"attributes\":{\"angle\":{\"value\":0.0},\"fill_alpha\":{\"value\":1.0},\"fill_color\":{\"value\":\"#e5ae38\"},\"hatch_alpha\":{\"value\":1.0},\"hatch_color\":{\"value\":\"black\"},\"hatch_scale\":{\"value\":12.0},\"hatch_weight\":{\"value\":1.0},\"line_alpha\":{\"value\":1.0},\"line_cap\":{\"value\":\"butt\"},\"line_color\":{\"value\":\"#e5ae38\"},\"line_dash\":{\"value\":[]},\"line_dash_offset\":{\"value\":0},\"line_join\":{\"value\":\"bevel\"},\"line_width\":{\"value\":1},\"marker\":{\"value\":\"circle\"},\"size\":{\"value\":5.477225575051661},\"x\":{\"field\":\"TotalCoinsMined\"},\"y\":{\"field\":\"TotalCoinSupply\"}},\"id\":\"1165\",\"type\":\"Scatter\"},{\"attributes\":{\"axis\":{\"id\":\"1076\"},\"dimension\":1,\"grid_line_color\":null,\"ticker\":null},\"id\":\"1079\",\"type\":\"Grid\"},{\"attributes\":{},\"id\":\"1077\",\"type\":\"BasicTicker\"},{\"attributes\":{\"margin\":[5,5,5,5],\"name\":\"HSpacer01812\",\"sizing_mode\":\"stretch_width\"},\"id\":\"1056\",\"type\":\"Spacer\"},{\"attributes\":{},\"id\":\"1080\",\"type\":\"SaveTool\"},{\"attributes\":{\"overlay\":{\"id\":\"1085\"}},\"id\":\"1083\",\"type\":\"BoxZoomTool\"},{\"attributes\":{},\"id\":\"1084\",\"type\":\"ResetTool\"},{\"attributes\":{\"active_multi\":null,\"tools\":[{\"id\":\"1059\"},{\"id\":\"1080\"},{\"id\":\"1081\"},{\"id\":\"1082\"},{\"id\":\"1083\"},{\"id\":\"1084\"}]},\"id\":\"1086\",\"type\":\"Toolbar\"},{\"attributes\":{\"source\":{\"id\":\"1166\"}},\"id\":\"1173\",\"type\":\"CDSView\"},{\"attributes\":{\"fill_color\":{\"value\":\"#30a2da\"},\"line_color\":{\"value\":\"#30a2da\"},\"size\":{\"value\":5.477225575051661},\"x\":{\"field\":\"TotalCoinsMined\"},\"y\":{\"field\":\"TotalCoinSupply\"}},\"id\":\"1102\",\"type\":\"Scatter\"},{\"attributes\":{\"data\":{\"Class\":[1,1,1,1,1,1,1,1,1,1,1,1,1,1,1,1,1,1,1,1,1,1,1,1,1,1,1,1,1,1,1,1,1,1,1,1,1,1,1,1,1,1,1,1,1,1,1,1,1,1,1,1,1,1,1,1,1,1,1,1,1,1,1,1,1,1,1,1,1,1,1,1,1,1,1,1,1,1,1,1,1,1,1,1,1,1,1,1,1,1,1,1,1,1,1,1,1,1,1,1,1,1,1,1,1,1,1,1,1,1,1,1,1,1,1,1,1,1,1,1,1,1,1,1,1,1,1,1,1,1,1,1,1,1,1,1,1,1,1,1,1,1,1,1,1,1,1,1,1,1,1,1,1,1,1,1,1,1,1,1,1,1,1,1,1,1,1,1,1,1,1,1,1,1,1,1,1,1,1,1,1,1,1,1,1,1,1,1,1,1,1,1,1,1,1,1,1,1,1,1,1,1,1,1,1,1,1,1,1,1,1,1,1,1,1,1,1,1,1,1,1,1,1,1,1,1,1,1,1,1,1,1,1,1,1,1,1,1,1,1,1,1,1,1,1,1,1,1,1,1,1,1,1,1,1,1,1,1,1,1,1,1,1,1,1,1,1,1,1,1,1,1,1,1,1,1,1,1,1,1,1,1,1,1,1],\"TotalCoinSupply\":{\"__ndarray__\":\"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\",\"dtype\":\"float64\",\"order\":\"little\",\"shape\":[285]},\"TotalCoinsMined\":{\"__ndarray__\":\"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\",\"dtype\":\"float64\",\"order\":\"little\",\"shape\":[285]}},\"selected\":{\"id\":\"1121\"},\"selection_policy\":{\"id\":\"1138\"}},\"id\":\"1120\",\"type\":\"ColumnDataSource\"},{\"attributes\":{\"fill_alpha\":{\"value\":0.1},\"fill_color\":{\"value\":\"#6d904f\"},\"line_alpha\":{\"value\":0.1},\"line_color\":{\"value\":\"#6d904f\"},\"size\":{\"value\":5.477225575051661},\"x\":{\"field\":\"TotalCoinsMined\"},\"y\":{\"field\":\"TotalCoinSupply\"}},\"id\":\"1170\",\"type\":\"Scatter\"},{\"attributes\":{},\"id\":\"1138\",\"type\":\"UnionRenderers\"},{\"attributes\":{\"data_source\":{\"id\":\"1166\"},\"glyph\":{\"id\":\"1169\"},\"hover_glyph\":null,\"muted_glyph\":{\"id\":\"1171\"},\"nonselection_glyph\":{\"id\":\"1170\"},\"selection_glyph\":{\"id\":\"1191\"},\"view\":{\"id\":\"1173\"}},\"id\":\"1172\",\"type\":\"GlyphRenderer\"},{\"attributes\":{},\"id\":\"1100\",\"type\":\"Selection\"},{\"attributes\":{\"fill_alpha\":{\"value\":0.2},\"fill_color\":{\"value\":\"#6d904f\"},\"line_alpha\":{\"value\":0.2},\"line_color\":{\"value\":\"#6d904f\"},\"size\":{\"value\":5.477225575051661},\"x\":{\"field\":\"TotalCoinsMined\"},\"y\":{\"field\":\"TotalCoinSupply\"}},\"id\":\"1171\",\"type\":\"Scatter\"},{\"attributes\":{\"fill_color\":{\"value\":\"#6d904f\"},\"line_color\":{\"value\":\"#6d904f\"},\"size\":{\"value\":5.477225575051661},\"x\":{\"field\":\"TotalCoinsMined\"},\"y\":{\"field\":\"TotalCoinSupply\"}},\"id\":\"1169\",\"type\":\"Scatter\"}],\"root_ids\":[\"1055\"]},\"title\":\"Bokeh Application\",\"version\":\"2.3.2\"}};\n",
       "    var render_items = [{\"docid\":\"a63da62b-549f-4506-875f-9b4f6e09bc0f\",\"root_ids\":[\"1055\"],\"roots\":{\"1055\":\"26c1d0b9-ef57-4a15-af56-0dd1237ba0d3\"}}];\n",
       "    root.Bokeh.embed.embed_items_notebook(docs_json, render_items);\n",
       "  }\n",
       "  if (root.Bokeh !== undefined && root.Bokeh.Panel !== undefined) {\n",
       "    embed_document(root);\n",
       "  } else {\n",
       "    var attempts = 0;\n",
       "    var timer = setInterval(function(root) {\n",
       "      if (root.Bokeh !== undefined && root.Bokeh.Panel !== undefined) {\n",
       "        clearInterval(timer);\n",
       "        embed_document(root);\n",
       "      } else if (document.readyState == \"complete\") {\n",
       "        attempts++;\n",
       "        if (attempts > 200) {\n",
       "          clearInterval(timer);\n",
       "          console.log(\"Bokeh: ERROR: Unable to run BokehJS code because BokehJS library is missing\");\n",
       "        }\n",
       "      }\n",
       "    }, 25, root)\n",
       "  }\n",
       "})(window);</script>"
      ],
      "text/plain": [
       ":NdOverlay   [Class]\n",
       "   :Scatter   [TotalCoinsMined]   (TotalCoinSupply)"
      ],
      "application/vnd.holoviews_exec.v0+json": ""
     },
     "metadata": {
      "application/vnd.holoviews_exec.v0+json": {
       "id": "1055"
      }
     },
     "execution_count": 30
    }
   ],
   "metadata": {}
  },
  {
   "cell_type": "code",
   "execution_count": null,
   "source": [],
   "outputs": [],
   "metadata": {}
  }
 ],
 "metadata": {
  "file_extension": ".py",
  "kernelspec": {
   "name": "python3",
   "display_name": "Python 3.8.8 64-bit ('base': conda)"
  },
  "language_info": {
   "codemirror_mode": {
    "name": "ipython",
    "version": 3
   },
   "file_extension": ".py",
   "mimetype": "text/x-python",
   "name": "python",
   "nbconvert_exporter": "python",
   "pygments_lexer": "ipython3",
   "version": "3.8.8"
  },
  "latex_envs": {
   "LaTeX_envs_menu_present": true,
   "autoclose": false,
   "autocomplete": true,
   "bibliofile": "biblio.bib",
   "cite_by": "apalike",
   "current_citInitial": 1,
   "eqLabelWithNumbers": true,
   "eqNumInitial": 1,
   "hotkeys": {
    "equation": "Ctrl-E",
    "itemize": "Ctrl-I"
   },
   "labels_anchors": false,
   "latex_user_defs": false,
   "report_style_numbering": false,
   "user_envs_cfg": false
  },
  "mimetype": "text/x-python",
  "name": "python",
  "npconvert_exporter": "python",
  "pygments_lexer": "ipython3",
  "version": 3,
  "interpreter": {
   "hash": "71de3abff34d83a366601b5a469e8d95ab69c61c747e84174c1535fed8439780"
  }
 },
 "nbformat": 4,
 "nbformat_minor": 2
}